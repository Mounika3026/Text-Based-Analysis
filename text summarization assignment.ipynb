{
 "cells": [
  {
   "cell_type": "markdown",
   "id": "f8e10bc7",
   "metadata": {},
   "source": [
    "# text summarization"
   ]
  },
  {
   "cell_type": "code",
   "execution_count": 1,
   "id": "2e8aa5fe",
   "metadata": {},
   "outputs": [
    {
     "name": "stdout",
     "output_type": "stream",
     "text": [
      "Requirement already satisfied: spacy in c:\\users\\mouni\\anaconda3\\lib\\site-packages (3.7.4)\n",
      "Requirement already satisfied: spacy-legacy<3.1.0,>=3.0.11 in c:\\users\\mouni\\anaconda3\\lib\\site-packages (from spacy) (3.0.12)\n",
      "Requirement already satisfied: spacy-loggers<2.0.0,>=1.0.0 in c:\\users\\mouni\\anaconda3\\lib\\site-packages (from spacy) (1.0.5)\n",
      "Requirement already satisfied: murmurhash<1.1.0,>=0.28.0 in c:\\users\\mouni\\anaconda3\\lib\\site-packages (from spacy) (1.0.10)\n",
      "Requirement already satisfied: cymem<2.1.0,>=2.0.2 in c:\\users\\mouni\\anaconda3\\lib\\site-packages (from spacy) (2.0.8)\n",
      "Requirement already satisfied: preshed<3.1.0,>=3.0.2 in c:\\users\\mouni\\anaconda3\\lib\\site-packages (from spacy) (3.0.9)\n",
      "Requirement already satisfied: thinc<8.3.0,>=8.2.2 in c:\\users\\mouni\\anaconda3\\lib\\site-packages (from spacy) (8.2.3)\n",
      "Requirement already satisfied: wasabi<1.2.0,>=0.9.1 in c:\\users\\mouni\\anaconda3\\lib\\site-packages (from spacy) (1.1.2)\n",
      "Requirement already satisfied: srsly<3.0.0,>=2.4.3 in c:\\users\\mouni\\anaconda3\\lib\\site-packages (from spacy) (2.4.8)\n",
      "Requirement already satisfied: catalogue<2.1.0,>=2.0.6 in c:\\users\\mouni\\anaconda3\\lib\\site-packages (from spacy) (2.0.10)\n",
      "Requirement already satisfied: weasel<0.4.0,>=0.1.0 in c:\\users\\mouni\\anaconda3\\lib\\site-packages (from spacy) (0.3.4)\n",
      "Requirement already satisfied: typer<0.10.0,>=0.3.0 in c:\\users\\mouni\\anaconda3\\lib\\site-packages (from spacy) (0.9.4)\n",
      "Requirement already satisfied: smart-open<7.0.0,>=5.2.1 in c:\\users\\mouni\\anaconda3\\lib\\site-packages (from spacy) (5.2.1)\n",
      "Requirement already satisfied: tqdm<5.0.0,>=4.38.0 in c:\\users\\mouni\\anaconda3\\lib\\site-packages (from spacy) (4.65.0)\n",
      "Requirement already satisfied: requests<3.0.0,>=2.13.0 in c:\\users\\mouni\\anaconda3\\lib\\site-packages (from spacy) (2.31.0)\n",
      "Requirement already satisfied: pydantic!=1.8,!=1.8.1,<3.0.0,>=1.7.4 in c:\\users\\mouni\\anaconda3\\lib\\site-packages (from spacy) (1.10.8)\n",
      "Requirement already satisfied: jinja2 in c:\\users\\mouni\\anaconda3\\lib\\site-packages (from spacy) (3.1.2)\n",
      "Requirement already satisfied: setuptools in c:\\users\\mouni\\anaconda3\\lib\\site-packages (from spacy) (68.0.0)\n",
      "Requirement already satisfied: packaging>=20.0 in c:\\users\\mouni\\anaconda3\\lib\\site-packages (from spacy) (23.1)\n",
      "Requirement already satisfied: langcodes<4.0.0,>=3.2.0 in c:\\users\\mouni\\anaconda3\\lib\\site-packages (from spacy) (3.4.0)\n",
      "Requirement already satisfied: numpy>=1.19.0 in c:\\users\\mouni\\anaconda3\\lib\\site-packages (from spacy) (1.24.3)\n",
      "Requirement already satisfied: language-data>=1.2 in c:\\users\\mouni\\anaconda3\\lib\\site-packages (from langcodes<4.0.0,>=3.2.0->spacy) (1.2.0)\n",
      "Requirement already satisfied: typing-extensions>=4.2.0 in c:\\users\\mouni\\anaconda3\\lib\\site-packages (from pydantic!=1.8,!=1.8.1,<3.0.0,>=1.7.4->spacy) (4.7.1)\n",
      "Requirement already satisfied: charset-normalizer<4,>=2 in c:\\users\\mouni\\anaconda3\\lib\\site-packages (from requests<3.0.0,>=2.13.0->spacy) (2.0.4)\n",
      "Requirement already satisfied: idna<4,>=2.5 in c:\\users\\mouni\\anaconda3\\lib\\site-packages (from requests<3.0.0,>=2.13.0->spacy) (3.4)\n",
      "Requirement already satisfied: urllib3<3,>=1.21.1 in c:\\users\\mouni\\anaconda3\\lib\\site-packages (from requests<3.0.0,>=2.13.0->spacy) (1.26.16)\n",
      "Requirement already satisfied: certifi>=2017.4.17 in c:\\users\\mouni\\anaconda3\\lib\\site-packages (from requests<3.0.0,>=2.13.0->spacy) (2024.2.2)\n",
      "Requirement already satisfied: blis<0.8.0,>=0.7.8 in c:\\users\\mouni\\anaconda3\\lib\\site-packages (from thinc<8.3.0,>=8.2.2->spacy) (0.7.11)\n",
      "Requirement already satisfied: confection<1.0.0,>=0.0.1 in c:\\users\\mouni\\anaconda3\\lib\\site-packages (from thinc<8.3.0,>=8.2.2->spacy) (0.1.4)\n",
      "Requirement already satisfied: colorama in c:\\users\\mouni\\anaconda3\\lib\\site-packages (from tqdm<5.0.0,>=4.38.0->spacy) (0.4.6)\n",
      "Requirement already satisfied: click<9.0.0,>=7.1.1 in c:\\users\\mouni\\anaconda3\\lib\\site-packages (from typer<0.10.0,>=0.3.0->spacy) (8.0.4)\n",
      "Requirement already satisfied: cloudpathlib<0.17.0,>=0.7.0 in c:\\users\\mouni\\anaconda3\\lib\\site-packages (from weasel<0.4.0,>=0.1.0->spacy) (0.16.0)\n",
      "Requirement already satisfied: MarkupSafe>=2.0 in c:\\users\\mouni\\anaconda3\\lib\\site-packages (from jinja2->spacy) (2.1.1)\n",
      "Requirement already satisfied: marisa-trie>=0.7.7 in c:\\users\\mouni\\anaconda3\\lib\\site-packages (from language-data>=1.2->langcodes<4.0.0,>=3.2.0->spacy) (1.1.0)\n"
     ]
    }
   ],
   "source": [
    "from nltk.corpus import stopwords #you can remove stop words for speed\n",
    "from nltk.cluster.util import cosine_distance\n",
    "import numpy as np\n",
    "import networkx as nx\n",
    "\n",
    "!pip install spacy\n"
   ]
  },
  {
   "cell_type": "code",
   "execution_count": 2,
   "id": "6a6b8376",
   "metadata": {},
   "outputs": [
    {
     "name": "stdout",
     "output_type": "stream",
     "text": [
      "Collecting es-core-news-sm==3.7.0\n",
      "  Downloading https://github.com/explosion/spacy-models/releases/download/es_core_news_sm-3.7.0/es_core_news_sm-3.7.0-py3-none-any.whl (12.9 MB)\n",
      "     ---------------------------------------- 0.0/12.9 MB ? eta -:--:--\n",
      "     --------------------------------------- 0.0/12.9 MB 222.6 kB/s eta 0:00:58\n",
      "     --------------------------------------- 0.0/12.9 MB 393.8 kB/s eta 0:00:33\n",
      "     --------------------------------------- 0.1/12.9 MB 585.1 kB/s eta 0:00:22\n",
      "      --------------------------------------- 0.2/12.9 MB 1.1 MB/s eta 0:00:12\n",
      "     - -------------------------------------- 0.5/12.9 MB 1.9 MB/s eta 0:00:07\n",
      "     -- ------------------------------------- 0.7/12.9 MB 2.5 MB/s eta 0:00:05\n",
      "     --- ------------------------------------ 1.2/12.9 MB 3.6 MB/s eta 0:00:04\n",
      "     ----- ---------------------------------- 1.7/12.9 MB 4.4 MB/s eta 0:00:03\n",
      "     ------ --------------------------------- 2.1/12.9 MB 4.9 MB/s eta 0:00:03\n",
      "     -------- ------------------------------- 2.8/12.9 MB 5.9 MB/s eta 0:00:02\n",
      "     --------- ------------------------------ 3.0/12.9 MB 5.5 MB/s eta 0:00:02\n",
      "     ---------- ----------------------------- 3.3/12.9 MB 5.8 MB/s eta 0:00:02\n",
      "     ----------- ---------------------------- 3.8/12.9 MB 6.0 MB/s eta 0:00:02\n",
      "     ------------- -------------------------- 4.3/12.9 MB 6.2 MB/s eta 0:00:02\n",
      "     -------------- ------------------------- 4.6/12.9 MB 6.2 MB/s eta 0:00:02\n",
      "     --------------- ------------------------ 5.0/12.9 MB 6.3 MB/s eta 0:00:02\n",
      "     --------------- ------------------------ 5.1/12.9 MB 6.1 MB/s eta 0:00:02\n",
      "     ---------------- ----------------------- 5.3/12.9 MB 6.0 MB/s eta 0:00:02\n",
      "     ---------------- ----------------------- 5.3/12.9 MB 6.0 MB/s eta 0:00:02\n",
      "     ---------------- ----------------------- 5.3/12.9 MB 6.0 MB/s eta 0:00:02\n",
      "     ------------------ --------------------- 6.0/12.9 MB 5.9 MB/s eta 0:00:02\n",
      "     ------------------- -------------------- 6.4/12.9 MB 5.9 MB/s eta 0:00:02\n",
      "     ------------------- -------------------- 6.4/12.9 MB 5.7 MB/s eta 0:00:02\n",
      "     --------------------- ------------------ 6.9/12.9 MB 5.9 MB/s eta 0:00:02\n",
      "     ---------------------- ----------------- 7.1/12.9 MB 5.9 MB/s eta 0:00:01\n",
      "     ---------------------- ----------------- 7.1/12.9 MB 5.8 MB/s eta 0:00:01\n",
      "     ---------------------- ----------------- 7.4/12.9 MB 5.6 MB/s eta 0:00:01\n",
      "     ----------------------- ---------------- 7.4/12.9 MB 5.6 MB/s eta 0:00:01\n",
      "     ----------------------- ---------------- 7.4/12.9 MB 5.6 MB/s eta 0:00:01\n",
      "     ----------------------- ---------------- 7.4/12.9 MB 5.6 MB/s eta 0:00:01\n",
      "     ------------------------- -------------- 8.2/12.9 MB 5.4 MB/s eta 0:00:01\n",
      "     -------------------------- ------------- 8.4/12.9 MB 5.5 MB/s eta 0:00:01\n",
      "     -------------------------- ------------- 8.5/12.9 MB 5.3 MB/s eta 0:00:01\n",
      "     -------------------------- ------------- 8.6/12.9 MB 5.2 MB/s eta 0:00:01\n",
      "     -------------------------- ------------- 8.6/12.9 MB 5.2 MB/s eta 0:00:01\n",
      "     -------------------------- ------------- 8.6/12.9 MB 5.2 MB/s eta 0:00:01\n",
      "     --------------------------- ------------ 8.7/12.9 MB 4.9 MB/s eta 0:00:01\n",
      "     --------------------------- ------------ 8.7/12.9 MB 4.9 MB/s eta 0:00:01\n",
      "     --------------------------- ------------ 8.7/12.9 MB 4.9 MB/s eta 0:00:01\n",
      "     --------------------------- ------------ 8.7/12.9 MB 4.9 MB/s eta 0:00:01\n",
      "     ---------------------------- ----------- 9.1/12.9 MB 4.6 MB/s eta 0:00:01\n",
      "     ---------------------------- ----------- 9.1/12.9 MB 4.6 MB/s eta 0:00:01\n",
      "     ------------------------------ --------- 10.0/12.9 MB 4.8 MB/s eta 0:00:01\n",
      "     ------------------------------- -------- 10.1/12.9 MB 4.8 MB/s eta 0:00:01\n",
      "     -------------------------------- ------- 10.4/12.9 MB 5.2 MB/s eta 0:00:01\n",
      "     -------------------------------- ------- 10.6/12.9 MB 5.2 MB/s eta 0:00:01\n",
      "     --------------------------------- ------ 10.8/12.9 MB 5.2 MB/s eta 0:00:01\n",
      "     ----------------------------------- ---- 11.4/12.9 MB 5.2 MB/s eta 0:00:01\n",
      "     ------------------------------------ --- 11.9/12.9 MB 5.2 MB/s eta 0:00:01\n",
      "     ---------------------------------------  12.6/12.9 MB 5.2 MB/s eta 0:00:01\n",
      "     ---------------------------------------  12.9/12.9 MB 5.1 MB/s eta 0:00:01\n",
      "     ---------------------------------------- 12.9/12.9 MB 5.0 MB/s eta 0:00:00\n",
      "Requirement already satisfied: spacy<3.8.0,>=3.7.0 in c:\\users\\mouni\\anaconda3\\lib\\site-packages (from es-core-news-sm==3.7.0) (3.7.4)\n",
      "Requirement already satisfied: spacy-legacy<3.1.0,>=3.0.11 in c:\\users\\mouni\\anaconda3\\lib\\site-packages (from spacy<3.8.0,>=3.7.0->es-core-news-sm==3.7.0) (3.0.12)\n",
      "Requirement already satisfied: spacy-loggers<2.0.0,>=1.0.0 in c:\\users\\mouni\\anaconda3\\lib\\site-packages (from spacy<3.8.0,>=3.7.0->es-core-news-sm==3.7.0) (1.0.5)\n",
      "Requirement already satisfied: murmurhash<1.1.0,>=0.28.0 in c:\\users\\mouni\\anaconda3\\lib\\site-packages (from spacy<3.8.0,>=3.7.0->es-core-news-sm==3.7.0) (1.0.10)\n",
      "Requirement already satisfied: cymem<2.1.0,>=2.0.2 in c:\\users\\mouni\\anaconda3\\lib\\site-packages (from spacy<3.8.0,>=3.7.0->es-core-news-sm==3.7.0) (2.0.8)\n",
      "Requirement already satisfied: preshed<3.1.0,>=3.0.2 in c:\\users\\mouni\\anaconda3\\lib\\site-packages (from spacy<3.8.0,>=3.7.0->es-core-news-sm==3.7.0) (3.0.9)\n",
      "Requirement already satisfied: thinc<8.3.0,>=8.2.2 in c:\\users\\mouni\\anaconda3\\lib\\site-packages (from spacy<3.8.0,>=3.7.0->es-core-news-sm==3.7.0) (8.2.3)\n",
      "Requirement already satisfied: wasabi<1.2.0,>=0.9.1 in c:\\users\\mouni\\anaconda3\\lib\\site-packages (from spacy<3.8.0,>=3.7.0->es-core-news-sm==3.7.0) (1.1.2)\n",
      "Requirement already satisfied: srsly<3.0.0,>=2.4.3 in c:\\users\\mouni\\anaconda3\\lib\\site-packages (from spacy<3.8.0,>=3.7.0->es-core-news-sm==3.7.0) (2.4.8)\n",
      "Requirement already satisfied: catalogue<2.1.0,>=2.0.6 in c:\\users\\mouni\\anaconda3\\lib\\site-packages (from spacy<3.8.0,>=3.7.0->es-core-news-sm==3.7.0) (2.0.10)\n",
      "Requirement already satisfied: weasel<0.4.0,>=0.1.0 in c:\\users\\mouni\\anaconda3\\lib\\site-packages (from spacy<3.8.0,>=3.7.0->es-core-news-sm==3.7.0) (0.3.4)\n",
      "Requirement already satisfied: typer<0.10.0,>=0.3.0 in c:\\users\\mouni\\anaconda3\\lib\\site-packages (from spacy<3.8.0,>=3.7.0->es-core-news-sm==3.7.0) (0.9.4)\n",
      "Requirement already satisfied: smart-open<7.0.0,>=5.2.1 in c:\\users\\mouni\\anaconda3\\lib\\site-packages (from spacy<3.8.0,>=3.7.0->es-core-news-sm==3.7.0) (5.2.1)\n",
      "Requirement already satisfied: tqdm<5.0.0,>=4.38.0 in c:\\users\\mouni\\anaconda3\\lib\\site-packages (from spacy<3.8.0,>=3.7.0->es-core-news-sm==3.7.0) (4.65.0)\n",
      "Requirement already satisfied: requests<3.0.0,>=2.13.0 in c:\\users\\mouni\\anaconda3\\lib\\site-packages (from spacy<3.8.0,>=3.7.0->es-core-news-sm==3.7.0) (2.31.0)\n",
      "Requirement already satisfied: pydantic!=1.8,!=1.8.1,<3.0.0,>=1.7.4 in c:\\users\\mouni\\anaconda3\\lib\\site-packages (from spacy<3.8.0,>=3.7.0->es-core-news-sm==3.7.0) (1.10.8)\n",
      "Requirement already satisfied: jinja2 in c:\\users\\mouni\\anaconda3\\lib\\site-packages (from spacy<3.8.0,>=3.7.0->es-core-news-sm==3.7.0) (3.1.2)\n",
      "Requirement already satisfied: setuptools in c:\\users\\mouni\\anaconda3\\lib\\site-packages (from spacy<3.8.0,>=3.7.0->es-core-news-sm==3.7.0) (68.0.0)\n",
      "Requirement already satisfied: packaging>=20.0 in c:\\users\\mouni\\anaconda3\\lib\\site-packages (from spacy<3.8.0,>=3.7.0->es-core-news-sm==3.7.0) (23.1)\n",
      "Requirement already satisfied: langcodes<4.0.0,>=3.2.0 in c:\\users\\mouni\\anaconda3\\lib\\site-packages (from spacy<3.8.0,>=3.7.0->es-core-news-sm==3.7.0) (3.4.0)\n",
      "Requirement already satisfied: numpy>=1.19.0 in c:\\users\\mouni\\anaconda3\\lib\\site-packages (from spacy<3.8.0,>=3.7.0->es-core-news-sm==3.7.0) (1.24.3)\n",
      "Requirement already satisfied: language-data>=1.2 in c:\\users\\mouni\\anaconda3\\lib\\site-packages (from langcodes<4.0.0,>=3.2.0->spacy<3.8.0,>=3.7.0->es-core-news-sm==3.7.0) (1.2.0)\n",
      "Requirement already satisfied: typing-extensions>=4.2.0 in c:\\users\\mouni\\anaconda3\\lib\\site-packages (from pydantic!=1.8,!=1.8.1,<3.0.0,>=1.7.4->spacy<3.8.0,>=3.7.0->es-core-news-sm==3.7.0) (4.7.1)\n",
      "Requirement already satisfied: charset-normalizer<4,>=2 in c:\\users\\mouni\\anaconda3\\lib\\site-packages (from requests<3.0.0,>=2.13.0->spacy<3.8.0,>=3.7.0->es-core-news-sm==3.7.0) (2.0.4)\n",
      "Requirement already satisfied: idna<4,>=2.5 in c:\\users\\mouni\\anaconda3\\lib\\site-packages (from requests<3.0.0,>=2.13.0->spacy<3.8.0,>=3.7.0->es-core-news-sm==3.7.0) (3.4)\n",
      "Requirement already satisfied: urllib3<3,>=1.21.1 in c:\\users\\mouni\\anaconda3\\lib\\site-packages (from requests<3.0.0,>=2.13.0->spacy<3.8.0,>=3.7.0->es-core-news-sm==3.7.0) (1.26.16)\n",
      "Requirement already satisfied: certifi>=2017.4.17 in c:\\users\\mouni\\anaconda3\\lib\\site-packages (from requests<3.0.0,>=2.13.0->spacy<3.8.0,>=3.7.0->es-core-news-sm==3.7.0) (2024.2.2)\n",
      "Requirement already satisfied: blis<0.8.0,>=0.7.8 in c:\\users\\mouni\\anaconda3\\lib\\site-packages (from thinc<8.3.0,>=8.2.2->spacy<3.8.0,>=3.7.0->es-core-news-sm==3.7.0) (0.7.11)\n",
      "Requirement already satisfied: confection<1.0.0,>=0.0.1 in c:\\users\\mouni\\anaconda3\\lib\\site-packages (from thinc<8.3.0,>=8.2.2->spacy<3.8.0,>=3.7.0->es-core-news-sm==3.7.0) (0.1.4)\n",
      "Requirement already satisfied: colorama in c:\\users\\mouni\\anaconda3\\lib\\site-packages (from tqdm<5.0.0,>=4.38.0->spacy<3.8.0,>=3.7.0->es-core-news-sm==3.7.0) (0.4.6)\n",
      "Requirement already satisfied: click<9.0.0,>=7.1.1 in c:\\users\\mouni\\anaconda3\\lib\\site-packages (from typer<0.10.0,>=0.3.0->spacy<3.8.0,>=3.7.0->es-core-news-sm==3.7.0) (8.0.4)\n",
      "Requirement already satisfied: cloudpathlib<0.17.0,>=0.7.0 in c:\\users\\mouni\\anaconda3\\lib\\site-packages (from weasel<0.4.0,>=0.1.0->spacy<3.8.0,>=3.7.0->es-core-news-sm==3.7.0) (0.16.0)\n",
      "Requirement already satisfied: MarkupSafe>=2.0 in c:\\users\\mouni\\anaconda3\\lib\\site-packages (from jinja2->spacy<3.8.0,>=3.7.0->es-core-news-sm==3.7.0) (2.1.1)\n",
      "Requirement already satisfied: marisa-trie>=0.7.7 in c:\\users\\mouni\\anaconda3\\lib\\site-packages (from language-data>=1.2->langcodes<4.0.0,>=3.2.0->spacy<3.8.0,>=3.7.0->es-core-news-sm==3.7.0) (1.1.0)\n",
      "\u001b[38;5;2m[+] Download and installation successful\u001b[0m\n",
      "You can now load the package via spacy.load('es_core_news_sm')\n"
     ]
    }
   ],
   "source": [
    "!python -m spacy download es_core_news_sm"
   ]
  },
  {
   "cell_type": "code",
   "execution_count": 3,
   "id": "1a763cff",
   "metadata": {},
   "outputs": [],
   "source": [
    "file = open(r\"C:\\Users\\Mouni\\Downloads\\spanish text.txt\")\n",
    "#This file contains one paragraph of multiple sentences\n",
    "filedata = file.readlines()\n",
    "article = filedata[0].split(\". \") #Just do the first paragraph"
   ]
  },
  {
   "cell_type": "code",
   "execution_count": 4,
   "id": "0d8b0365",
   "metadata": {},
   "outputs": [
    {
     "name": "stdout",
     "output_type": "stream",
     "text": [
      "\"Incluso en Ã¡reas como la educaciÃ³n y el entretenimiento, la inteligencia artificial estÃ¡ dejando su huella\n",
      "En la educaciÃ³n, los sistemas de IA pueden adaptar el contenido de aprendizaje a las necesidades individuales de los estudiantes, proporcionando una experiencia de aprendizaje mÃ¡s personalizada y efectiva\n",
      "En el Ã¡mbito del entretenimiento, los algoritmos de recomendaciÃ³n impulsados por IA pueden sugerir pelÃ­culas, mÃºsica o libros que se adapten perfectamente a los gustos y preferencias de cada usuario.AdemÃ¡s, la inteligencia artificial estÃ¡ desempeÃ±ando un papel fundamental en la toma de decisiones empresariales\n",
      "A travÃ©s del anÃ¡lisis de datos avanzado, las empresas pueden obtener informaciÃ³n valiosa sobre las tendencias del mercado, el comportamiento del consumidor y las oportunidades de crecimiento\n",
      "Esto les permite tomar decisiones mÃ¡s informadas y estratÃ©gicas, aumentando su competitividad y eficiencia operativa.Sin embargo, junto con los beneficios de la inteligencia artificial, tambiÃ©n surgen desafÃ­os y preocupaciones\n",
      "La Ã©tica en el uso de la IA, la privacidad de los datos y el sesgo algorÃ­tmico son temas que requieren una atenciÃ³n cuidadosa y un marco regulatorio adecuado para garantizar que la IA se utilice de manera responsable y equitativa.En resumen, la inteligencia artificial estÃ¡ en el centro de la revoluciÃ³n tecnolÃ³gica del siglo XXI, transformando radicalmente la forma en que vivimos, trabajamos y nos relacionamos\n",
      "A medida que continuamos explorando sus capacidades y aplicaciones, es esencial abordar tanto sus promesas como sus desafÃ­os, asegurando que se utilice para el bienestar y el progreso de la humanidad.\"\n"
     ]
    }
   ],
   "source": [
    "sentences = []\n",
    "for sentence in article:\n",
    "    print(sentence)\n",
    "    sentences.append(sentence.replace(\"[^a-zA-Z]\", \" \").split(\" \"))"
   ]
  },
  {
   "cell_type": "code",
   "execution_count": 5,
   "id": "6d28c65f",
   "metadata": {},
   "outputs": [
    {
     "name": "stdout",
     "output_type": "stream",
     "text": [
      "Sentences are  [['\"Incluso', 'en', 'Ã¡reas', 'como', 'la', 'educaciÃ³n', 'y', 'el', 'entretenimiento,', 'la', 'inteligencia', 'artificial', 'estÃ¡', 'dejando', 'su', 'huella'], ['En', 'la', 'educaciÃ³n,', 'los', 'sistemas', 'de', 'IA', 'pueden', 'adaptar', 'el', 'contenido', 'de', 'aprendizaje', 'a', 'las', 'necesidades', 'individuales', 'de', 'los', 'estudiantes,', 'proporcionando', 'una', 'experiencia', 'de', 'aprendizaje', 'mÃ¡s', 'personalizada', 'y', 'efectiva'], ['En', 'el', 'Ã¡mbito', 'del', 'entretenimiento,', 'los', 'algoritmos', 'de', 'recomendaciÃ³n', 'impulsados', 'por', 'IA', 'pueden', 'sugerir', 'pelÃ\\xadculas,', 'mÃºsica', 'o', 'libros', 'que', 'se', 'adapten', 'perfectamente', 'a', 'los', 'gustos', 'y', 'preferencias', 'de', 'cada', 'usuario.AdemÃ¡s,', 'la', 'inteligencia', 'artificial', 'estÃ¡', 'desempeÃ±ando', 'un', 'papel', 'fundamental', 'en', 'la', 'toma', 'de', 'decisiones', 'empresariales'], ['A', 'travÃ©s', 'del', 'anÃ¡lisis', 'de', 'datos', 'avanzado,', 'las', 'empresas', 'pueden', 'obtener', 'informaciÃ³n', 'valiosa', 'sobre', 'las', 'tendencias', 'del', 'mercado,', 'el', 'comportamiento', 'del', 'consumidor', 'y', 'las', 'oportunidades', 'de', 'crecimiento'], ['Esto', 'les', 'permite', 'tomar', 'decisiones', 'mÃ¡s', 'informadas', 'y', 'estratÃ©gicas,', 'aumentando', 'su', 'competitividad', 'y', 'eficiencia', 'operativa.Sin', 'embargo,', 'junto', 'con', 'los', 'beneficios', 'de', 'la', 'inteligencia', 'artificial,', 'tambiÃ©n', 'surgen', 'desafÃ\\xados', 'y', 'preocupaciones'], ['La', 'Ã©tica', 'en', 'el', 'uso', 'de', 'la', 'IA,', 'la', 'privacidad', 'de', 'los', 'datos', 'y', 'el', 'sesgo', 'algorÃ\\xadtmico', 'son', 'temas', 'que', 'requieren', 'una', 'atenciÃ³n', 'cuidadosa', 'y', 'un', 'marco', 'regulatorio', 'adecuado', 'para', 'garantizar', 'que', 'la', 'IA', 'se', 'utilice', 'de', 'manera', 'responsable', 'y', 'equitativa.En', 'resumen,', 'la', 'inteligencia', 'artificial', 'estÃ¡', 'en', 'el', 'centro', 'de', 'la', 'revoluciÃ³n', 'tecnolÃ³gica', 'del', 'siglo', 'XXI,', 'transformando', 'radicalmente', 'la', 'forma', 'en', 'que', 'vivimos,', 'trabajamos', 'y', 'nos', 'relacionamos'], ['A', 'medida', 'que', 'continuamos', 'explorando', 'sus', 'capacidades', 'y', 'aplicaciones,', 'es', 'esencial', 'abordar', 'tanto', 'sus', 'promesas', 'como', 'sus', 'desafÃ\\xados,', 'asegurando', 'que', 'se', 'utilice', 'para', 'el', 'bienestar', 'y', 'el', 'progreso', 'de', 'la', 'humanidad.\"']]\n"
     ]
    }
   ],
   "source": [
    "print(\"Sentences are \", sentences)"
   ]
  },
  {
   "cell_type": "code",
   "execution_count": 6,
   "id": "99865415",
   "metadata": {},
   "outputs": [],
   "source": [
    "def sentence_similarity(sent1, sent2 ):\n",
    "    sent1 = [w.lower() for w in sent1]\n",
    "    sent2 = [w.lower() for w in sent2]\n",
    "    all_words = list(set(sent1 + sent2))\n",
    "    vector1 = [0] * len(all_words)\n",
    "    vector2 = [0] * len(all_words)\n",
    "# build the vector for the first sentence\n",
    "    for w in sent1:\n",
    "        vector1[all_words.index(w)] += 1\n",
    "# build the vector for the second sentence\n",
    "    for w in sent2:\n",
    "        vector2[all_words.index(w)] += 1\n",
    "    return 1 - cosine_distance(vector1, vector2)"
   ]
  },
  {
   "cell_type": "code",
   "execution_count": 7,
   "id": "23932718",
   "metadata": {},
   "outputs": [],
   "source": [
    "similarity_matrix = np.zeros((len(sentences), len(sentences)))\n"
   ]
  },
  {
   "cell_type": "code",
   "execution_count": 8,
   "id": "41a85c4e",
   "metadata": {},
   "outputs": [],
   "source": [
    "for idx1 in range(len(sentences)):\n",
    "    for idx2 in range(len(sentences)):\n",
    "        if idx1 == idx2: #ignore if both are same sentences\n",
    "            continue\n",
    "        similarity_matrix[idx1][idx2] = sentence_similarity(sentences[idx1],sentences[idx2])"
   ]
  },
  {
   "cell_type": "code",
   "execution_count": 9,
   "id": "4bd95330",
   "metadata": {},
   "outputs": [
    {
     "name": "stdout",
     "output_type": "stream",
     "text": [
      "Smilarity matrix \n",
      " [[0.         0.17568209 0.37796447 0.07362102 0.27888668 0.5178918\n",
      "  0.2516098 ]\n",
      " [0.17568209 0.         0.49801192 0.34921515 0.27717395 0.44885596\n",
      "  0.22733145]\n",
      " [0.37796447 0.49801192 0.         0.27130476 0.27105237 0.55460999\n",
      "  0.26492022]\n",
      " [0.07362102 0.34921515 0.27130476 0.         0.13199092 0.24147557\n",
      "  0.16671393]\n",
      " [0.27888668 0.27717395 0.27105237 0.13199092 0.         0.34388839\n",
      "  0.2062157 ]\n",
      " [0.5178918  0.44885596 0.55460999 0.24147557 0.34388839 0.\n",
      "  0.42194536]\n",
      " [0.2516098  0.22733145 0.26492022 0.16671393 0.2062157  0.42194536\n",
      "  0.        ]]\n"
     ]
    }
   ],
   "source": [
    "print(\"Smilarity matrix \\n\", similarity_matrix)"
   ]
  },
  {
   "cell_type": "code",
   "execution_count": 10,
   "id": "24c36092",
   "metadata": {},
   "outputs": [
    {
     "name": "stdout",
     "output_type": "stream",
     "text": [
      "scores {0: 0.13278958505032626, 1: 0.15417782234791874, 2: 0.17177095752516164, 3: 0.10331506341700972, 4: 0.12198469017834698, 5: 0.19196913303226573, 6: 0.12399274844897089}\n"
     ]
    }
   ],
   "source": [
    "sentence_similarity_graph =nx.from_numpy_array(similarity_matrix)\n",
    "scores = nx.pagerank(sentence_similarity_graph)\n",
    "print(\"scores\", scores)"
   ]
  },
  {
   "cell_type": "code",
   "execution_count": 11,
   "id": "facce383",
   "metadata": {},
   "outputs": [
    {
     "name": "stdout",
     "output_type": "stream",
     "text": [
      "Indexes of top ranked_sentence order are \n",
      "\n",
      " [(0.19196913303226573, ['La', 'Ã©tica', 'en', 'el', 'uso', 'de', 'la', 'IA,', 'la', 'privacidad', 'de', 'los', 'datos', 'y', 'el', 'sesgo', 'algorÃ\\xadtmico', 'son', 'temas', 'que', 'requieren', 'una', 'atenciÃ³n', 'cuidadosa', 'y', 'un', 'marco', 'regulatorio', 'adecuado', 'para', 'garantizar', 'que', 'la', 'IA', 'se', 'utilice', 'de', 'manera', 'responsable', 'y', 'equitativa.En', 'resumen,', 'la', 'inteligencia', 'artificial', 'estÃ¡', 'en', 'el', 'centro', 'de', 'la', 'revoluciÃ³n', 'tecnolÃ³gica', 'del', 'siglo', 'XXI,', 'transformando', 'radicalmente', 'la', 'forma', 'en', 'que', 'vivimos,', 'trabajamos', 'y', 'nos', 'relacionamos']), (0.17177095752516164, ['En', 'el', 'Ã¡mbito', 'del', 'entretenimiento,', 'los', 'algoritmos', 'de', 'recomendaciÃ³n', 'impulsados', 'por', 'IA', 'pueden', 'sugerir', 'pelÃ\\xadculas,', 'mÃºsica', 'o', 'libros', 'que', 'se', 'adapten', 'perfectamente', 'a', 'los', 'gustos', 'y', 'preferencias', 'de', 'cada', 'usuario.AdemÃ¡s,', 'la', 'inteligencia', 'artificial', 'estÃ¡', 'desempeÃ±ando', 'un', 'papel', 'fundamental', 'en', 'la', 'toma', 'de', 'decisiones', 'empresariales']), (0.15417782234791874, ['En', 'la', 'educaciÃ³n,', 'los', 'sistemas', 'de', 'IA', 'pueden', 'adaptar', 'el', 'contenido', 'de', 'aprendizaje', 'a', 'las', 'necesidades', 'individuales', 'de', 'los', 'estudiantes,', 'proporcionando', 'una', 'experiencia', 'de', 'aprendizaje', 'mÃ¡s', 'personalizada', 'y', 'efectiva']), (0.13278958505032626, ['\"Incluso', 'en', 'Ã¡reas', 'como', 'la', 'educaciÃ³n', 'y', 'el', 'entretenimiento,', 'la', 'inteligencia', 'artificial', 'estÃ¡', 'dejando', 'su', 'huella']), (0.12399274844897089, ['A', 'medida', 'que', 'continuamos', 'explorando', 'sus', 'capacidades', 'y', 'aplicaciones,', 'es', 'esencial', 'abordar', 'tanto', 'sus', 'promesas', 'como', 'sus', 'desafÃ\\xados,', 'asegurando', 'que', 'se', 'utilice', 'para', 'el', 'bienestar', 'y', 'el', 'progreso', 'de', 'la', 'humanidad.\"']), (0.12198469017834698, ['Esto', 'les', 'permite', 'tomar', 'decisiones', 'mÃ¡s', 'informadas', 'y', 'estratÃ©gicas,', 'aumentando', 'su', 'competitividad', 'y', 'eficiencia', 'operativa.Sin', 'embargo,', 'junto', 'con', 'los', 'beneficios', 'de', 'la', 'inteligencia', 'artificial,', 'tambiÃ©n', 'surgen', 'desafÃ\\xados', 'y', 'preocupaciones']), (0.10331506341700972, ['A', 'travÃ©s', 'del', 'anÃ¡lisis', 'de', 'datos', 'avanzado,', 'las', 'empresas', 'pueden', 'obtener', 'informaciÃ³n', 'valiosa', 'sobre', 'las', 'tendencias', 'del', 'mercado,', 'el', 'comportamiento', 'del', 'consumidor', 'y', 'las', 'oportunidades', 'de', 'crecimiento'])]\n"
     ]
    }
   ],
   "source": [
    "ranked_sentence = sorted(((scores[i],s) for i,s in enumerate(sentences)), reverse=True)\n",
    "print(\"Indexes of top ranked_sentence order are \\n\\n\",ranked_sentence)"
   ]
  },
  {
   "cell_type": "code",
   "execution_count": 12,
   "id": "8293db0a",
   "metadata": {},
   "outputs": [
    {
     "name": "stdout",
     "output_type": "stream",
     "text": [
      "How many sentences do you want in the summary? 2\n"
     ]
    }
   ],
   "source": [
    "n = int(input(\"How many sentences do you want in the summary? \"))\n",
    "#n=2\n",
    "summarize_text = []\n",
    "for i in range(n):\n",
    "    summarize_text.append(\" \".join(ranked_sentence[i][1]))"
   ]
  },
  {
   "cell_type": "code",
   "execution_count": 13,
   "id": "208e9220",
   "metadata": {},
   "outputs": [
    {
     "name": "stdout",
     "output_type": "stream",
     "text": [
      "Summarize Text: \n",
      " La Ã©tica en el uso de la IA, la privacidad de los datos y el sesgo algorÃ­tmico son temas que requieren una atenciÃ³n cuidadosa y un marco regulatorio adecuado para garantizar que la IA se utilice de manera responsable y equitativa.En resumen, la inteligencia artificial estÃ¡ en el centro de la revoluciÃ³n tecnolÃ³gica del siglo XXI, transformando radicalmente la forma en que vivimos, trabajamos y nos relacionamos. En el Ã¡mbito del entretenimiento, los algoritmos de recomendaciÃ³n impulsados por IA pueden sugerir pelÃ­culas, mÃºsica o libros que se adapten perfectamente a los gustos y preferencias de cada usuario.AdemÃ¡s, la inteligencia artificial estÃ¡ desempeÃ±ando un papel fundamental en la toma de decisiones empresariales\n"
     ]
    }
   ],
   "source": [
    "# Offcourse, output the summarize text\n",
    "print(\"Summarize Text: \\n\", \". \".join(summarize_text))\n"
   ]
  },
  {
   "cell_type": "markdown",
   "id": "0801fc56",
   "metadata": {},
   "source": [
    "# test 2"
   ]
  },
  {
   "cell_type": "code",
   "execution_count": 14,
   "id": "2b9e5b26",
   "metadata": {},
   "outputs": [
    {
     "name": "stdout",
     "output_type": "stream",
     "text": [
      "Collecting de-core-news-sm==3.7.0\n",
      "  Downloading https://github.com/explosion/spacy-models/releases/download/de_core_news_sm-3.7.0/de_core_news_sm-3.7.0-py3-none-any.whl (14.6 MB)\n",
      "     ---------------------------------------- 0.0/14.6 MB ? eta -:--:--\n",
      "     ---------------------------------------- 0.0/14.6 MB ? eta -:--:--\n",
      "     --------------------------------------- 0.0/14.6 MB 325.1 kB/s eta 0:00:45\n",
      "     --------------------------------------- 0.1/14.6 MB 655.4 kB/s eta 0:00:23\n",
      "      --------------------------------------- 0.3/14.6 MB 1.6 MB/s eta 0:00:09\n",
      "     - -------------------------------------- 0.5/14.6 MB 2.5 MB/s eta 0:00:06\n",
      "     -- ------------------------------------- 0.8/14.6 MB 2.7 MB/s eta 0:00:06\n",
      "     -- ------------------------------------- 1.1/14.6 MB 3.6 MB/s eta 0:00:04\n",
      "     --- ------------------------------------ 1.2/14.6 MB 3.4 MB/s eta 0:00:04\n",
      "     --- ------------------------------------ 1.4/14.6 MB 3.5 MB/s eta 0:00:04\n",
      "     ---- ----------------------------------- 1.6/14.6 MB 3.4 MB/s eta 0:00:04\n",
      "     ---- ----------------------------------- 1.7/14.6 MB 3.3 MB/s eta 0:00:04\n",
      "     ---- ----------------------------------- 1.7/14.6 MB 3.0 MB/s eta 0:00:05\n",
      "     ----- ---------------------------------- 2.0/14.6 MB 3.2 MB/s eta 0:00:04\n",
      "     ----- ---------------------------------- 2.0/14.6 MB 3.0 MB/s eta 0:00:05\n",
      "     ------- -------------------------------- 2.7/14.6 MB 3.7 MB/s eta 0:00:04\n",
      "     ------- -------------------------------- 2.8/14.6 MB 3.7 MB/s eta 0:00:04\n",
      "     -------- ------------------------------- 3.2/14.6 MB 3.9 MB/s eta 0:00:03\n",
      "     ---------- ----------------------------- 3.8/14.6 MB 4.5 MB/s eta 0:00:03\n",
      "     ----------- ---------------------------- 4.1/14.6 MB 4.5 MB/s eta 0:00:03\n",
      "     ------------ --------------------------- 4.6/14.6 MB 4.8 MB/s eta 0:00:03\n",
      "     ------------- -------------------------- 4.8/14.6 MB 4.8 MB/s eta 0:00:03\n",
      "     -------------- ------------------------- 5.4/14.6 MB 5.1 MB/s eta 0:00:02\n",
      "     --------------- ------------------------ 5.5/14.6 MB 5.1 MB/s eta 0:00:02\n",
      "     --------------- ------------------------ 5.8/14.6 MB 5.2 MB/s eta 0:00:02\n",
      "     ---------------- ----------------------- 6.2/14.6 MB 5.3 MB/s eta 0:00:02\n",
      "     ----------------- ---------------------- 6.5/14.6 MB 5.2 MB/s eta 0:00:02\n",
      "     ----------------- ---------------------- 6.5/14.6 MB 5.2 MB/s eta 0:00:02\n",
      "     ------------------- -------------------- 7.1/14.6 MB 5.4 MB/s eta 0:00:02\n",
      "     ------------------- -------------------- 7.3/14.6 MB 5.3 MB/s eta 0:00:02\n",
      "     ------------------- -------------------- 7.3/14.6 MB 5.3 MB/s eta 0:00:02\n",
      "     --------------------- ------------------ 8.0/14.6 MB 5.5 MB/s eta 0:00:02\n",
      "     ---------------------- ----------------- 8.3/14.6 MB 5.4 MB/s eta 0:00:02\n",
      "     ---------------------- ----------------- 8.3/14.6 MB 5.4 MB/s eta 0:00:02\n",
      "     ---------------------- ----------------- 8.3/14.6 MB 5.2 MB/s eta 0:00:02\n",
      "     ------------------------ --------------- 9.0/14.6 MB 5.3 MB/s eta 0:00:02\n",
      "     ------------------------ --------------- 9.1/14.6 MB 5.2 MB/s eta 0:00:02\n",
      "     ------------------------- -------------- 9.5/14.6 MB 5.3 MB/s eta 0:00:01\n",
      "     -------------------------- ------------- 9.5/14.6 MB 5.2 MB/s eta 0:00:01\n",
      "     --------------------------- ------------ 9.9/14.6 MB 5.2 MB/s eta 0:00:01\n",
      "     ---------------------------- ----------- 10.3/14.6 MB 5.6 MB/s eta 0:00:01\n",
      "     ----------------------------- ---------- 10.6/14.6 MB 5.7 MB/s eta 0:00:01\n",
      "     ------------------------------ --------- 11.2/14.6 MB 5.8 MB/s eta 0:00:01\n",
      "     ------------------------------- -------- 11.5/14.6 MB 6.1 MB/s eta 0:00:01\n",
      "     -------------------------------- ------- 11.8/14.6 MB 6.0 MB/s eta 0:00:01\n",
      "     --------------------------------- ------ 12.1/14.6 MB 6.5 MB/s eta 0:00:01\n",
      "     ---------------------------------- ----- 12.7/14.6 MB 6.8 MB/s eta 0:00:01\n",
      "     ----------------------------------- ---- 13.2/14.6 MB 6.8 MB/s eta 0:00:01\n",
      "     ------------------------------------- -- 13.6/14.6 MB 6.8 MB/s eta 0:00:01\n",
      "     -------------------------------------- - 14.0/14.6 MB 6.9 MB/s eta 0:00:01\n",
      "     ---------------------------------------  14.6/14.6 MB 7.0 MB/s eta 0:00:01\n",
      "     ---------------------------------------- 14.6/14.6 MB 6.7 MB/s eta 0:00:00\n",
      "Requirement already satisfied: spacy<3.8.0,>=3.7.0 in c:\\users\\mouni\\anaconda3\\lib\\site-packages (from de-core-news-sm==3.7.0) (3.7.4)\n",
      "Requirement already satisfied: spacy-legacy<3.1.0,>=3.0.11 in c:\\users\\mouni\\anaconda3\\lib\\site-packages (from spacy<3.8.0,>=3.7.0->de-core-news-sm==3.7.0) (3.0.12)\n",
      "Requirement already satisfied: spacy-loggers<2.0.0,>=1.0.0 in c:\\users\\mouni\\anaconda3\\lib\\site-packages (from spacy<3.8.0,>=3.7.0->de-core-news-sm==3.7.0) (1.0.5)\n",
      "Requirement already satisfied: murmurhash<1.1.0,>=0.28.0 in c:\\users\\mouni\\anaconda3\\lib\\site-packages (from spacy<3.8.0,>=3.7.0->de-core-news-sm==3.7.0) (1.0.10)\n",
      "Requirement already satisfied: cymem<2.1.0,>=2.0.2 in c:\\users\\mouni\\anaconda3\\lib\\site-packages (from spacy<3.8.0,>=3.7.0->de-core-news-sm==3.7.0) (2.0.8)\n",
      "Requirement already satisfied: preshed<3.1.0,>=3.0.2 in c:\\users\\mouni\\anaconda3\\lib\\site-packages (from spacy<3.8.0,>=3.7.0->de-core-news-sm==3.7.0) (3.0.9)\n",
      "Requirement already satisfied: thinc<8.3.0,>=8.2.2 in c:\\users\\mouni\\anaconda3\\lib\\site-packages (from spacy<3.8.0,>=3.7.0->de-core-news-sm==3.7.0) (8.2.3)\n",
      "Requirement already satisfied: wasabi<1.2.0,>=0.9.1 in c:\\users\\mouni\\anaconda3\\lib\\site-packages (from spacy<3.8.0,>=3.7.0->de-core-news-sm==3.7.0) (1.1.2)\n",
      "Requirement already satisfied: srsly<3.0.0,>=2.4.3 in c:\\users\\mouni\\anaconda3\\lib\\site-packages (from spacy<3.8.0,>=3.7.0->de-core-news-sm==3.7.0) (2.4.8)\n",
      "Requirement already satisfied: catalogue<2.1.0,>=2.0.6 in c:\\users\\mouni\\anaconda3\\lib\\site-packages (from spacy<3.8.0,>=3.7.0->de-core-news-sm==3.7.0) (2.0.10)\n",
      "Requirement already satisfied: weasel<0.4.0,>=0.1.0 in c:\\users\\mouni\\anaconda3\\lib\\site-packages (from spacy<3.8.0,>=3.7.0->de-core-news-sm==3.7.0) (0.3.4)\n",
      "Requirement already satisfied: typer<0.10.0,>=0.3.0 in c:\\users\\mouni\\anaconda3\\lib\\site-packages (from spacy<3.8.0,>=3.7.0->de-core-news-sm==3.7.0) (0.9.4)\n",
      "Requirement already satisfied: smart-open<7.0.0,>=5.2.1 in c:\\users\\mouni\\anaconda3\\lib\\site-packages (from spacy<3.8.0,>=3.7.0->de-core-news-sm==3.7.0) (5.2.1)\n",
      "Requirement already satisfied: tqdm<5.0.0,>=4.38.0 in c:\\users\\mouni\\anaconda3\\lib\\site-packages (from spacy<3.8.0,>=3.7.0->de-core-news-sm==3.7.0) (4.65.0)\n",
      "Requirement already satisfied: requests<3.0.0,>=2.13.0 in c:\\users\\mouni\\anaconda3\\lib\\site-packages (from spacy<3.8.0,>=3.7.0->de-core-news-sm==3.7.0) (2.31.0)\n",
      "Requirement already satisfied: pydantic!=1.8,!=1.8.1,<3.0.0,>=1.7.4 in c:\\users\\mouni\\anaconda3\\lib\\site-packages (from spacy<3.8.0,>=3.7.0->de-core-news-sm==3.7.0) (1.10.8)\n",
      "Requirement already satisfied: jinja2 in c:\\users\\mouni\\anaconda3\\lib\\site-packages (from spacy<3.8.0,>=3.7.0->de-core-news-sm==3.7.0) (3.1.2)\n",
      "Requirement already satisfied: setuptools in c:\\users\\mouni\\anaconda3\\lib\\site-packages (from spacy<3.8.0,>=3.7.0->de-core-news-sm==3.7.0) (68.0.0)\n",
      "Requirement already satisfied: packaging>=20.0 in c:\\users\\mouni\\anaconda3\\lib\\site-packages (from spacy<3.8.0,>=3.7.0->de-core-news-sm==3.7.0) (23.1)\n",
      "Requirement already satisfied: langcodes<4.0.0,>=3.2.0 in c:\\users\\mouni\\anaconda3\\lib\\site-packages (from spacy<3.8.0,>=3.7.0->de-core-news-sm==3.7.0) (3.4.0)\n",
      "Requirement already satisfied: numpy>=1.19.0 in c:\\users\\mouni\\anaconda3\\lib\\site-packages (from spacy<3.8.0,>=3.7.0->de-core-news-sm==3.7.0) (1.24.3)\n",
      "Requirement already satisfied: language-data>=1.2 in c:\\users\\mouni\\anaconda3\\lib\\site-packages (from langcodes<4.0.0,>=3.2.0->spacy<3.8.0,>=3.7.0->de-core-news-sm==3.7.0) (1.2.0)\n",
      "Requirement already satisfied: typing-extensions>=4.2.0 in c:\\users\\mouni\\anaconda3\\lib\\site-packages (from pydantic!=1.8,!=1.8.1,<3.0.0,>=1.7.4->spacy<3.8.0,>=3.7.0->de-core-news-sm==3.7.0) (4.7.1)\n",
      "Requirement already satisfied: charset-normalizer<4,>=2 in c:\\users\\mouni\\anaconda3\\lib\\site-packages (from requests<3.0.0,>=2.13.0->spacy<3.8.0,>=3.7.0->de-core-news-sm==3.7.0) (2.0.4)\n",
      "Requirement already satisfied: idna<4,>=2.5 in c:\\users\\mouni\\anaconda3\\lib\\site-packages (from requests<3.0.0,>=2.13.0->spacy<3.8.0,>=3.7.0->de-core-news-sm==3.7.0) (3.4)\n",
      "Requirement already satisfied: urllib3<3,>=1.21.1 in c:\\users\\mouni\\anaconda3\\lib\\site-packages (from requests<3.0.0,>=2.13.0->spacy<3.8.0,>=3.7.0->de-core-news-sm==3.7.0) (1.26.16)\n",
      "Requirement already satisfied: certifi>=2017.4.17 in c:\\users\\mouni\\anaconda3\\lib\\site-packages (from requests<3.0.0,>=2.13.0->spacy<3.8.0,>=3.7.0->de-core-news-sm==3.7.0) (2024.2.2)\n",
      "Requirement already satisfied: blis<0.8.0,>=0.7.8 in c:\\users\\mouni\\anaconda3\\lib\\site-packages (from thinc<8.3.0,>=8.2.2->spacy<3.8.0,>=3.7.0->de-core-news-sm==3.7.0) (0.7.11)\n",
      "Requirement already satisfied: confection<1.0.0,>=0.0.1 in c:\\users\\mouni\\anaconda3\\lib\\site-packages (from thinc<8.3.0,>=8.2.2->spacy<3.8.0,>=3.7.0->de-core-news-sm==3.7.0) (0.1.4)\n",
      "Requirement already satisfied: colorama in c:\\users\\mouni\\anaconda3\\lib\\site-packages (from tqdm<5.0.0,>=4.38.0->spacy<3.8.0,>=3.7.0->de-core-news-sm==3.7.0) (0.4.6)\n",
      "Requirement already satisfied: click<9.0.0,>=7.1.1 in c:\\users\\mouni\\anaconda3\\lib\\site-packages (from typer<0.10.0,>=0.3.0->spacy<3.8.0,>=3.7.0->de-core-news-sm==3.7.0) (8.0.4)\n",
      "Requirement already satisfied: cloudpathlib<0.17.0,>=0.7.0 in c:\\users\\mouni\\anaconda3\\lib\\site-packages (from weasel<0.4.0,>=0.1.0->spacy<3.8.0,>=3.7.0->de-core-news-sm==3.7.0) (0.16.0)\n",
      "Requirement already satisfied: MarkupSafe>=2.0 in c:\\users\\mouni\\anaconda3\\lib\\site-packages (from jinja2->spacy<3.8.0,>=3.7.0->de-core-news-sm==3.7.0) (2.1.1)\n",
      "Requirement already satisfied: marisa-trie>=0.7.7 in c:\\users\\mouni\\anaconda3\\lib\\site-packages (from language-data>=1.2->langcodes<4.0.0,>=3.2.0->spacy<3.8.0,>=3.7.0->de-core-news-sm==3.7.0) (1.1.0)\n",
      "\u001b[38;5;2m[+] Download and installation successful\u001b[0m\n",
      "You can now load the package via spacy.load('de_core_news_sm')\n"
     ]
    }
   ],
   "source": [
    "!python -m spacy download de_core_news_sm"
   ]
  },
  {
   "cell_type": "code",
   "execution_count": 15,
   "id": "ffd62f4a",
   "metadata": {},
   "outputs": [],
   "source": [
    "file2 = open(r\"C:\\Users\\Mouni\\Downloads\\german text.txt\")\n",
    "#This file contains one paragraph of multiple sentences\n",
    "filedata = file2.readlines()\n",
    "article = filedata[0].split(\". \") #Just do the first paragraph"
   ]
  },
  {
   "cell_type": "code",
   "execution_count": 16,
   "id": "cdfe4444",
   "metadata": {},
   "outputs": [
    {
     "name": "stdout",
     "output_type": "stream",
     "text": [
      "Technologie hat einen immer grÃ¶ÃŸeren Einfluss auf unser tÃ¤gliches Leben\n",
      "In nahezu jedem Bereich, sei es Kommunikation, Bildung, Gesundheitswesen oder Wirtschaft, spielt Technologie eine entscheidende Rolle\n",
      "Diese Entwicklung hat sowohl positive als auch negative Auswirkungen auf unsere Gesellschaft.Ein Bereich, in dem Technologie einen enormen Beitrag leistet, ist die Kommunikation\n",
      "Durch die Erfindung des Internets und sozialer Medien kÃ¶nnen Menschen auf der ganzen Welt miteinander in Verbindung bleiben\n",
      "Dies hat zu einer globalen Vernetzung gefÃ¼hrt, die den Austausch von Ideen und Informationen erleichtert\n",
      "Allerdings birgt dies auch Risiken wie Cybermobbing und Datenschutzverletzungen\n",
      "Wir mÃ¼ssen daher darauf achten, dass wir die MÃ¶glichkeiten der digitalen Kommunikation verantwortungsbewusst nutzen und uns aktiv fÃ¼r den Schutz der PrivatsphÃ¤re und die FÃ¶rderung einer respektvollen Online-Kultur einsetzen.Auch im Bildungsbereich hat Technologie einen revolutionÃ¤ren Wandel bewirkt\n",
      "Online-Lernplattformen und digitale Lehrmittel ermÃ¶glichen einen flexibleren und individualisierteren Unterricht\n",
      "SchÃ¼ler und Studenten kÃ¶nnen nun jederzeit und Ã¼berall auf Lernmaterialien zugreifen\n",
      "Dies hat das lebenslange Lernen erleichtert und die Bildungschancen fÃ¼r Menschen auf der ganzen Welt verbessert\n",
      "Dennoch mÃ¼ssen wir sicherstellen, dass der Einsatz von Technologie nicht zu einer Abnahme des persÃ¶nlichen Kontakts zwischen Lehrern und SchÃ¼lern fÃ¼hrt\n",
      "Der direkte Austausch und die Interaktion im Klassenzimmer bleiben unverzichtbar fÃ¼r eine ganzheitliche Bildung.Im Gesundheitswesen hat die Technologie ebenfalls groÃŸe Fortschritte ermÃ¶glicht\n",
      "Von der Telemedizin bis hin zur Entwicklung von MedizingerÃ¤ten und -anwendungen hat Technologie die Diagnose und Behandlung von Krankheiten verbessert\n",
      "Durch die Digitalisierung von Patientendaten kÃ¶nnen Ã„rzte schnell auf wichtige Informationen zugreifen und fundierte Entscheidungen treffen\n",
      "Doch gleichzeitig mÃ¼ssen wir sicherstellen, dass der Zugang zur Gesundheitstechnologie gerecht und fÃ¼r alle erschwinglich ist\n",
      "Die digitale Kluft darf nicht dazu fÃ¼hren, dass bestimmte BevÃ¶lkerungsgruppen von wichtigen medizinischen Innovationen ausgeschlossen werden.In der Wirtschaft hat Technologie zu einer zunehmenden Automatisierung gefÃ¼hrt, die ProduktivitÃ¤t gesteigert und neue GeschÃ¤ftsmodelle ermÃ¶glicht hat\n",
      "Unternehmen kÃ¶nnen nun Daten analysieren, um fundierte Entscheidungen zu treffen und ihre Prozesse zu optimieren\n",
      "Dies hat zu einer verstÃ¤rkten WettbewerbsfÃ¤higkeit auf dem globalen Markt gefÃ¼hrt\n",
      "Dennoch mÃ¼ssen wir die sozialen Auswirkungen der Automatisierung berÃ¼cksichtigen, wie den Verlust von ArbeitsplÃ¤tzen und die Schaffung neuer Einkommensungleichheiten\n",
      "Es ist wichtig, dass wir MaÃŸnahmen ergreifen, um diejenigen zu unterstÃ¼tzen, die von technologischen VerÃ¤nderungen betroffen sind, und sicherzustellen, dass der technologische Fortschritt zum Wohl der gesamten Gesellschaft eingesetzt wird.Insgesamt hat die Technologie zweifellos unser Leben verbessert und uns neue MÃ¶glichkeiten erÃ¶ffnet\n",
      "Dennoch ist es wichtig, die potenziellen Risiken und Herausforderungen zu erkennen und verantwortungsbewusst mit Technologie umzugehen, um eine nachhaltige und gerechte Zukunft zu gewÃ¤hrleisten\n",
      "Wir mÃ¼ssen sicherstellen, dass Technologie zum Wohle aller eingesetzt wird und dazu beitrÃ¤gt, eine inklusive und gerechte Gesellschaft aufzubauen.\n"
     ]
    }
   ],
   "source": [
    "sentences = []\n",
    "for sentence in article:\n",
    "    print(sentence)\n",
    "    sentences.append(sentence.replace(\"[^a-zA-Z]\", \" \").split(\" \"))"
   ]
  },
  {
   "cell_type": "code",
   "execution_count": 17,
   "id": "51f85f3d",
   "metadata": {},
   "outputs": [
    {
     "name": "stdout",
     "output_type": "stream",
     "text": [
      "Sentences are  [['Technologie', 'hat', 'einen', 'immer', 'grÃ¶ÃŸeren', 'Einfluss', 'auf', 'unser', 'tÃ¤gliches', 'Leben'], ['In', 'nahezu', 'jedem', 'Bereich,', 'sei', 'es', 'Kommunikation,', 'Bildung,', 'Gesundheitswesen', 'oder', 'Wirtschaft,', 'spielt', 'Technologie', 'eine', 'entscheidende', 'Rolle'], ['Diese', 'Entwicklung', 'hat', 'sowohl', 'positive', 'als', 'auch', 'negative', 'Auswirkungen', 'auf', 'unsere', 'Gesellschaft.Ein', 'Bereich,', 'in', 'dem', 'Technologie', 'einen', 'enormen', 'Beitrag', 'leistet,', 'ist', 'die', 'Kommunikation'], ['Durch', 'die', 'Erfindung', 'des', 'Internets', 'und', 'sozialer', 'Medien', 'kÃ¶nnen', 'Menschen', 'auf', 'der', 'ganzen', 'Welt', 'miteinander', 'in', 'Verbindung', 'bleiben'], ['Dies', 'hat', 'zu', 'einer', 'globalen', 'Vernetzung', 'gefÃ¼hrt,', 'die', 'den', 'Austausch', 'von', 'Ideen', 'und', 'Informationen', 'erleichtert'], ['Allerdings', 'birgt', 'dies', 'auch', 'Risiken', 'wie', 'Cybermobbing', 'und', 'Datenschutzverletzungen'], ['Wir', 'mÃ¼ssen', 'daher', 'darauf', 'achten,', 'dass', 'wir', 'die', 'MÃ¶glichkeiten', 'der', 'digitalen', 'Kommunikation', 'verantwortungsbewusst', 'nutzen', 'und', 'uns', 'aktiv', 'fÃ¼r', 'den', 'Schutz', 'der', 'PrivatsphÃ¤re', 'und', 'die', 'FÃ¶rderung', 'einer', 'respektvollen', 'Online-Kultur', 'einsetzen.Auch', 'im', 'Bildungsbereich', 'hat', 'Technologie', 'einen', 'revolutionÃ¤ren', 'Wandel', 'bewirkt'], ['Online-Lernplattformen', 'und', 'digitale', 'Lehrmittel', 'ermÃ¶glichen', 'einen', 'flexibleren', 'und', 'individualisierteren', 'Unterricht'], ['SchÃ¼ler', 'und', 'Studenten', 'kÃ¶nnen', 'nun', 'jederzeit', 'und', 'Ã¼berall', 'auf', 'Lernmaterialien', 'zugreifen'], ['Dies', 'hat', 'das', 'lebenslange', 'Lernen', 'erleichtert', 'und', 'die', 'Bildungschancen', 'fÃ¼r', 'Menschen', 'auf', 'der', 'ganzen', 'Welt', 'verbessert'], ['Dennoch', 'mÃ¼ssen', 'wir', 'sicherstellen,', 'dass', 'der', 'Einsatz', 'von', 'Technologie', 'nicht', 'zu', 'einer', 'Abnahme', 'des', 'persÃ¶nlichen', 'Kontakts', 'zwischen', 'Lehrern', 'und', 'SchÃ¼lern', 'fÃ¼hrt'], ['Der', 'direkte', 'Austausch', 'und', 'die', 'Interaktion', 'im', 'Klassenzimmer', 'bleiben', 'unverzichtbar', 'fÃ¼r', 'eine', 'ganzheitliche', 'Bildung.Im', 'Gesundheitswesen', 'hat', 'die', 'Technologie', 'ebenfalls', 'groÃŸe', 'Fortschritte', 'ermÃ¶glicht'], ['Von', 'der', 'Telemedizin', 'bis', 'hin', 'zur', 'Entwicklung', 'von', 'MedizingerÃ¤ten', 'und', '-anwendungen', 'hat', 'Technologie', 'die', 'Diagnose', 'und', 'Behandlung', 'von', 'Krankheiten', 'verbessert'], ['Durch', 'die', 'Digitalisierung', 'von', 'Patientendaten', 'kÃ¶nnen', 'Ã„rzte', 'schnell', 'auf', 'wichtige', 'Informationen', 'zugreifen', 'und', 'fundierte', 'Entscheidungen', 'treffen'], ['Doch', 'gleichzeitig', 'mÃ¼ssen', 'wir', 'sicherstellen,', 'dass', 'der', 'Zugang', 'zur', 'Gesundheitstechnologie', 'gerecht', 'und', 'fÃ¼r', 'alle', 'erschwinglich', 'ist'], ['Die', 'digitale', 'Kluft', 'darf', 'nicht', 'dazu', 'fÃ¼hren,', 'dass', 'bestimmte', 'BevÃ¶lkerungsgruppen', 'von', 'wichtigen', 'medizinischen', 'Innovationen', 'ausgeschlossen', 'werden.In', 'der', 'Wirtschaft', 'hat', 'Technologie', 'zu', 'einer', 'zunehmenden', 'Automatisierung', 'gefÃ¼hrt,', 'die', 'ProduktivitÃ¤t', 'gesteigert', 'und', 'neue', 'GeschÃ¤ftsmodelle', 'ermÃ¶glicht', 'hat'], ['Unternehmen', 'kÃ¶nnen', 'nun', 'Daten', 'analysieren,', 'um', 'fundierte', 'Entscheidungen', 'zu', 'treffen', 'und', 'ihre', 'Prozesse', 'zu', 'optimieren'], ['Dies', 'hat', 'zu', 'einer', 'verstÃ¤rkten', 'WettbewerbsfÃ¤higkeit', 'auf', 'dem', 'globalen', 'Markt', 'gefÃ¼hrt'], ['Dennoch', 'mÃ¼ssen', 'wir', 'die', 'sozialen', 'Auswirkungen', 'der', 'Automatisierung', 'berÃ¼cksichtigen,', 'wie', 'den', 'Verlust', 'von', 'ArbeitsplÃ¤tzen', 'und', 'die', 'Schaffung', 'neuer', 'Einkommensungleichheiten'], ['Es', 'ist', 'wichtig,', 'dass', 'wir', 'MaÃŸnahmen', 'ergreifen,', 'um', 'diejenigen', 'zu', 'unterstÃ¼tzen,', 'die', 'von', 'technologischen', 'VerÃ¤nderungen', 'betroffen', 'sind,', 'und', 'sicherzustellen,', 'dass', 'der', 'technologische', 'Fortschritt', 'zum', 'Wohl', 'der', 'gesamten', 'Gesellschaft', 'eingesetzt', 'wird.Insgesamt', 'hat', 'die', 'Technologie', 'zweifellos', 'unser', 'Leben', 'verbessert', 'und', 'uns', 'neue', 'MÃ¶glichkeiten', 'erÃ¶ffnet'], ['Dennoch', 'ist', 'es', 'wichtig,', 'die', 'potenziellen', 'Risiken', 'und', 'Herausforderungen', 'zu', 'erkennen', 'und', 'verantwortungsbewusst', 'mit', 'Technologie', 'umzugehen,', 'um', 'eine', 'nachhaltige', 'und', 'gerechte', 'Zukunft', 'zu', 'gewÃ¤hrleisten'], ['Wir', 'mÃ¼ssen', 'sicherstellen,', 'dass', 'Technologie', 'zum', 'Wohle', 'aller', 'eingesetzt', 'wird', 'und', 'dazu', 'beitrÃ¤gt,', 'eine', 'inklusive', 'und', 'gerechte', 'Gesellschaft', 'aufzubauen.']]\n"
     ]
    }
   ],
   "source": [
    "print(\"Sentences are \", sentences)"
   ]
  },
  {
   "cell_type": "code",
   "execution_count": 18,
   "id": "88b9ba33",
   "metadata": {},
   "outputs": [],
   "source": [
    "def sentence_similarity(sent1, sent2 ):\n",
    "    sent1 = [w.lower() for w in sent1]\n",
    "    sent2 = [w.lower() for w in sent2]\n",
    "    all_words = list(set(sent1 + sent2))\n",
    "    vector1 = [0] * len(all_words)\n",
    "    vector2 = [0] * len(all_words)\n",
    "# build the vector for the first sentence\n",
    "    for w in sent1:\n",
    "        vector1[all_words.index(w)] += 1\n",
    "# build the vector for the second sentence\n",
    "    for w in sent2:\n",
    "        vector2[all_words.index(w)] += 1\n",
    "    return 1 - cosine_distance(vector1, vector2)"
   ]
  },
  {
   "cell_type": "code",
   "execution_count": 19,
   "id": "326e3fec",
   "metadata": {},
   "outputs": [],
   "source": [
    "similarity_matrix = np.zeros((len(sentences), len(sentences)))\n"
   ]
  },
  {
   "cell_type": "code",
   "execution_count": 20,
   "id": "da011e18",
   "metadata": {},
   "outputs": [],
   "source": [
    "for idx1 in range(len(sentences)):\n",
    "    for idx2 in range(len(sentences)):\n",
    "        if idx1 == idx2: #ignore if both are same sentences\n",
    "            continue\n",
    "        similarity_matrix[idx1][idx2] = sentence_similarity(sentences[idx1],sentences[idx2])"
   ]
  },
  {
   "cell_type": "code",
   "execution_count": 21,
   "id": "4a8d52fa",
   "metadata": {},
   "outputs": [
    {
     "name": "stdout",
     "output_type": "stream",
     "text": [
      "Smilarity matrix \n",
      " [[0.         0.07905694 0.26375219 0.0745356  0.08164966 0.\n",
      "  0.14142136 0.09128709 0.0877058  0.15811388 0.06900656 0.12909944\n",
      "  0.11952286 0.07905694 0.         0.15596257 0.         0.19069252\n",
      "  0.         0.17888544 0.0559017  0.06900656]\n",
      " [0.07905694 0.         0.15638581 0.05892557 0.         0.\n",
      "  0.0372678  0.         0.         0.         0.05455447 0.15309311\n",
      "  0.04724556 0.         0.         0.04109975 0.         0.\n",
      "  0.         0.07071068 0.13258252 0.10910895]\n",
      " [0.26375219 0.15638581 0.         0.14744196 0.10767638 0.0695048\n",
      "  0.18650096 0.06019293 0.05783149 0.15638581 0.04550158 0.17025131\n",
      "  0.15762208 0.10425721 0.0521286  0.17139779 0.         0.18860838\n",
      "  0.13650473 0.14744196 0.11058147 0.04550158]\n",
      " [0.0745356  0.05892557 0.14744196 0.         0.12171612 0.07856742\n",
      "  0.21081851 0.13608276 0.26148818 0.41247896 0.15430335 0.24056261\n",
      "  0.17817416 0.29462783 0.11785113 0.15499685 0.11433239 0.07106691\n",
      "  0.2057378  0.2        0.16666667 0.1028689 ]\n",
      " [0.08164966 0.         0.10767638 0.12171612 0.         0.17213259\n",
      "  0.26943013 0.1490712  0.14322297 0.32274861 0.22537447 0.26352314\n",
      "  0.34156503 0.25819889 0.06454972 0.38202872 0.18786729 0.38924947\n",
      "  0.28171808 0.25560386 0.27386128 0.11268723]\n",
      " [0.         0.         0.0695048  0.07856742 0.17213259 0.\n",
      "  0.0993808  0.19245009 0.18490007 0.16666667 0.0727393  0.06804138\n",
      "  0.12598816 0.08333333 0.08333333 0.05479966 0.08084521 0.10050378\n",
      "  0.14547859 0.0942809  0.23570226 0.14547859]\n",
      " [0.14142136 0.0372678  0.18650096 0.21081851 0.26943013 0.0993808\n",
      "  0.         0.21516574 0.16537965 0.2981424  0.32530002 0.36514837\n",
      "  0.28171808 0.1490712  0.3354102  0.318593   0.07231015 0.08989331\n",
      "  0.39036003 0.42163702 0.26352314 0.29277002]\n",
      " [0.09128709 0.         0.06019293 0.13608276 0.1490712  0.19245009\n",
      "  0.21516574 0.         0.32025631 0.14433757 0.12598816 0.11785113\n",
      "  0.21821789 0.14433757 0.14433757 0.1423737  0.14002801 0.\n",
      "  0.12598816 0.16329932 0.30618622 0.25197632]\n",
      " [0.0877058  0.         0.05783149 0.26148818 0.14322297 0.18490007\n",
      "  0.16537965 0.32025631 0.         0.20801257 0.12104551 0.1132277\n",
      "  0.20965697 0.34668762 0.13867505 0.09119215 0.26906912 0.0836242\n",
      "  0.12104551 0.15689291 0.2941742  0.24209101]\n",
      " [0.15811388 0.         0.15638581 0.41247896 0.32274861 0.16666667\n",
      "  0.2981424  0.14433757 0.20801257 0.         0.10910895 0.30618622\n",
      "  0.28347335 0.1875     0.1875     0.24659848 0.06063391 0.22613351\n",
      "  0.21821789 0.28284271 0.1767767  0.10910895]\n",
      " [0.06900656 0.05455447 0.04550158 0.15430335 0.22537447 0.0727393\n",
      "  0.32530002 0.12598816 0.12104551 0.10910895 0.         0.13363062\n",
      "  0.28867513 0.10910895 0.32732684 0.2869984  0.15877684 0.13159034\n",
      "  0.28571429 0.3086067  0.27003086 0.33333333]\n",
      " [0.12909944 0.15309311 0.17025131 0.24056261 0.26352314 0.06804138\n",
      "  0.36514837 0.11785113 0.1132277  0.30618622 0.13363062 0.\n",
      "  0.27003086 0.15309311 0.15309311 0.33557803 0.04950738 0.06154575\n",
      "  0.26726124 0.28867513 0.25259074 0.17817416]\n",
      " [0.11952286 0.04724556 0.15762208 0.17817416 0.34156503 0.12598816\n",
      "  0.28171808 0.21821789 0.20965697 0.28347335 0.28867513 0.27003086\n",
      "  0.         0.28347335 0.18898224 0.34175337 0.09166985 0.05698029\n",
      "  0.32991444 0.37416574 0.26726124 0.20619652]\n",
      " [0.07905694 0.         0.10425721 0.29462783 0.25819889 0.08333333\n",
      "  0.1490712  0.14433757 0.34668762 0.1875     0.10910895 0.15309311\n",
      "  0.28347335 0.         0.0625     0.16439899 0.30316953 0.07537784\n",
      "  0.21821789 0.1767767  0.1767767  0.10910895]\n",
      " [0.         0.         0.0521286  0.11785113 0.06454972 0.08333333\n",
      "  0.3354102  0.14433757 0.13867505 0.1875     0.32732684 0.15309311\n",
      "  0.18898224 0.0625     0.         0.12329924 0.06063391 0.\n",
      "  0.21821789 0.28284271 0.1767767  0.32732684]\n",
      " [0.15596257 0.04109975 0.17139779 0.15499685 0.38202872 0.05479966\n",
      "  0.318593   0.1423737  0.09119215 0.24659848 0.2869984  0.33557803\n",
      "  0.34175337 0.16439899 0.12329924 0.         0.11961783 0.19827264\n",
      "  0.2869984  0.37199244 0.23249528 0.179374  ]\n",
      " [0.         0.         0.         0.11433239 0.18786729 0.08084521\n",
      "  0.07231015 0.14002801 0.26906912 0.06063391 0.15877684 0.04950738\n",
      "  0.09166985 0.30316953 0.06063391 0.11961783 0.         0.14625448\n",
      "  0.05292561 0.17149859 0.34299717 0.10585122]\n",
      " [0.19069252 0.         0.18860838 0.07106691 0.38924947 0.10050378\n",
      "  0.08989331 0.         0.0836242  0.22613351 0.13159034 0.06154575\n",
      "  0.05698029 0.07537784 0.         0.19827264 0.14625448 0.\n",
      "  0.         0.08528029 0.10660036 0.        ]\n",
      " [0.         0.         0.13650473 0.2057378  0.28171808 0.14547859\n",
      "  0.39036003 0.12598816 0.12104551 0.21821789 0.28571429 0.26726124\n",
      "  0.32991444 0.21821789 0.21821789 0.2869984  0.05292561 0.\n",
      "  0.         0.3086067  0.23145502 0.19047619]\n",
      " [0.17888544 0.07071068 0.14744196 0.2        0.25560386 0.0942809\n",
      "  0.42163702 0.16329932 0.15689291 0.28284271 0.3086067  0.28867513\n",
      "  0.37416574 0.1767767  0.28284271 0.37199244 0.17149859 0.08528029\n",
      "  0.3086067  0.         0.375      0.33946737]\n",
      " [0.0559017  0.13258252 0.11058147 0.16666667 0.27386128 0.23570226\n",
      "  0.26352314 0.30618622 0.2941742  0.1767767  0.27003086 0.25259074\n",
      "  0.26726124 0.1767767  0.1767767  0.23249528 0.34299717 0.10660036\n",
      "  0.23145502 0.375      0.         0.34718254]\n",
      " [0.06900656 0.10910895 0.04550158 0.1028689  0.11268723 0.14547859\n",
      "  0.29277002 0.25197632 0.24209101 0.10910895 0.33333333 0.17817416\n",
      "  0.20619652 0.10910895 0.32732684 0.179374   0.10585122 0.\n",
      "  0.19047619 0.33946737 0.34718254 0.        ]]\n"
     ]
    }
   ],
   "source": [
    "print(\"Smilarity matrix \\n\", similarity_matrix)"
   ]
  },
  {
   "cell_type": "code",
   "execution_count": 22,
   "id": "4f48d6f5",
   "metadata": {},
   "outputs": [
    {
     "name": "stdout",
     "output_type": "stream",
     "text": [
      "scores {0: 0.029410463125951983, 1: 0.017187979090846277, 2: 0.03544197275527771, 3: 0.04521779710363851, 4: 0.055021623497042337, 5: 0.03129985304840473, 6: 0.06062305211175105, 7: 0.041536359712145546, 8: 0.04644847825470516, 9: 0.05347539852912215, 10: 0.04976429023835997, 11: 0.051658082944291445, 12: 0.05769894144645925, 13: 0.04479356523424676, 14: 0.03956386368758298, 15: 0.05492104663087981, 16: 0.03426823004562821, 17: 0.031091342046773898, 18: 0.050153767163760694, 19: 0.062151593459192474, 20: 0.05981015916617507, 21: 0.048462140707764}\n"
     ]
    }
   ],
   "source": [
    "sentence_similarity_graph =nx.from_numpy_array(similarity_matrix)\n",
    "scores = nx.pagerank(sentence_similarity_graph)\n",
    "print(\"scores\", scores)"
   ]
  },
  {
   "cell_type": "code",
   "execution_count": 23,
   "id": "a0c99de0",
   "metadata": {},
   "outputs": [
    {
     "name": "stdout",
     "output_type": "stream",
     "text": [
      "Indexes of top ranked_sentence order are \n",
      "\n",
      " [(0.062151593459192474, ['Es', 'ist', 'wichtig,', 'dass', 'wir', 'MaÃŸnahmen', 'ergreifen,', 'um', 'diejenigen', 'zu', 'unterstÃ¼tzen,', 'die', 'von', 'technologischen', 'VerÃ¤nderungen', 'betroffen', 'sind,', 'und', 'sicherzustellen,', 'dass', 'der', 'technologische', 'Fortschritt', 'zum', 'Wohl', 'der', 'gesamten', 'Gesellschaft', 'eingesetzt', 'wird.Insgesamt', 'hat', 'die', 'Technologie', 'zweifellos', 'unser', 'Leben', 'verbessert', 'und', 'uns', 'neue', 'MÃ¶glichkeiten', 'erÃ¶ffnet']), (0.06062305211175105, ['Wir', 'mÃ¼ssen', 'daher', 'darauf', 'achten,', 'dass', 'wir', 'die', 'MÃ¶glichkeiten', 'der', 'digitalen', 'Kommunikation', 'verantwortungsbewusst', 'nutzen', 'und', 'uns', 'aktiv', 'fÃ¼r', 'den', 'Schutz', 'der', 'PrivatsphÃ¤re', 'und', 'die', 'FÃ¶rderung', 'einer', 'respektvollen', 'Online-Kultur', 'einsetzen.Auch', 'im', 'Bildungsbereich', 'hat', 'Technologie', 'einen', 'revolutionÃ¤ren', 'Wandel', 'bewirkt']), (0.05981015916617507, ['Dennoch', 'ist', 'es', 'wichtig,', 'die', 'potenziellen', 'Risiken', 'und', 'Herausforderungen', 'zu', 'erkennen', 'und', 'verantwortungsbewusst', 'mit', 'Technologie', 'umzugehen,', 'um', 'eine', 'nachhaltige', 'und', 'gerechte', 'Zukunft', 'zu', 'gewÃ¤hrleisten']), (0.05769894144645925, ['Von', 'der', 'Telemedizin', 'bis', 'hin', 'zur', 'Entwicklung', 'von', 'MedizingerÃ¤ten', 'und', '-anwendungen', 'hat', 'Technologie', 'die', 'Diagnose', 'und', 'Behandlung', 'von', 'Krankheiten', 'verbessert']), (0.055021623497042337, ['Dies', 'hat', 'zu', 'einer', 'globalen', 'Vernetzung', 'gefÃ¼hrt,', 'die', 'den', 'Austausch', 'von', 'Ideen', 'und', 'Informationen', 'erleichtert']), (0.05492104663087981, ['Die', 'digitale', 'Kluft', 'darf', 'nicht', 'dazu', 'fÃ¼hren,', 'dass', 'bestimmte', 'BevÃ¶lkerungsgruppen', 'von', 'wichtigen', 'medizinischen', 'Innovationen', 'ausgeschlossen', 'werden.In', 'der', 'Wirtschaft', 'hat', 'Technologie', 'zu', 'einer', 'zunehmenden', 'Automatisierung', 'gefÃ¼hrt,', 'die', 'ProduktivitÃ¤t', 'gesteigert', 'und', 'neue', 'GeschÃ¤ftsmodelle', 'ermÃ¶glicht', 'hat']), (0.05347539852912215, ['Dies', 'hat', 'das', 'lebenslange', 'Lernen', 'erleichtert', 'und', 'die', 'Bildungschancen', 'fÃ¼r', 'Menschen', 'auf', 'der', 'ganzen', 'Welt', 'verbessert']), (0.051658082944291445, ['Der', 'direkte', 'Austausch', 'und', 'die', 'Interaktion', 'im', 'Klassenzimmer', 'bleiben', 'unverzichtbar', 'fÃ¼r', 'eine', 'ganzheitliche', 'Bildung.Im', 'Gesundheitswesen', 'hat', 'die', 'Technologie', 'ebenfalls', 'groÃŸe', 'Fortschritte', 'ermÃ¶glicht']), (0.050153767163760694, ['Dennoch', 'mÃ¼ssen', 'wir', 'die', 'sozialen', 'Auswirkungen', 'der', 'Automatisierung', 'berÃ¼cksichtigen,', 'wie', 'den', 'Verlust', 'von', 'ArbeitsplÃ¤tzen', 'und', 'die', 'Schaffung', 'neuer', 'Einkommensungleichheiten']), (0.04976429023835997, ['Dennoch', 'mÃ¼ssen', 'wir', 'sicherstellen,', 'dass', 'der', 'Einsatz', 'von', 'Technologie', 'nicht', 'zu', 'einer', 'Abnahme', 'des', 'persÃ¶nlichen', 'Kontakts', 'zwischen', 'Lehrern', 'und', 'SchÃ¼lern', 'fÃ¼hrt']), (0.048462140707764, ['Wir', 'mÃ¼ssen', 'sicherstellen,', 'dass', 'Technologie', 'zum', 'Wohle', 'aller', 'eingesetzt', 'wird', 'und', 'dazu', 'beitrÃ¤gt,', 'eine', 'inklusive', 'und', 'gerechte', 'Gesellschaft', 'aufzubauen.']), (0.04644847825470516, ['SchÃ¼ler', 'und', 'Studenten', 'kÃ¶nnen', 'nun', 'jederzeit', 'und', 'Ã¼berall', 'auf', 'Lernmaterialien', 'zugreifen']), (0.04521779710363851, ['Durch', 'die', 'Erfindung', 'des', 'Internets', 'und', 'sozialer', 'Medien', 'kÃ¶nnen', 'Menschen', 'auf', 'der', 'ganzen', 'Welt', 'miteinander', 'in', 'Verbindung', 'bleiben']), (0.04479356523424676, ['Durch', 'die', 'Digitalisierung', 'von', 'Patientendaten', 'kÃ¶nnen', 'Ã„rzte', 'schnell', 'auf', 'wichtige', 'Informationen', 'zugreifen', 'und', 'fundierte', 'Entscheidungen', 'treffen']), (0.041536359712145546, ['Online-Lernplattformen', 'und', 'digitale', 'Lehrmittel', 'ermÃ¶glichen', 'einen', 'flexibleren', 'und', 'individualisierteren', 'Unterricht']), (0.03956386368758298, ['Doch', 'gleichzeitig', 'mÃ¼ssen', 'wir', 'sicherstellen,', 'dass', 'der', 'Zugang', 'zur', 'Gesundheitstechnologie', 'gerecht', 'und', 'fÃ¼r', 'alle', 'erschwinglich', 'ist']), (0.03544197275527771, ['Diese', 'Entwicklung', 'hat', 'sowohl', 'positive', 'als', 'auch', 'negative', 'Auswirkungen', 'auf', 'unsere', 'Gesellschaft.Ein', 'Bereich,', 'in', 'dem', 'Technologie', 'einen', 'enormen', 'Beitrag', 'leistet,', 'ist', 'die', 'Kommunikation']), (0.03426823004562821, ['Unternehmen', 'kÃ¶nnen', 'nun', 'Daten', 'analysieren,', 'um', 'fundierte', 'Entscheidungen', 'zu', 'treffen', 'und', 'ihre', 'Prozesse', 'zu', 'optimieren']), (0.03129985304840473, ['Allerdings', 'birgt', 'dies', 'auch', 'Risiken', 'wie', 'Cybermobbing', 'und', 'Datenschutzverletzungen']), (0.031091342046773898, ['Dies', 'hat', 'zu', 'einer', 'verstÃ¤rkten', 'WettbewerbsfÃ¤higkeit', 'auf', 'dem', 'globalen', 'Markt', 'gefÃ¼hrt']), (0.029410463125951983, ['Technologie', 'hat', 'einen', 'immer', 'grÃ¶ÃŸeren', 'Einfluss', 'auf', 'unser', 'tÃ¤gliches', 'Leben']), (0.017187979090846277, ['In', 'nahezu', 'jedem', 'Bereich,', 'sei', 'es', 'Kommunikation,', 'Bildung,', 'Gesundheitswesen', 'oder', 'Wirtschaft,', 'spielt', 'Technologie', 'eine', 'entscheidende', 'Rolle'])]\n"
     ]
    }
   ],
   "source": [
    "ranked_sentence = sorted(((scores[i],s) for i,s in enumerate(sentences)), reverse=True)\n",
    "print(\"Indexes of top ranked_sentence order are \\n\\n\",ranked_sentence)"
   ]
  },
  {
   "cell_type": "code",
   "execution_count": 24,
   "id": "4ac15479",
   "metadata": {},
   "outputs": [
    {
     "name": "stdout",
     "output_type": "stream",
     "text": [
      "How many sentences do you want in the summary? 2\n"
     ]
    }
   ],
   "source": [
    "n = int(input(\"How many sentences do you want in the summary? \"))\n",
    "#n=2\n",
    "summarize_text = []\n",
    "for i in range(n):\n",
    "    summarize_text.append(\" \".join(ranked_sentence[i][1]))"
   ]
  },
  {
   "cell_type": "code",
   "execution_count": 25,
   "id": "02a45885",
   "metadata": {},
   "outputs": [
    {
     "name": "stdout",
     "output_type": "stream",
     "text": [
      "Summarize Text: \n",
      " Es ist wichtig, dass wir MaÃŸnahmen ergreifen, um diejenigen zu unterstÃ¼tzen, die von technologischen VerÃ¤nderungen betroffen sind, und sicherzustellen, dass der technologische Fortschritt zum Wohl der gesamten Gesellschaft eingesetzt wird.Insgesamt hat die Technologie zweifellos unser Leben verbessert und uns neue MÃ¶glichkeiten erÃ¶ffnet. Wir mÃ¼ssen daher darauf achten, dass wir die MÃ¶glichkeiten der digitalen Kommunikation verantwortungsbewusst nutzen und uns aktiv fÃ¼r den Schutz der PrivatsphÃ¤re und die FÃ¶rderung einer respektvollen Online-Kultur einsetzen.Auch im Bildungsbereich hat Technologie einen revolutionÃ¤ren Wandel bewirkt\n"
     ]
    }
   ],
   "source": [
    "# Offcourse, output the summarize text\n",
    "print(\"Summarize Text: \\n\", \". \".join(summarize_text))\n"
   ]
  },
  {
   "cell_type": "markdown",
   "id": "6a2b683f",
   "metadata": {},
   "source": [
    "# text 3"
   ]
  },
  {
   "cell_type": "code",
   "execution_count": 26,
   "id": "e86fe3f8",
   "metadata": {},
   "outputs": [
    {
     "name": "stdout",
     "output_type": "stream",
     "text": [
      "Collecting fr-core-news-sm==3.7.0\n",
      "  Downloading https://github.com/explosion/spacy-models/releases/download/fr_core_news_sm-3.7.0/fr_core_news_sm-3.7.0-py3-none-any.whl (16.3 MB)\n",
      "     ---------------------------------------- 0.0/16.3 MB ? eta -:--:--\n",
      "     ---------------------------------------- 0.0/16.3 MB ? eta -:--:--\n",
      "     --------------------------------------- 0.1/16.3 MB 544.7 kB/s eta 0:00:30\n",
      "      --------------------------------------- 0.2/16.3 MB 1.4 MB/s eta 0:00:12\n",
      "     - -------------------------------------- 0.5/16.3 MB 2.7 MB/s eta 0:00:06\n",
      "     -- ------------------------------------- 0.8/16.3 MB 3.4 MB/s eta 0:00:05\n",
      "     -- ------------------------------------- 1.1/16.3 MB 3.9 MB/s eta 0:00:04\n",
      "     -- ------------------------------------- 1.1/16.3 MB 3.9 MB/s eta 0:00:04\n",
      "     --- ------------------------------------ 1.6/16.3 MB 4.3 MB/s eta 0:00:04\n",
      "     ---- ----------------------------------- 1.7/16.3 MB 4.2 MB/s eta 0:00:04\n",
      "     ---- ----------------------------------- 1.9/16.3 MB 3.9 MB/s eta 0:00:04\n",
      "     ----- ---------------------------------- 2.2/16.3 MB 4.2 MB/s eta 0:00:04\n",
      "     ------ --------------------------------- 2.5/16.3 MB 4.3 MB/s eta 0:00:04\n",
      "     ------ --------------------------------- 2.8/16.3 MB 4.4 MB/s eta 0:00:04\n",
      "     ------- -------------------------------- 3.0/16.3 MB 4.5 MB/s eta 0:00:03\n",
      "     -------- ------------------------------- 3.4/16.3 MB 4.7 MB/s eta 0:00:03\n",
      "     --------- ------------------------------ 3.8/16.3 MB 4.9 MB/s eta 0:00:03\n",
      "     ---------- ----------------------------- 4.2/16.3 MB 5.2 MB/s eta 0:00:03\n",
      "     ---------- ----------------------------- 4.4/16.3 MB 5.1 MB/s eta 0:00:03\n",
      "     ------------ --------------------------- 4.9/16.3 MB 5.3 MB/s eta 0:00:03\n",
      "     ------------ --------------------------- 4.9/16.3 MB 5.3 MB/s eta 0:00:03\n",
      "     ------------ --------------------------- 5.2/16.3 MB 5.2 MB/s eta 0:00:03\n",
      "     ------------- -------------------------- 5.6/16.3 MB 5.4 MB/s eta 0:00:02\n",
      "     -------------- ------------------------- 6.0/16.3 MB 5.4 MB/s eta 0:00:02\n",
      "     -------------- ------------------------- 6.0/16.3 MB 5.4 MB/s eta 0:00:02\n",
      "     ---------------- ----------------------- 6.6/16.3 MB 5.6 MB/s eta 0:00:02\n",
      "     ---------------- ----------------------- 6.6/16.3 MB 5.6 MB/s eta 0:00:02\n",
      "     ----------------- ---------------------- 7.2/16.3 MB 5.6 MB/s eta 0:00:02\n",
      "     ------------------ --------------------- 7.5/16.3 MB 5.5 MB/s eta 0:00:02\n",
      "     ------------------ --------------------- 7.6/16.3 MB 5.5 MB/s eta 0:00:02\n",
      "     ------------------- -------------------- 8.0/16.3 MB 5.6 MB/s eta 0:00:02\n",
      "     -------------------- ------------------- 8.2/16.3 MB 5.5 MB/s eta 0:00:02\n",
      "     -------------------- ------------------- 8.3/16.3 MB 5.4 MB/s eta 0:00:02\n",
      "     --------------------- ------------------ 8.9/16.3 MB 5.6 MB/s eta 0:00:02\n",
      "     ---------------------- ----------------- 9.3/16.3 MB 5.7 MB/s eta 0:00:02\n",
      "     ----------------------- ---------------- 9.7/16.3 MB 5.8 MB/s eta 0:00:02\n",
      "     ------------------------ --------------- 10.1/16.3 MB 5.8 MB/s eta 0:00:02\n",
      "     ------------------------ --------------- 10.1/16.3 MB 5.8 MB/s eta 0:00:02\n",
      "     -------------------------- ------------- 10.9/16.3 MB 6.4 MB/s eta 0:00:01\n",
      "     --------------------------- ------------ 11.1/16.3 MB 6.4 MB/s eta 0:00:01\n",
      "     ---------------------------- ----------- 11.6/16.3 MB 6.6 MB/s eta 0:00:01\n",
      "     ---------------------------- ----------- 11.8/16.3 MB 6.4 MB/s eta 0:00:01\n",
      "     ------------------------------ --------- 12.2/16.3 MB 6.7 MB/s eta 0:00:01\n",
      "     ------------------------------ --------- 12.6/16.3 MB 6.7 MB/s eta 0:00:01\n",
      "     ------------------------------- -------- 12.9/16.3 MB 7.0 MB/s eta 0:00:01\n",
      "     ---------------------------------- ----- 13.8/16.3 MB 7.0 MB/s eta 0:00:01\n",
      "     ---------------------------------- ----- 13.9/16.3 MB 7.2 MB/s eta 0:00:01\n",
      "     ------------------------------------ --- 14.9/16.3 MB 7.5 MB/s eta 0:00:01\n",
      "     ------------------------------------- -- 15.2/16.3 MB 7.6 MB/s eta 0:00:01\n",
      "     -------------------------------------- - 15.5/16.3 MB 7.8 MB/s eta 0:00:01\n",
      "     -------------------------------------- - 15.5/16.3 MB 7.8 MB/s eta 0:00:01\n",
      "     -------------------------------------- - 15.5/16.3 MB 7.8 MB/s eta 0:00:01\n",
      "     -------------------------------------- - 15.5/16.3 MB 7.8 MB/s eta 0:00:01\n",
      "     ---------------------------------------  16.3/16.3 MB 7.0 MB/s eta 0:00:01\n",
      "     ---------------------------------------  16.3/16.3 MB 7.0 MB/s eta 0:00:01\n",
      "     ---------------------------------------- 16.3/16.3 MB 6.7 MB/s eta 0:00:00\n",
      "Requirement already satisfied: spacy<3.8.0,>=3.7.0 in c:\\users\\mouni\\anaconda3\\lib\\site-packages (from fr-core-news-sm==3.7.0) (3.7.4)\n",
      "Requirement already satisfied: spacy-legacy<3.1.0,>=3.0.11 in c:\\users\\mouni\\anaconda3\\lib\\site-packages (from spacy<3.8.0,>=3.7.0->fr-core-news-sm==3.7.0) (3.0.12)\n",
      "Requirement already satisfied: spacy-loggers<2.0.0,>=1.0.0 in c:\\users\\mouni\\anaconda3\\lib\\site-packages (from spacy<3.8.0,>=3.7.0->fr-core-news-sm==3.7.0) (1.0.5)\n",
      "Requirement already satisfied: murmurhash<1.1.0,>=0.28.0 in c:\\users\\mouni\\anaconda3\\lib\\site-packages (from spacy<3.8.0,>=3.7.0->fr-core-news-sm==3.7.0) (1.0.10)\n",
      "Requirement already satisfied: cymem<2.1.0,>=2.0.2 in c:\\users\\mouni\\anaconda3\\lib\\site-packages (from spacy<3.8.0,>=3.7.0->fr-core-news-sm==3.7.0) (2.0.8)\n",
      "Requirement already satisfied: preshed<3.1.0,>=3.0.2 in c:\\users\\mouni\\anaconda3\\lib\\site-packages (from spacy<3.8.0,>=3.7.0->fr-core-news-sm==3.7.0) (3.0.9)\n",
      "Requirement already satisfied: thinc<8.3.0,>=8.2.2 in c:\\users\\mouni\\anaconda3\\lib\\site-packages (from spacy<3.8.0,>=3.7.0->fr-core-news-sm==3.7.0) (8.2.3)\n",
      "Requirement already satisfied: wasabi<1.2.0,>=0.9.1 in c:\\users\\mouni\\anaconda3\\lib\\site-packages (from spacy<3.8.0,>=3.7.0->fr-core-news-sm==3.7.0) (1.1.2)\n",
      "Requirement already satisfied: srsly<3.0.0,>=2.4.3 in c:\\users\\mouni\\anaconda3\\lib\\site-packages (from spacy<3.8.0,>=3.7.0->fr-core-news-sm==3.7.0) (2.4.8)\n",
      "Requirement already satisfied: catalogue<2.1.0,>=2.0.6 in c:\\users\\mouni\\anaconda3\\lib\\site-packages (from spacy<3.8.0,>=3.7.0->fr-core-news-sm==3.7.0) (2.0.10)\n",
      "Requirement already satisfied: weasel<0.4.0,>=0.1.0 in c:\\users\\mouni\\anaconda3\\lib\\site-packages (from spacy<3.8.0,>=3.7.0->fr-core-news-sm==3.7.0) (0.3.4)\n",
      "Requirement already satisfied: typer<0.10.0,>=0.3.0 in c:\\users\\mouni\\anaconda3\\lib\\site-packages (from spacy<3.8.0,>=3.7.0->fr-core-news-sm==3.7.0) (0.9.4)\n",
      "Requirement already satisfied: smart-open<7.0.0,>=5.2.1 in c:\\users\\mouni\\anaconda3\\lib\\site-packages (from spacy<3.8.0,>=3.7.0->fr-core-news-sm==3.7.0) (5.2.1)\n",
      "Requirement already satisfied: tqdm<5.0.0,>=4.38.0 in c:\\users\\mouni\\anaconda3\\lib\\site-packages (from spacy<3.8.0,>=3.7.0->fr-core-news-sm==3.7.0) (4.65.0)\n",
      "Requirement already satisfied: requests<3.0.0,>=2.13.0 in c:\\users\\mouni\\anaconda3\\lib\\site-packages (from spacy<3.8.0,>=3.7.0->fr-core-news-sm==3.7.0) (2.31.0)\n",
      "Requirement already satisfied: pydantic!=1.8,!=1.8.1,<3.0.0,>=1.7.4 in c:\\users\\mouni\\anaconda3\\lib\\site-packages (from spacy<3.8.0,>=3.7.0->fr-core-news-sm==3.7.0) (1.10.8)\n",
      "Requirement already satisfied: jinja2 in c:\\users\\mouni\\anaconda3\\lib\\site-packages (from spacy<3.8.0,>=3.7.0->fr-core-news-sm==3.7.0) (3.1.2)\n",
      "Requirement already satisfied: setuptools in c:\\users\\mouni\\anaconda3\\lib\\site-packages (from spacy<3.8.0,>=3.7.0->fr-core-news-sm==3.7.0) (68.0.0)\n",
      "Requirement already satisfied: packaging>=20.0 in c:\\users\\mouni\\anaconda3\\lib\\site-packages (from spacy<3.8.0,>=3.7.0->fr-core-news-sm==3.7.0) (23.1)\n",
      "Requirement already satisfied: langcodes<4.0.0,>=3.2.0 in c:\\users\\mouni\\anaconda3\\lib\\site-packages (from spacy<3.8.0,>=3.7.0->fr-core-news-sm==3.7.0) (3.4.0)\n",
      "Requirement already satisfied: numpy>=1.19.0 in c:\\users\\mouni\\anaconda3\\lib\\site-packages (from spacy<3.8.0,>=3.7.0->fr-core-news-sm==3.7.0) (1.24.3)\n",
      "Requirement already satisfied: language-data>=1.2 in c:\\users\\mouni\\anaconda3\\lib\\site-packages (from langcodes<4.0.0,>=3.2.0->spacy<3.8.0,>=3.7.0->fr-core-news-sm==3.7.0) (1.2.0)\n",
      "Requirement already satisfied: typing-extensions>=4.2.0 in c:\\users\\mouni\\anaconda3\\lib\\site-packages (from pydantic!=1.8,!=1.8.1,<3.0.0,>=1.7.4->spacy<3.8.0,>=3.7.0->fr-core-news-sm==3.7.0) (4.7.1)\n",
      "Requirement already satisfied: charset-normalizer<4,>=2 in c:\\users\\mouni\\anaconda3\\lib\\site-packages (from requests<3.0.0,>=2.13.0->spacy<3.8.0,>=3.7.0->fr-core-news-sm==3.7.0) (2.0.4)\n",
      "Requirement already satisfied: idna<4,>=2.5 in c:\\users\\mouni\\anaconda3\\lib\\site-packages (from requests<3.0.0,>=2.13.0->spacy<3.8.0,>=3.7.0->fr-core-news-sm==3.7.0) (3.4)\n",
      "Requirement already satisfied: urllib3<3,>=1.21.1 in c:\\users\\mouni\\anaconda3\\lib\\site-packages (from requests<3.0.0,>=2.13.0->spacy<3.8.0,>=3.7.0->fr-core-news-sm==3.7.0) (1.26.16)\n",
      "Requirement already satisfied: certifi>=2017.4.17 in c:\\users\\mouni\\anaconda3\\lib\\site-packages (from requests<3.0.0,>=2.13.0->spacy<3.8.0,>=3.7.0->fr-core-news-sm==3.7.0) (2024.2.2)\n",
      "Requirement already satisfied: blis<0.8.0,>=0.7.8 in c:\\users\\mouni\\anaconda3\\lib\\site-packages (from thinc<8.3.0,>=8.2.2->spacy<3.8.0,>=3.7.0->fr-core-news-sm==3.7.0) (0.7.11)\n",
      "Requirement already satisfied: confection<1.0.0,>=0.0.1 in c:\\users\\mouni\\anaconda3\\lib\\site-packages (from thinc<8.3.0,>=8.2.2->spacy<3.8.0,>=3.7.0->fr-core-news-sm==3.7.0) (0.1.4)\n",
      "Requirement already satisfied: colorama in c:\\users\\mouni\\anaconda3\\lib\\site-packages (from tqdm<5.0.0,>=4.38.0->spacy<3.8.0,>=3.7.0->fr-core-news-sm==3.7.0) (0.4.6)\n",
      "Requirement already satisfied: click<9.0.0,>=7.1.1 in c:\\users\\mouni\\anaconda3\\lib\\site-packages (from typer<0.10.0,>=0.3.0->spacy<3.8.0,>=3.7.0->fr-core-news-sm==3.7.0) (8.0.4)\n",
      "Requirement already satisfied: cloudpathlib<0.17.0,>=0.7.0 in c:\\users\\mouni\\anaconda3\\lib\\site-packages (from weasel<0.4.0,>=0.1.0->spacy<3.8.0,>=3.7.0->fr-core-news-sm==3.7.0) (0.16.0)\n",
      "Requirement already satisfied: MarkupSafe>=2.0 in c:\\users\\mouni\\anaconda3\\lib\\site-packages (from jinja2->spacy<3.8.0,>=3.7.0->fr-core-news-sm==3.7.0) (2.1.1)\n",
      "Requirement already satisfied: marisa-trie>=0.7.7 in c:\\users\\mouni\\anaconda3\\lib\\site-packages (from language-data>=1.2->langcodes<4.0.0,>=3.2.0->spacy<3.8.0,>=3.7.0->fr-core-news-sm==3.7.0) (1.1.0)\n",
      "\u001b[38;5;2m[+] Download and installation successful\u001b[0m\n",
      "You can now load the package via spacy.load('fr_core_news_sm')\n"
     ]
    }
   ],
   "source": [
    "!python -m spacy download fr_core_news_sm\n"
   ]
  },
  {
   "cell_type": "code",
   "execution_count": 27,
   "id": "f2d38579",
   "metadata": {},
   "outputs": [],
   "source": [
    "file3 = open(r\"C:\\Users\\Mouni\\Downloads\\french text.txt\")\n",
    "#This file contains one paragraph of multiple sentences\n",
    "filedata = file3.readlines()\n",
    "article = filedata[0].split(\". \") #Just do the first paragraph"
   ]
  },
  {
   "cell_type": "code",
   "execution_count": 28,
   "id": "55e03800",
   "metadata": {},
   "outputs": [
    {
     "name": "stdout",
     "output_type": "stream",
     "text": [
      "L'Ã©ducation joue un rÃ´le crucial dans la formation des individus et de la sociÃ©tÃ©\n",
      "Elle est la pierre angulaire du progrÃ¨s, du dÃ©veloppement et de la prospÃ©ritÃ©\n",
      "De l'AntiquitÃ© Ã  nos jours, l'Ã©ducation a toujours Ã©tÃ© considÃ©rÃ©e comme la clÃ© pour libÃ©rer le potentiel humain et rÃ©aliser de grandes choses.Une raison fondamentale de l'importance de l'Ã©ducation est son pouvoir de transformation\n",
      "Par le biais de l'apprentissage, les individus acquiÃ¨rent des connaissances, des compÃ©tences et des perspectives qui leur donnent la capacitÃ© de faire face Ã  la complexitÃ© de la vie et de contribuer de maniÃ¨re significative Ã  la sociÃ©tÃ©\n",
      "L'Ã©ducation Ã©largit les horizons, cultive la pensÃ©e critique et favorise la crÃ©ativitÃ©, permettant aux individus de s'adapter Ã  un environnement en constante Ã©volution et de proposer des solutions innovantes aux dÃ©fis pressants.De plus, l'Ã©ducation est un grand Ã©galisateur\n",
      "Quelle que soit l'origine ou le milieu, l'accÃ¨s Ã  une Ã©ducation de qualitÃ© peut nivelÃ© le terrain de jeu et offrir des opportunitÃ©s de mobilitÃ© sociale\n",
      "En dotant les individus de connaissances et de compÃ©tences, l'Ã©ducation contribue Ã  rÃ©duire les disparitÃ©s socio-Ã©conomiques et Ã  briser le cycle de la pauvretÃ©.Par ailleurs, l'Ã©ducation est essentielle pour cultiver la tolÃ©rance, la comprÃ©hension et le respect\n",
      "La rencontre de points de vue, de cultures et de pensÃ©es diversifiÃ©s contribue Ã  dÃ©velopper l'empathie et Ã  apprÃ©cier la richesse de l'expÃ©rience humaine\n",
      "GrÃ¢ce Ã  l'Ã©ducation, les individus apprennent Ã  apprÃ©cier les diffÃ©rences, Ã  remettre en question les stÃ©rÃ©otypes et Ã  promouvoir l'inclusivitÃ©, favorisant ainsi une sociÃ©tÃ© plus harmonieuse et plus juste.En outre, l'Ã©ducation est cruciale pour le dÃ©veloppement Ã©conomique et la prospÃ©ritÃ©\n",
      "Une main-d'Å“uvre bien Ã©duquÃ©e stimule l'innovation, accroÃ®t la productivitÃ© et stimule la croissance Ã©conomique\n",
      "Les pays qui valorisent l'Ã©ducation investissent dans le capital humain, jetant ainsi les bases du dÃ©veloppement durable et de la compÃ©titivitÃ© dans l'Ã©conomie mondiale.En conclusion, l'Ã©ducation n'est pas seulement un privilÃ¨ge, c'est aussi un droit fondamental et un fondement du progrÃ¨s\n",
      "Elle donne du pouvoir aux individus, favorise l'Ã©galitÃ©, cultive la comprÃ©hension et stimule le dÃ©veloppement Ã©conomique\n",
      "Alors que nous nous efforÃ§ons de bÃ¢tir un avenir meilleur pour les gÃ©nÃ©rations futures, investir dans l'Ã©ducation doit toujours Ãªtre une prioritÃ© absolue.\n"
     ]
    }
   ],
   "source": [
    "sentences = []\n",
    "for sentence in article:\n",
    "    print(sentence)\n",
    "    sentences.append(sentence.replace(\"[^a-zA-Z]\", \" \").split(\" \"))"
   ]
  },
  {
   "cell_type": "code",
   "execution_count": 29,
   "id": "0fae7540",
   "metadata": {},
   "outputs": [
    {
     "name": "stdout",
     "output_type": "stream",
     "text": [
      "Sentences are  [[\"L'Ã©ducation\", 'joue', 'un', 'rÃ´le', 'crucial', 'dans', 'la', 'formation', 'des', 'individus', 'et', 'de', 'la', 'sociÃ©tÃ©'], ['Elle', 'est', 'la', 'pierre', 'angulaire', 'du', 'progrÃ¨s,', 'du', 'dÃ©veloppement', 'et', 'de', 'la', 'prospÃ©ritÃ©'], ['De', \"l'AntiquitÃ©\", 'Ã\\xa0', 'nos', 'jours,', \"l'Ã©ducation\", 'a', 'toujours', 'Ã©tÃ©', 'considÃ©rÃ©e', 'comme', 'la', 'clÃ©', 'pour', 'libÃ©rer', 'le', 'potentiel', 'humain', 'et', 'rÃ©aliser', 'de', 'grandes', 'choses.Une', 'raison', 'fondamentale', 'de', \"l'importance\", 'de', \"l'Ã©ducation\", 'est', 'son', 'pouvoir', 'de', 'transformation'], ['Par', 'le', 'biais', 'de', \"l'apprentissage,\", 'les', 'individus', 'acquiÃ¨rent', 'des', 'connaissances,', 'des', 'compÃ©tences', 'et', 'des', 'perspectives', 'qui', 'leur', 'donnent', 'la', 'capacitÃ©', 'de', 'faire', 'face', 'Ã\\xa0', 'la', 'complexitÃ©', 'de', 'la', 'vie', 'et', 'de', 'contribuer', 'de', 'maniÃ¨re', 'significative', 'Ã\\xa0', 'la', 'sociÃ©tÃ©'], [\"L'Ã©ducation\", 'Ã©largit', 'les', 'horizons,', 'cultive', 'la', 'pensÃ©e', 'critique', 'et', 'favorise', 'la', 'crÃ©ativitÃ©,', 'permettant', 'aux', 'individus', 'de', \"s'adapter\", 'Ã\\xa0', 'un', 'environnement', 'en', 'constante', 'Ã©volution', 'et', 'de', 'proposer', 'des', 'solutions', 'innovantes', 'aux', 'dÃ©fis', 'pressants.De', 'plus,', \"l'Ã©ducation\", 'est', 'un', 'grand', 'Ã©galisateur'], ['Quelle', 'que', 'soit', \"l'origine\", 'ou', 'le', 'milieu,', \"l'accÃ¨s\", 'Ã\\xa0', 'une', 'Ã©ducation', 'de', 'qualitÃ©', 'peut', 'nivelÃ©', 'le', 'terrain', 'de', 'jeu', 'et', 'offrir', 'des', 'opportunitÃ©s', 'de', 'mobilitÃ©', 'sociale'], ['En', 'dotant', 'les', 'individus', 'de', 'connaissances', 'et', 'de', 'compÃ©tences,', \"l'Ã©ducation\", 'contribue', 'Ã\\xa0', 'rÃ©duire', 'les', 'disparitÃ©s', 'socio-Ã©conomiques', 'et', 'Ã\\xa0', 'briser', 'le', 'cycle', 'de', 'la', 'pauvretÃ©.Par', 'ailleurs,', \"l'Ã©ducation\", 'est', 'essentielle', 'pour', 'cultiver', 'la', 'tolÃ©rance,', 'la', 'comprÃ©hension', 'et', 'le', 'respect'], ['La', 'rencontre', 'de', 'points', 'de', 'vue,', 'de', 'cultures', 'et', 'de', 'pensÃ©es', 'diversifiÃ©s', 'contribue', 'Ã\\xa0', 'dÃ©velopper', \"l'empathie\", 'et', 'Ã\\xa0', 'apprÃ©cier', 'la', 'richesse', 'de', \"l'expÃ©rience\", 'humaine'], ['GrÃ¢ce', 'Ã\\xa0', \"l'Ã©ducation,\", 'les', 'individus', 'apprennent', 'Ã\\xa0', 'apprÃ©cier', 'les', 'diffÃ©rences,', 'Ã\\xa0', 'remettre', 'en', 'question', 'les', 'stÃ©rÃ©otypes', 'et', 'Ã\\xa0', 'promouvoir', \"l'inclusivitÃ©,\", 'favorisant', 'ainsi', 'une', 'sociÃ©tÃ©', 'plus', 'harmonieuse', 'et', 'plus', 'juste.En', 'outre,', \"l'Ã©ducation\", 'est', 'cruciale', 'pour', 'le', 'dÃ©veloppement', 'Ã©conomique', 'et', 'la', 'prospÃ©ritÃ©'], ['Une', \"main-d'Å“uvre\", 'bien', 'Ã©duquÃ©e', 'stimule', \"l'innovation,\", 'accroÃ®t', 'la', 'productivitÃ©', 'et', 'stimule', 'la', 'croissance', 'Ã©conomique'], ['Les', 'pays', 'qui', 'valorisent', \"l'Ã©ducation\", 'investissent', 'dans', 'le', 'capital', 'humain,', 'jetant', 'ainsi', 'les', 'bases', 'du', 'dÃ©veloppement', 'durable', 'et', 'de', 'la', 'compÃ©titivitÃ©', 'dans', \"l'Ã©conomie\", 'mondiale.En', 'conclusion,', \"l'Ã©ducation\", \"n'est\", 'pas', 'seulement', 'un', 'privilÃ¨ge,', \"c'est\", 'aussi', 'un', 'droit', 'fondamental', 'et', 'un', 'fondement', 'du', 'progrÃ¨s'], ['Elle', 'donne', 'du', 'pouvoir', 'aux', 'individus,', 'favorise', \"l'Ã©galitÃ©,\", 'cultive', 'la', 'comprÃ©hension', 'et', 'stimule', 'le', 'dÃ©veloppement', 'Ã©conomique'], ['Alors', 'que', 'nous', 'nous', 'efforÃ§ons', 'de', 'bÃ¢tir', 'un', 'avenir', 'meilleur', 'pour', 'les', 'gÃ©nÃ©rations', 'futures,', 'investir', 'dans', \"l'Ã©ducation\", 'doit', 'toujours', 'Ãªtre', 'une', 'prioritÃ©', 'absolue.']]\n"
     ]
    }
   ],
   "source": [
    "print(\"Sentences are \", sentences)"
   ]
  },
  {
   "cell_type": "code",
   "execution_count": 30,
   "id": "dab78f50",
   "metadata": {},
   "outputs": [],
   "source": [
    "def sentence_similarity(sent1, sent2 ):\n",
    "    sent1 = [w.lower() for w in sent1]\n",
    "    sent2 = [w.lower() for w in sent2]\n",
    "    all_words = list(set(sent1 + sent2))\n",
    "    vector1 = [0] * len(all_words)\n",
    "    vector2 = [0] * len(all_words)\n",
    "# build the vector for the first sentence\n",
    "    for w in sent1:\n",
    "        vector1[all_words.index(w)] += 1\n",
    "# build the vector for the second sentence\n",
    "    for w in sent2:\n",
    "        vector2[all_words.index(w)] += 1\n",
    "    return 1 - cosine_distance(vector1, vector2)"
   ]
  },
  {
   "cell_type": "code",
   "execution_count": 31,
   "id": "362d1f9d",
   "metadata": {},
   "outputs": [],
   "source": [
    "similarity_matrix = np.zeros((len(sentences), len(sentences)))\n"
   ]
  },
  {
   "cell_type": "code",
   "execution_count": 32,
   "id": "e5bad08d",
   "metadata": {},
   "outputs": [],
   "source": [
    "for idx1 in range(len(sentences)):\n",
    "    for idx2 in range(len(sentences)):\n",
    "        if idx1 == idx2: #ignore if both are same sentences\n",
    "            continue\n",
    "        similarity_matrix[idx1][idx2] = sentence_similarity(sentences[idx1],sentences[idx2])"
   ]
  },
  {
   "cell_type": "code",
   "execution_count": 33,
   "id": "4877bbd9",
   "metadata": {},
   "outputs": [
    {
     "name": "stdout",
     "output_type": "stream",
     "text": [
      "Smilarity matrix \n",
      " [[0.         0.36380344 0.33407655 0.55901699 0.49497475 0.21437323\n",
      "  0.47245559 0.38890873 0.24618298 0.29462783 0.39735971 0.1875\n",
      "  0.2       ]\n",
      " [0.36380344 0.         0.29169168 0.40674461 0.30869745 0.16637807\n",
      "  0.39723602 0.37729689 0.23883257 0.28583098 0.32124628 0.42443734\n",
      "  0.04850713]\n",
      " [0.33407655 0.29169168 0.         0.50797216 0.37796447 0.43543179\n",
      "  0.52191215 0.58584493 0.2138343  0.09449112 0.23009751 0.13363062\n",
      "  0.24053512]\n",
      " [0.55901699 0.40674461 0.50797216 0.         0.45853026 0.46017899\n",
      "  0.59160798 0.64826692 0.33028913 0.26352314 0.25174827 0.19565595\n",
      "  0.13416408]\n",
      " [0.49497475 0.30869745 0.37796447 0.45853026 0.         0.24253563\n",
      "  0.51670507 0.4        0.34815531 0.2        0.37463432 0.28284271\n",
      "  0.1979899 ]\n",
      " [0.21437323 0.16637807 0.43543179 0.46017899 0.24253563 0.\n",
      "  0.38892223 0.46081769 0.21110017 0.08084521 0.1590088  0.12862394\n",
      "  0.17149859]\n",
      " [0.47245559 0.39723602 0.52191215 0.59160798 0.51670507 0.38892223\n",
      "  0.         0.57015732 0.52727439 0.26726124 0.36712586 0.28347335\n",
      "  0.20158105]\n",
      " [0.38890873 0.37729689 0.58584493 0.64826692 0.4        0.46081769\n",
      "  0.57015732 0.         0.29593202 0.2        0.20604888 0.14142136\n",
      "  0.14142136]\n",
      " [0.24618298 0.23883257 0.2138343  0.33028913 0.34815531 0.21110017\n",
      "  0.52727439 0.29593202 0.         0.2030906  0.29346959 0.21541011\n",
      "  0.14770979]\n",
      " [0.29462783 0.28583098 0.09449112 0.26352314 0.2        0.08084521\n",
      "  0.26726124 0.2        0.2030906  0.         0.12487811 0.35355339\n",
      "  0.04714045]\n",
      " [0.39735971 0.32124628 0.23009751 0.25174827 0.37463432 0.1590088\n",
      "  0.36712586 0.20604888 0.29346959 0.12487811 0.         0.23179316\n",
      "  0.26490647]\n",
      " [0.1875     0.42443734 0.13363062 0.19565595 0.28284271 0.12862394\n",
      "  0.28347335 0.14142136 0.21541011 0.35355339 0.23179316 0.\n",
      "  0.        ]\n",
      " [0.2        0.04850713 0.24053512 0.13416408 0.1979899  0.17149859\n",
      "  0.20158105 0.14142136 0.14770979 0.04714045 0.26490647 0.\n",
      "  0.        ]]\n"
     ]
    }
   ],
   "source": [
    "print(\"Smilarity matrix \\n\", similarity_matrix)"
   ]
  },
  {
   "cell_type": "code",
   "execution_count": 34,
   "id": "94e30ce0",
   "metadata": {},
   "outputs": [
    {
     "name": "stdout",
     "output_type": "stream",
     "text": [
      "scores {0: 0.08731396125153036, 1: 0.07773139168998205, 2: 0.08362793061687071, 3: 0.09900114044099413, 4: 0.0882507253810492, 5: 0.06798937520475473, 6: 0.10485382979535877, 7: 0.09169906985536808, 8: 0.07109891742407862, 9: 0.055447353252945364, 10: 0.07053233663142565, 11: 0.05849816759276789, 12: 0.043955800862874574}\n"
     ]
    }
   ],
   "source": [
    "sentence_similarity_graph =nx.from_numpy_array(similarity_matrix)\n",
    "scores = nx.pagerank(sentence_similarity_graph)\n",
    "print(\"scores\", scores)"
   ]
  },
  {
   "cell_type": "code",
   "execution_count": 35,
   "id": "1c097770",
   "metadata": {},
   "outputs": [
    {
     "name": "stdout",
     "output_type": "stream",
     "text": [
      "Indexes of top ranked_sentence order are \n",
      "\n",
      " [(0.10485382979535877, ['En', 'dotant', 'les', 'individus', 'de', 'connaissances', 'et', 'de', 'compÃ©tences,', \"l'Ã©ducation\", 'contribue', 'Ã\\xa0', 'rÃ©duire', 'les', 'disparitÃ©s', 'socio-Ã©conomiques', 'et', 'Ã\\xa0', 'briser', 'le', 'cycle', 'de', 'la', 'pauvretÃ©.Par', 'ailleurs,', \"l'Ã©ducation\", 'est', 'essentielle', 'pour', 'cultiver', 'la', 'tolÃ©rance,', 'la', 'comprÃ©hension', 'et', 'le', 'respect']), (0.09900114044099413, ['Par', 'le', 'biais', 'de', \"l'apprentissage,\", 'les', 'individus', 'acquiÃ¨rent', 'des', 'connaissances,', 'des', 'compÃ©tences', 'et', 'des', 'perspectives', 'qui', 'leur', 'donnent', 'la', 'capacitÃ©', 'de', 'faire', 'face', 'Ã\\xa0', 'la', 'complexitÃ©', 'de', 'la', 'vie', 'et', 'de', 'contribuer', 'de', 'maniÃ¨re', 'significative', 'Ã\\xa0', 'la', 'sociÃ©tÃ©']), (0.09169906985536808, ['La', 'rencontre', 'de', 'points', 'de', 'vue,', 'de', 'cultures', 'et', 'de', 'pensÃ©es', 'diversifiÃ©s', 'contribue', 'Ã\\xa0', 'dÃ©velopper', \"l'empathie\", 'et', 'Ã\\xa0', 'apprÃ©cier', 'la', 'richesse', 'de', \"l'expÃ©rience\", 'humaine']), (0.0882507253810492, [\"L'Ã©ducation\", 'Ã©largit', 'les', 'horizons,', 'cultive', 'la', 'pensÃ©e', 'critique', 'et', 'favorise', 'la', 'crÃ©ativitÃ©,', 'permettant', 'aux', 'individus', 'de', \"s'adapter\", 'Ã\\xa0', 'un', 'environnement', 'en', 'constante', 'Ã©volution', 'et', 'de', 'proposer', 'des', 'solutions', 'innovantes', 'aux', 'dÃ©fis', 'pressants.De', 'plus,', \"l'Ã©ducation\", 'est', 'un', 'grand', 'Ã©galisateur']), (0.08731396125153036, [\"L'Ã©ducation\", 'joue', 'un', 'rÃ´le', 'crucial', 'dans', 'la', 'formation', 'des', 'individus', 'et', 'de', 'la', 'sociÃ©tÃ©']), (0.08362793061687071, ['De', \"l'AntiquitÃ©\", 'Ã\\xa0', 'nos', 'jours,', \"l'Ã©ducation\", 'a', 'toujours', 'Ã©tÃ©', 'considÃ©rÃ©e', 'comme', 'la', 'clÃ©', 'pour', 'libÃ©rer', 'le', 'potentiel', 'humain', 'et', 'rÃ©aliser', 'de', 'grandes', 'choses.Une', 'raison', 'fondamentale', 'de', \"l'importance\", 'de', \"l'Ã©ducation\", 'est', 'son', 'pouvoir', 'de', 'transformation']), (0.07773139168998205, ['Elle', 'est', 'la', 'pierre', 'angulaire', 'du', 'progrÃ¨s,', 'du', 'dÃ©veloppement', 'et', 'de', 'la', 'prospÃ©ritÃ©']), (0.07109891742407862, ['GrÃ¢ce', 'Ã\\xa0', \"l'Ã©ducation,\", 'les', 'individus', 'apprennent', 'Ã\\xa0', 'apprÃ©cier', 'les', 'diffÃ©rences,', 'Ã\\xa0', 'remettre', 'en', 'question', 'les', 'stÃ©rÃ©otypes', 'et', 'Ã\\xa0', 'promouvoir', \"l'inclusivitÃ©,\", 'favorisant', 'ainsi', 'une', 'sociÃ©tÃ©', 'plus', 'harmonieuse', 'et', 'plus', 'juste.En', 'outre,', \"l'Ã©ducation\", 'est', 'cruciale', 'pour', 'le', 'dÃ©veloppement', 'Ã©conomique', 'et', 'la', 'prospÃ©ritÃ©']), (0.07053233663142565, ['Les', 'pays', 'qui', 'valorisent', \"l'Ã©ducation\", 'investissent', 'dans', 'le', 'capital', 'humain,', 'jetant', 'ainsi', 'les', 'bases', 'du', 'dÃ©veloppement', 'durable', 'et', 'de', 'la', 'compÃ©titivitÃ©', 'dans', \"l'Ã©conomie\", 'mondiale.En', 'conclusion,', \"l'Ã©ducation\", \"n'est\", 'pas', 'seulement', 'un', 'privilÃ¨ge,', \"c'est\", 'aussi', 'un', 'droit', 'fondamental', 'et', 'un', 'fondement', 'du', 'progrÃ¨s']), (0.06798937520475473, ['Quelle', 'que', 'soit', \"l'origine\", 'ou', 'le', 'milieu,', \"l'accÃ¨s\", 'Ã\\xa0', 'une', 'Ã©ducation', 'de', 'qualitÃ©', 'peut', 'nivelÃ©', 'le', 'terrain', 'de', 'jeu', 'et', 'offrir', 'des', 'opportunitÃ©s', 'de', 'mobilitÃ©', 'sociale']), (0.05849816759276789, ['Elle', 'donne', 'du', 'pouvoir', 'aux', 'individus,', 'favorise', \"l'Ã©galitÃ©,\", 'cultive', 'la', 'comprÃ©hension', 'et', 'stimule', 'le', 'dÃ©veloppement', 'Ã©conomique']), (0.055447353252945364, ['Une', \"main-d'Å“uvre\", 'bien', 'Ã©duquÃ©e', 'stimule', \"l'innovation,\", 'accroÃ®t', 'la', 'productivitÃ©', 'et', 'stimule', 'la', 'croissance', 'Ã©conomique']), (0.043955800862874574, ['Alors', 'que', 'nous', 'nous', 'efforÃ§ons', 'de', 'bÃ¢tir', 'un', 'avenir', 'meilleur', 'pour', 'les', 'gÃ©nÃ©rations', 'futures,', 'investir', 'dans', \"l'Ã©ducation\", 'doit', 'toujours', 'Ãªtre', 'une', 'prioritÃ©', 'absolue.'])]\n"
     ]
    }
   ],
   "source": [
    "ranked_sentence = sorted(((scores[i],s) for i,s in enumerate(sentences)), reverse=True)\n",
    "print(\"Indexes of top ranked_sentence order are \\n\\n\",ranked_sentence)"
   ]
  },
  {
   "cell_type": "code",
   "execution_count": 36,
   "id": "3f9b2802",
   "metadata": {},
   "outputs": [
    {
     "name": "stdout",
     "output_type": "stream",
     "text": [
      "How many sentences do you want in the summary? 2\n"
     ]
    }
   ],
   "source": [
    "n = int(input(\"How many sentences do you want in the summary? \"))\n",
    "#n=2\n",
    "summarize_text = []\n",
    "for i in range(n):\n",
    "    summarize_text.append(\" \".join(ranked_sentence[i][1]))"
   ]
  },
  {
   "cell_type": "code",
   "execution_count": 37,
   "id": "89936870",
   "metadata": {},
   "outputs": [
    {
     "name": "stdout",
     "output_type": "stream",
     "text": [
      "Summarize Text: \n",
      " En dotant les individus de connaissances et de compÃ©tences, l'Ã©ducation contribue Ã  rÃ©duire les disparitÃ©s socio-Ã©conomiques et Ã  briser le cycle de la pauvretÃ©.Par ailleurs, l'Ã©ducation est essentielle pour cultiver la tolÃ©rance, la comprÃ©hension et le respect. Par le biais de l'apprentissage, les individus acquiÃ¨rent des connaissances, des compÃ©tences et des perspectives qui leur donnent la capacitÃ© de faire face Ã  la complexitÃ© de la vie et de contribuer de maniÃ¨re significative Ã  la sociÃ©tÃ©\n"
     ]
    }
   ],
   "source": [
    "# Offcourse, output the summarize text\n",
    "print(\"Summarize Text: \\n\", \". \".join(summarize_text))\n"
   ]
  },
  {
   "cell_type": "markdown",
   "id": "6613f7e6",
   "metadata": {},
   "source": [
    "# text 4"
   ]
  },
  {
   "cell_type": "code",
   "execution_count": 38,
   "id": "cab0f65f",
   "metadata": {},
   "outputs": [
    {
     "name": "stdout",
     "output_type": "stream",
     "text": [
      "Collecting xx-ent-wiki-sm==3.7.0\n",
      "  Downloading https://github.com/explosion/spacy-models/releases/download/xx_ent_wiki_sm-3.7.0/xx_ent_wiki_sm-3.7.0-py3-none-any.whl (11.1 MB)\n",
      "     ---------------------------------------- 0.0/11.1 MB ? eta -:--:--\n",
      "     ---------------------------------------- 0.0/11.1 MB ? eta -:--:--\n",
      "     --------------------------------------- 0.0/11.1 MB 487.6 kB/s eta 0:00:23\n",
      "     --------------------------------------- 0.1/11.1 MB 819.2 kB/s eta 0:00:14\n",
      "     - -------------------------------------- 0.4/11.1 MB 2.0 MB/s eta 0:00:06\n",
      "     -- ------------------------------------- 0.7/11.1 MB 3.1 MB/s eta 0:00:04\n",
      "     ---- ----------------------------------- 1.3/11.1 MB 4.9 MB/s eta 0:00:02\n",
      "     ----- ---------------------------------- 1.6/11.1 MB 5.2 MB/s eta 0:00:02\n",
      "     ------- -------------------------------- 2.1/11.1 MB 5.9 MB/s eta 0:00:02\n",
      "     -------- ------------------------------- 2.4/11.1 MB 5.6 MB/s eta 0:00:02\n",
      "     --------- ------------------------------ 2.7/11.1 MB 6.0 MB/s eta 0:00:02\n",
      "     ----------- ---------------------------- 3.3/11.1 MB 6.5 MB/s eta 0:00:02\n",
      "     ------------- -------------------------- 3.8/11.1 MB 6.7 MB/s eta 0:00:02\n",
      "     -------------- ------------------------- 4.0/11.1 MB 6.9 MB/s eta 0:00:02\n",
      "     ----------------- ---------------------- 4.8/11.1 MB 7.3 MB/s eta 0:00:01\n",
      "     ------------------ --------------------- 5.0/11.1 MB 7.4 MB/s eta 0:00:01\n",
      "     -------------------- ------------------- 5.6/11.1 MB 7.6 MB/s eta 0:00:01\n",
      "     ---------------------- ----------------- 6.4/11.1 MB 8.0 MB/s eta 0:00:01\n",
      "     ------------------------ --------------- 6.7/11.1 MB 7.9 MB/s eta 0:00:01\n",
      "     ------------------------ --------------- 6.9/11.1 MB 7.7 MB/s eta 0:00:01\n",
      "     -------------------------- ------------- 7.3/11.1 MB 8.1 MB/s eta 0:00:01\n",
      "     --------------------------- ------------ 7.7/11.1 MB 7.8 MB/s eta 0:00:01\n",
      "     ----------------------------- ---------- 8.3/11.1 MB 8.0 MB/s eta 0:00:01\n",
      "     ------------------------------- -------- 8.7/11.1 MB 8.1 MB/s eta 0:00:01\n",
      "     --------------------------------- ------ 9.3/11.1 MB 8.2 MB/s eta 0:00:01\n",
      "     ----------------------------------- ---- 9.8/11.1 MB 8.3 MB/s eta 0:00:01\n",
      "     ------------------------------------- -- 10.4/11.1 MB 9.6 MB/s eta 0:00:01\n",
      "     ---------------------------------------  11.0/11.1 MB 9.9 MB/s eta 0:00:01\n",
      "     ---------------------------------------- 11.1/11.1 MB 9.8 MB/s eta 0:00:00\n",
      "Requirement already satisfied: spacy<3.8.0,>=3.7.0 in c:\\users\\mouni\\anaconda3\\lib\\site-packages (from xx-ent-wiki-sm==3.7.0) (3.7.4)\n",
      "Requirement already satisfied: spacy-legacy<3.1.0,>=3.0.11 in c:\\users\\mouni\\anaconda3\\lib\\site-packages (from spacy<3.8.0,>=3.7.0->xx-ent-wiki-sm==3.7.0) (3.0.12)\n",
      "Requirement already satisfied: spacy-loggers<2.0.0,>=1.0.0 in c:\\users\\mouni\\anaconda3\\lib\\site-packages (from spacy<3.8.0,>=3.7.0->xx-ent-wiki-sm==3.7.0) (1.0.5)\n",
      "Requirement already satisfied: murmurhash<1.1.0,>=0.28.0 in c:\\users\\mouni\\anaconda3\\lib\\site-packages (from spacy<3.8.0,>=3.7.0->xx-ent-wiki-sm==3.7.0) (1.0.10)\n",
      "Requirement already satisfied: cymem<2.1.0,>=2.0.2 in c:\\users\\mouni\\anaconda3\\lib\\site-packages (from spacy<3.8.0,>=3.7.0->xx-ent-wiki-sm==3.7.0) (2.0.8)\n",
      "Requirement already satisfied: preshed<3.1.0,>=3.0.2 in c:\\users\\mouni\\anaconda3\\lib\\site-packages (from spacy<3.8.0,>=3.7.0->xx-ent-wiki-sm==3.7.0) (3.0.9)\n",
      "Requirement already satisfied: thinc<8.3.0,>=8.2.2 in c:\\users\\mouni\\anaconda3\\lib\\site-packages (from spacy<3.8.0,>=3.7.0->xx-ent-wiki-sm==3.7.0) (8.2.3)\n",
      "Requirement already satisfied: wasabi<1.2.0,>=0.9.1 in c:\\users\\mouni\\anaconda3\\lib\\site-packages (from spacy<3.8.0,>=3.7.0->xx-ent-wiki-sm==3.7.0) (1.1.2)\n",
      "Requirement already satisfied: srsly<3.0.0,>=2.4.3 in c:\\users\\mouni\\anaconda3\\lib\\site-packages (from spacy<3.8.0,>=3.7.0->xx-ent-wiki-sm==3.7.0) (2.4.8)\n",
      "Requirement already satisfied: catalogue<2.1.0,>=2.0.6 in c:\\users\\mouni\\anaconda3\\lib\\site-packages (from spacy<3.8.0,>=3.7.0->xx-ent-wiki-sm==3.7.0) (2.0.10)\n",
      "Requirement already satisfied: weasel<0.4.0,>=0.1.0 in c:\\users\\mouni\\anaconda3\\lib\\site-packages (from spacy<3.8.0,>=3.7.0->xx-ent-wiki-sm==3.7.0) (0.3.4)\n",
      "Requirement already satisfied: typer<0.10.0,>=0.3.0 in c:\\users\\mouni\\anaconda3\\lib\\site-packages (from spacy<3.8.0,>=3.7.0->xx-ent-wiki-sm==3.7.0) (0.9.4)\n",
      "Requirement already satisfied: smart-open<7.0.0,>=5.2.1 in c:\\users\\mouni\\anaconda3\\lib\\site-packages (from spacy<3.8.0,>=3.7.0->xx-ent-wiki-sm==3.7.0) (5.2.1)\n",
      "Requirement already satisfied: tqdm<5.0.0,>=4.38.0 in c:\\users\\mouni\\anaconda3\\lib\\site-packages (from spacy<3.8.0,>=3.7.0->xx-ent-wiki-sm==3.7.0) (4.65.0)\n",
      "Requirement already satisfied: requests<3.0.0,>=2.13.0 in c:\\users\\mouni\\anaconda3\\lib\\site-packages (from spacy<3.8.0,>=3.7.0->xx-ent-wiki-sm==3.7.0) (2.31.0)\n",
      "Requirement already satisfied: pydantic!=1.8,!=1.8.1,<3.0.0,>=1.7.4 in c:\\users\\mouni\\anaconda3\\lib\\site-packages (from spacy<3.8.0,>=3.7.0->xx-ent-wiki-sm==3.7.0) (1.10.8)\n",
      "Requirement already satisfied: jinja2 in c:\\users\\mouni\\anaconda3\\lib\\site-packages (from spacy<3.8.0,>=3.7.0->xx-ent-wiki-sm==3.7.0) (3.1.2)\n",
      "Requirement already satisfied: setuptools in c:\\users\\mouni\\anaconda3\\lib\\site-packages (from spacy<3.8.0,>=3.7.0->xx-ent-wiki-sm==3.7.0) (68.0.0)\n",
      "Requirement already satisfied: packaging>=20.0 in c:\\users\\mouni\\anaconda3\\lib\\site-packages (from spacy<3.8.0,>=3.7.0->xx-ent-wiki-sm==3.7.0) (23.1)\n",
      "Requirement already satisfied: langcodes<4.0.0,>=3.2.0 in c:\\users\\mouni\\anaconda3\\lib\\site-packages (from spacy<3.8.0,>=3.7.0->xx-ent-wiki-sm==3.7.0) (3.4.0)\n",
      "Requirement already satisfied: numpy>=1.19.0 in c:\\users\\mouni\\anaconda3\\lib\\site-packages (from spacy<3.8.0,>=3.7.0->xx-ent-wiki-sm==3.7.0) (1.24.3)\n",
      "Requirement already satisfied: language-data>=1.2 in c:\\users\\mouni\\anaconda3\\lib\\site-packages (from langcodes<4.0.0,>=3.2.0->spacy<3.8.0,>=3.7.0->xx-ent-wiki-sm==3.7.0) (1.2.0)\n",
      "Requirement already satisfied: typing-extensions>=4.2.0 in c:\\users\\mouni\\anaconda3\\lib\\site-packages (from pydantic!=1.8,!=1.8.1,<3.0.0,>=1.7.4->spacy<3.8.0,>=3.7.0->xx-ent-wiki-sm==3.7.0) (4.7.1)\n",
      "Requirement already satisfied: charset-normalizer<4,>=2 in c:\\users\\mouni\\anaconda3\\lib\\site-packages (from requests<3.0.0,>=2.13.0->spacy<3.8.0,>=3.7.0->xx-ent-wiki-sm==3.7.0) (2.0.4)\n",
      "Requirement already satisfied: idna<4,>=2.5 in c:\\users\\mouni\\anaconda3\\lib\\site-packages (from requests<3.0.0,>=2.13.0->spacy<3.8.0,>=3.7.0->xx-ent-wiki-sm==3.7.0) (3.4)\n",
      "Requirement already satisfied: urllib3<3,>=1.21.1 in c:\\users\\mouni\\anaconda3\\lib\\site-packages (from requests<3.0.0,>=2.13.0->spacy<3.8.0,>=3.7.0->xx-ent-wiki-sm==3.7.0) (1.26.16)\n",
      "Requirement already satisfied: certifi>=2017.4.17 in c:\\users\\mouni\\anaconda3\\lib\\site-packages (from requests<3.0.0,>=2.13.0->spacy<3.8.0,>=3.7.0->xx-ent-wiki-sm==3.7.0) (2024.2.2)\n",
      "Requirement already satisfied: blis<0.8.0,>=0.7.8 in c:\\users\\mouni\\anaconda3\\lib\\site-packages (from thinc<8.3.0,>=8.2.2->spacy<3.8.0,>=3.7.0->xx-ent-wiki-sm==3.7.0) (0.7.11)\n",
      "Requirement already satisfied: confection<1.0.0,>=0.0.1 in c:\\users\\mouni\\anaconda3\\lib\\site-packages (from thinc<8.3.0,>=8.2.2->spacy<3.8.0,>=3.7.0->xx-ent-wiki-sm==3.7.0) (0.1.4)\n",
      "Requirement already satisfied: colorama in c:\\users\\mouni\\anaconda3\\lib\\site-packages (from tqdm<5.0.0,>=4.38.0->spacy<3.8.0,>=3.7.0->xx-ent-wiki-sm==3.7.0) (0.4.6)\n",
      "Requirement already satisfied: click<9.0.0,>=7.1.1 in c:\\users\\mouni\\anaconda3\\lib\\site-packages (from typer<0.10.0,>=0.3.0->spacy<3.8.0,>=3.7.0->xx-ent-wiki-sm==3.7.0) (8.0.4)\n",
      "Requirement already satisfied: cloudpathlib<0.17.0,>=0.7.0 in c:\\users\\mouni\\anaconda3\\lib\\site-packages (from weasel<0.4.0,>=0.1.0->spacy<3.8.0,>=3.7.0->xx-ent-wiki-sm==3.7.0) (0.16.0)\n",
      "Requirement already satisfied: MarkupSafe>=2.0 in c:\\users\\mouni\\anaconda3\\lib\\site-packages (from jinja2->spacy<3.8.0,>=3.7.0->xx-ent-wiki-sm==3.7.0) (2.1.1)\n",
      "Requirement already satisfied: marisa-trie>=0.7.7 in c:\\users\\mouni\\anaconda3\\lib\\site-packages (from language-data>=1.2->langcodes<4.0.0,>=3.2.0->spacy<3.8.0,>=3.7.0->xx-ent-wiki-sm==3.7.0) (1.1.0)\n",
      "\u001b[38;5;2m[+] Download and installation successful\u001b[0m\n",
      "You can now load the package via spacy.load('xx_ent_wiki_sm')\n"
     ]
    }
   ],
   "source": [
    "!python -m spacy download xx_ent_wiki_sm\n"
   ]
  },
  {
   "cell_type": "code",
   "execution_count": 40,
   "id": "6e0963ee",
   "metadata": {},
   "outputs": [],
   "source": [
    "file_path = r\"C:\\Users\\Mouni\\Downloads\\tamil text.txt\"\n",
    "with open(file_path, \"r\", encoding=\"utf-8\") as file:\n",
    "    filedata = file.readlines()\n",
    "    article = filedata[0].split(\". \")\n"
   ]
  },
  {
   "cell_type": "code",
   "execution_count": 41,
   "id": "1434e60f",
   "metadata": {},
   "outputs": [
    {
     "name": "stdout",
     "output_type": "stream",
     "text": [
      "தமிழ் பாரம்பரியம் மற்றும் கலாச்சாரம் அனைத்தும் தமிழர்களின் உயிர்மெய் செய்திகளை அடையாளம் செய்கின்றன\n",
      "அது வரலாற்றில் மிகப் பழைய நாட்களில் உருவாக்கப்பட்ட பெருமையான ஒரு நாடாகும்\n",
      "தமிழ் பாரம்பரியம் என்பது அதன் அடையாளங்கள், அறிவியல், கலை, வாழ்க்கை அறிவியல், மற்றும் அனைத்து பகுப்புகளையும் உள்ளடக்கி, அது ஒரு நாடுகளின் செய்திகளையும் செயல்படுத்துகிறது.தமிழ் பாரம்பரியத்தில் வாழும் மக்கள் முதுகலைகளை உடைத்து உழைக்கும் வாழ்க்கை முறைகள், அவர்கள் அறிவியல் மற்றும் கலைகள் அவர்கள் சமூகத்தை வளர்க்கும்\n",
      "இது அவர்கள் படித்து வாழ்வது முதுகலையாகும்\n",
      "இந்த பழைய வாழ்க்கை முறைகள் அவர்களின் உள்ளமையை அறிந்து அவர்களை மென்மையாகப் பயன்படுத்தும்.தமிழ் கலாச்சாரம் அதிகமாக நாடு, நகரம் மற்றும் கிராமங்களில் பாரம்பரிய விருந்துகளைக் கொண்டு நடைபெறுகின்றன\n",
      "இது தமிழ் உள்ளம் மற்றும் மக்கள் உரிமைகளை பற்றிய உள்ளமையை உயர்த்துகின்றது\n",
      "அவர்கள் அன்னையர், அச்சம், சந்தை மற்றும் அன்னைதாய் நகர்களில் சந்திக்கும் போது அவர்கள் உடைகளை மற்றும் உணவுகளை அனுப்புவது பலவாகும்\n",
      "இது ஒரு சமூகம் ஒரு உற்சாகமான அறிவு அறியப்படுகின்றது\n",
      "இது தமிழர்களின் மாநிலங்கள், அவர்களின் சமூகத்தின் நெற்றிகளை வெளிப்படுத்தும்.\n",
      "\n"
     ]
    }
   ],
   "source": [
    "sentences = []\n",
    "for sentence in article:\n",
    "    print(sentence)\n",
    "    sentences.append(sentence.replace(\"[^a-zA-Z]\", \" \").split(\" \"))"
   ]
  },
  {
   "cell_type": "code",
   "execution_count": 42,
   "id": "481e0913",
   "metadata": {},
   "outputs": [
    {
     "name": "stdout",
     "output_type": "stream",
     "text": [
      "Sentences are  [['தமிழ்', 'பாரம்பரியம்', 'மற்றும்', 'கலாச்சாரம்', 'அனைத்தும்', 'தமிழர்களின்', 'உயிர்மெய்', 'செய்திகளை', 'அடையாளம்', 'செய்கின்றன'], ['அது', 'வரலாற்றில்', 'மிகப்', 'பழைய', 'நாட்களில்', 'உருவாக்கப்பட்ட', 'பெருமையான', 'ஒரு', 'நாடாகும்'], ['தமிழ்', 'பாரம்பரியம்', 'என்பது', 'அதன்', 'அடையாளங்கள்,', 'அறிவியல்,', 'கலை,', 'வாழ்க்கை', 'அறிவியல்,', 'மற்றும்', 'அனைத்து', 'பகுப்புகளையும்', 'உள்ளடக்கி,', 'அது', 'ஒரு', 'நாடுகளின்', 'செய்திகளையும்', 'செயல்படுத்துகிறது.தமிழ்', 'பாரம்பரியத்தில்', 'வாழும்', 'மக்கள்', 'முதுகலைகளை', 'உடைத்து', 'உழைக்கும்', 'வாழ்க்கை', 'முறைகள்,', 'அவர்கள்', 'அறிவியல்', 'மற்றும்', 'கலைகள்', 'அவர்கள்', 'சமூகத்தை', 'வளர்க்கும்'], ['இது', 'அவர்கள்', 'படித்து', 'வாழ்வது', 'முதுகலையாகும்'], ['இந்த', 'பழைய', 'வாழ்க்கை', 'முறைகள்', 'அவர்களின்', 'உள்ளமையை', 'அறிந்து', 'அவர்களை', 'மென்மையாகப்', 'பயன்படுத்தும்.தமிழ்', 'கலாச்சாரம்', 'அதிகமாக', 'நாடு,', 'நகரம்', 'மற்றும்', 'கிராமங்களில்', 'பாரம்பரிய', 'விருந்துகளைக்', 'கொண்டு', 'நடைபெறுகின்றன'], ['இது', 'தமிழ்', 'உள்ளம்', 'மற்றும்', 'மக்கள்', 'உரிமைகளை', 'பற்றிய', 'உள்ளமையை', 'உயர்த்துகின்றது'], ['அவர்கள்', 'அன்னையர்,', 'அச்சம்,', 'சந்தை', 'மற்றும்', 'அன்னைதாய்', 'நகர்களில்', 'சந்திக்கும்', 'போது', 'அவர்கள்', 'உடைகளை', 'மற்றும்', 'உணவுகளை', 'அனுப்புவது', 'பலவாகும்'], ['இது', 'ஒரு', 'சமூகம்', 'ஒரு', 'உற்சாகமான', 'அறிவு', 'அறியப்படுகின்றது'], ['இது', 'தமிழர்களின்', 'மாநிலங்கள்,', 'அவர்களின்', 'சமூகத்தின்', 'நெற்றிகளை', 'வெளிப்படுத்தும்.\\n']]\n"
     ]
    }
   ],
   "source": [
    "print(\"Sentences are \", sentences)"
   ]
  },
  {
   "cell_type": "code",
   "execution_count": 43,
   "id": "d9a1490f",
   "metadata": {},
   "outputs": [],
   "source": [
    "def sentence_similarity(sent1, sent2 ):\n",
    "    sent1 = [w.lower() for w in sent1]\n",
    "    sent2 = [w.lower() for w in sent2]\n",
    "    all_words = list(set(sent1 + sent2))\n",
    "    vector1 = [0] * len(all_words)\n",
    "    vector2 = [0] * len(all_words)\n",
    "# build the vector for the first sentence\n",
    "    for w in sent1:\n",
    "        vector1[all_words.index(w)] += 1\n",
    "# build the vector for the second sentence\n",
    "    for w in sent2:\n",
    "        vector2[all_words.index(w)] += 1\n",
    "    return 1 - cosine_distance(vector1, vector2)"
   ]
  },
  {
   "cell_type": "code",
   "execution_count": 44,
   "id": "0076647c",
   "metadata": {},
   "outputs": [],
   "source": [
    "similarity_matrix = np.zeros((len(sentences), len(sentences)))\n"
   ]
  },
  {
   "cell_type": "code",
   "execution_count": 45,
   "id": "157962f0",
   "metadata": {},
   "outputs": [],
   "source": [
    "for idx1 in range(len(sentences)):\n",
    "    for idx2 in range(len(sentences)):\n",
    "        if idx1 == idx2: #ignore if both are same sentences\n",
    "            continue\n",
    "        similarity_matrix[idx1][idx2] = sentence_similarity(sentences[idx1],sentences[idx2])"
   ]
  },
  {
   "cell_type": "code",
   "execution_count": 46,
   "id": "1dbbad32",
   "metadata": {},
   "outputs": [
    {
     "name": "stdout",
     "output_type": "stream",
     "text": [
      "Smilarity matrix \n",
      " [[0.         0.         0.19754592 0.         0.14142136 0.21081851\n",
      "  0.14509525 0.         0.11952286]\n",
      " [0.         0.         0.10411584 0.         0.0745356  0.\n",
      "  0.         0.22222222 0.        ]\n",
      " [0.19754592 0.10411584 0.         0.13968606 0.13968606 0.20823168\n",
      "  0.28662975 0.10411584 0.        ]\n",
      " [0.         0.         0.13968606 0.         0.         0.1490712\n",
      "  0.20519567 0.1490712  0.16903085]\n",
      " [0.14142136 0.0745356  0.13968606 0.         0.         0.1490712\n",
      "  0.10259784 0.         0.08451543]\n",
      " [0.21081851 0.         0.20823168 0.1490712  0.1490712  0.\n",
      "  0.15294382 0.11111111 0.12598816]\n",
      " [0.14509525 0.         0.28662975 0.20519567 0.10259784 0.15294382\n",
      "  0.         0.         0.        ]\n",
      " [0.         0.22222222 0.10411584 0.1490712  0.         0.11111111\n",
      "  0.         0.         0.12598816]\n",
      " [0.11952286 0.         0.         0.16903085 0.08451543 0.12598816\n",
      "  0.         0.12598816 0.        ]]\n"
     ]
    }
   ],
   "source": [
    "print(\"Smilarity matrix \\n\", similarity_matrix)"
   ]
  },
  {
   "cell_type": "code",
   "execution_count": 47,
   "id": "653e2890",
   "metadata": {},
   "outputs": [
    {
     "name": "stdout",
     "output_type": "stream",
     "text": [
      "scores {0: 0.1105461008412191, 1: 0.06492309019445713, 2: 0.15567311959065386, 3: 0.11158486935123801, 4: 0.097631851140871, 5: 0.14623300490485983, 6: 0.11899211067892734, 7: 0.10426423001016241, 8: 0.09015162328761125}\n"
     ]
    }
   ],
   "source": [
    "sentence_similarity_graph =nx.from_numpy_array(similarity_matrix)\n",
    "scores = nx.pagerank(sentence_similarity_graph)\n",
    "print(\"scores\", scores)"
   ]
  },
  {
   "cell_type": "code",
   "execution_count": 48,
   "id": "6135e4cd",
   "metadata": {},
   "outputs": [
    {
     "name": "stdout",
     "output_type": "stream",
     "text": [
      "Indexes of top ranked_sentence order are \n",
      "\n",
      " [(0.15567311959065386, ['தமிழ்', 'பாரம்பரியம்', 'என்பது', 'அதன்', 'அடையாளங்கள்,', 'அறிவியல்,', 'கலை,', 'வாழ்க்கை', 'அறிவியல்,', 'மற்றும்', 'அனைத்து', 'பகுப்புகளையும்', 'உள்ளடக்கி,', 'அது', 'ஒரு', 'நாடுகளின்', 'செய்திகளையும்', 'செயல்படுத்துகிறது.தமிழ்', 'பாரம்பரியத்தில்', 'வாழும்', 'மக்கள்', 'முதுகலைகளை', 'உடைத்து', 'உழைக்கும்', 'வாழ்க்கை', 'முறைகள்,', 'அவர்கள்', 'அறிவியல்', 'மற்றும்', 'கலைகள்', 'அவர்கள்', 'சமூகத்தை', 'வளர்க்கும்']), (0.14623300490485983, ['இது', 'தமிழ்', 'உள்ளம்', 'மற்றும்', 'மக்கள்', 'உரிமைகளை', 'பற்றிய', 'உள்ளமையை', 'உயர்த்துகின்றது']), (0.11899211067892734, ['அவர்கள்', 'அன்னையர்,', 'அச்சம்,', 'சந்தை', 'மற்றும்', 'அன்னைதாய்', 'நகர்களில்', 'சந்திக்கும்', 'போது', 'அவர்கள்', 'உடைகளை', 'மற்றும்', 'உணவுகளை', 'அனுப்புவது', 'பலவாகும்']), (0.11158486935123801, ['இது', 'அவர்கள்', 'படித்து', 'வாழ்வது', 'முதுகலையாகும்']), (0.1105461008412191, ['தமிழ்', 'பாரம்பரியம்', 'மற்றும்', 'கலாச்சாரம்', 'அனைத்தும்', 'தமிழர்களின்', 'உயிர்மெய்', 'செய்திகளை', 'அடையாளம்', 'செய்கின்றன']), (0.10426423001016241, ['இது', 'ஒரு', 'சமூகம்', 'ஒரு', 'உற்சாகமான', 'அறிவு', 'அறியப்படுகின்றது']), (0.097631851140871, ['இந்த', 'பழைய', 'வாழ்க்கை', 'முறைகள்', 'அவர்களின்', 'உள்ளமையை', 'அறிந்து', 'அவர்களை', 'மென்மையாகப்', 'பயன்படுத்தும்.தமிழ்', 'கலாச்சாரம்', 'அதிகமாக', 'நாடு,', 'நகரம்', 'மற்றும்', 'கிராமங்களில்', 'பாரம்பரிய', 'விருந்துகளைக்', 'கொண்டு', 'நடைபெறுகின்றன']), (0.09015162328761125, ['இது', 'தமிழர்களின்', 'மாநிலங்கள்,', 'அவர்களின்', 'சமூகத்தின்', 'நெற்றிகளை', 'வெளிப்படுத்தும்.\\n']), (0.06492309019445713, ['அது', 'வரலாற்றில்', 'மிகப்', 'பழைய', 'நாட்களில்', 'உருவாக்கப்பட்ட', 'பெருமையான', 'ஒரு', 'நாடாகும்'])]\n"
     ]
    }
   ],
   "source": [
    "ranked_sentence = sorted(((scores[i],s) for i,s in enumerate(sentences)), reverse=True)\n",
    "print(\"Indexes of top ranked_sentence order are \\n\\n\",ranked_sentence)"
   ]
  },
  {
   "cell_type": "code",
   "execution_count": 49,
   "id": "8d2648ec",
   "metadata": {},
   "outputs": [
    {
     "name": "stdout",
     "output_type": "stream",
     "text": [
      "How many sentences do you want in the summary? 2\n"
     ]
    }
   ],
   "source": [
    "n = int(input(\"How many sentences do you want in the summary? \"))\n",
    "#n=2\n",
    "summarize_text = []\n",
    "for i in range(n):\n",
    "    summarize_text.append(\" \".join(ranked_sentence[i][1]))"
   ]
  },
  {
   "cell_type": "code",
   "execution_count": 50,
   "id": "42869ec9",
   "metadata": {},
   "outputs": [
    {
     "name": "stdout",
     "output_type": "stream",
     "text": [
      "Summarize Text: \n",
      " தமிழ் பாரம்பரியம் என்பது அதன் அடையாளங்கள், அறிவியல், கலை, வாழ்க்கை அறிவியல், மற்றும் அனைத்து பகுப்புகளையும் உள்ளடக்கி, அது ஒரு நாடுகளின் செய்திகளையும் செயல்படுத்துகிறது.தமிழ் பாரம்பரியத்தில் வாழும் மக்கள் முதுகலைகளை உடைத்து உழைக்கும் வாழ்க்கை முறைகள், அவர்கள் அறிவியல் மற்றும் கலைகள் அவர்கள் சமூகத்தை வளர்க்கும். இது தமிழ் உள்ளம் மற்றும் மக்கள் உரிமைகளை பற்றிய உள்ளமையை உயர்த்துகின்றது\n"
     ]
    }
   ],
   "source": [
    "# Offcourse, output the summarize text\n",
    "print(\"Summarize Text: \\n\", \". \".join(summarize_text))\n"
   ]
  },
  {
   "cell_type": "markdown",
   "id": "19da07d7",
   "metadata": {},
   "source": [
    "# text 5"
   ]
  },
  {
   "cell_type": "code",
   "execution_count": 51,
   "id": "40740eb7",
   "metadata": {},
   "outputs": [
    {
     "name": "stdout",
     "output_type": "stream",
     "text": [
      "Collecting xx-ent-wiki-sm==3.7.0\n",
      "  Using cached https://github.com/explosion/spacy-models/releases/download/xx_ent_wiki_sm-3.7.0/xx_ent_wiki_sm-3.7.0-py3-none-any.whl (11.1 MB)\n",
      "Requirement already satisfied: spacy<3.8.0,>=3.7.0 in c:\\users\\mouni\\anaconda3\\lib\\site-packages (from xx-ent-wiki-sm==3.7.0) (3.7.4)\n",
      "Requirement already satisfied: spacy-legacy<3.1.0,>=3.0.11 in c:\\users\\mouni\\anaconda3\\lib\\site-packages (from spacy<3.8.0,>=3.7.0->xx-ent-wiki-sm==3.7.0) (3.0.12)\n",
      "Requirement already satisfied: spacy-loggers<2.0.0,>=1.0.0 in c:\\users\\mouni\\anaconda3\\lib\\site-packages (from spacy<3.8.0,>=3.7.0->xx-ent-wiki-sm==3.7.0) (1.0.5)\n",
      "Requirement already satisfied: murmurhash<1.1.0,>=0.28.0 in c:\\users\\mouni\\anaconda3\\lib\\site-packages (from spacy<3.8.0,>=3.7.0->xx-ent-wiki-sm==3.7.0) (1.0.10)\n",
      "Requirement already satisfied: cymem<2.1.0,>=2.0.2 in c:\\users\\mouni\\anaconda3\\lib\\site-packages (from spacy<3.8.0,>=3.7.0->xx-ent-wiki-sm==3.7.0) (2.0.8)\n",
      "Requirement already satisfied: preshed<3.1.0,>=3.0.2 in c:\\users\\mouni\\anaconda3\\lib\\site-packages (from spacy<3.8.0,>=3.7.0->xx-ent-wiki-sm==3.7.0) (3.0.9)\n",
      "Requirement already satisfied: thinc<8.3.0,>=8.2.2 in c:\\users\\mouni\\anaconda3\\lib\\site-packages (from spacy<3.8.0,>=3.7.0->xx-ent-wiki-sm==3.7.0) (8.2.3)\n",
      "Requirement already satisfied: wasabi<1.2.0,>=0.9.1 in c:\\users\\mouni\\anaconda3\\lib\\site-packages (from spacy<3.8.0,>=3.7.0->xx-ent-wiki-sm==3.7.0) (1.1.2)\n",
      "Requirement already satisfied: srsly<3.0.0,>=2.4.3 in c:\\users\\mouni\\anaconda3\\lib\\site-packages (from spacy<3.8.0,>=3.7.0->xx-ent-wiki-sm==3.7.0) (2.4.8)\n",
      "Requirement already satisfied: catalogue<2.1.0,>=2.0.6 in c:\\users\\mouni\\anaconda3\\lib\\site-packages (from spacy<3.8.0,>=3.7.0->xx-ent-wiki-sm==3.7.0) (2.0.10)\n",
      "Requirement already satisfied: weasel<0.4.0,>=0.1.0 in c:\\users\\mouni\\anaconda3\\lib\\site-packages (from spacy<3.8.0,>=3.7.0->xx-ent-wiki-sm==3.7.0) (0.3.4)\n",
      "Requirement already satisfied: typer<0.10.0,>=0.3.0 in c:\\users\\mouni\\anaconda3\\lib\\site-packages (from spacy<3.8.0,>=3.7.0->xx-ent-wiki-sm==3.7.0) (0.9.4)\n",
      "Requirement already satisfied: smart-open<7.0.0,>=5.2.1 in c:\\users\\mouni\\anaconda3\\lib\\site-packages (from spacy<3.8.0,>=3.7.0->xx-ent-wiki-sm==3.7.0) (5.2.1)\n",
      "Requirement already satisfied: tqdm<5.0.0,>=4.38.0 in c:\\users\\mouni\\anaconda3\\lib\\site-packages (from spacy<3.8.0,>=3.7.0->xx-ent-wiki-sm==3.7.0) (4.65.0)\n",
      "Requirement already satisfied: requests<3.0.0,>=2.13.0 in c:\\users\\mouni\\anaconda3\\lib\\site-packages (from spacy<3.8.0,>=3.7.0->xx-ent-wiki-sm==3.7.0) (2.31.0)\n",
      "Requirement already satisfied: pydantic!=1.8,!=1.8.1,<3.0.0,>=1.7.4 in c:\\users\\mouni\\anaconda3\\lib\\site-packages (from spacy<3.8.0,>=3.7.0->xx-ent-wiki-sm==3.7.0) (1.10.8)\n",
      "Requirement already satisfied: jinja2 in c:\\users\\mouni\\anaconda3\\lib\\site-packages (from spacy<3.8.0,>=3.7.0->xx-ent-wiki-sm==3.7.0) (3.1.2)\n",
      "Requirement already satisfied: setuptools in c:\\users\\mouni\\anaconda3\\lib\\site-packages (from spacy<3.8.0,>=3.7.0->xx-ent-wiki-sm==3.7.0) (68.0.0)\n",
      "Requirement already satisfied: packaging>=20.0 in c:\\users\\mouni\\anaconda3\\lib\\site-packages (from spacy<3.8.0,>=3.7.0->xx-ent-wiki-sm==3.7.0) (23.1)\n",
      "Requirement already satisfied: langcodes<4.0.0,>=3.2.0 in c:\\users\\mouni\\anaconda3\\lib\\site-packages (from spacy<3.8.0,>=3.7.0->xx-ent-wiki-sm==3.7.0) (3.4.0)\n",
      "Requirement already satisfied: numpy>=1.19.0 in c:\\users\\mouni\\anaconda3\\lib\\site-packages (from spacy<3.8.0,>=3.7.0->xx-ent-wiki-sm==3.7.0) (1.24.3)\n",
      "Requirement already satisfied: language-data>=1.2 in c:\\users\\mouni\\anaconda3\\lib\\site-packages (from langcodes<4.0.0,>=3.2.0->spacy<3.8.0,>=3.7.0->xx-ent-wiki-sm==3.7.0) (1.2.0)\n",
      "Requirement already satisfied: typing-extensions>=4.2.0 in c:\\users\\mouni\\anaconda3\\lib\\site-packages (from pydantic!=1.8,!=1.8.1,<3.0.0,>=1.7.4->spacy<3.8.0,>=3.7.0->xx-ent-wiki-sm==3.7.0) (4.7.1)\n",
      "Requirement already satisfied: charset-normalizer<4,>=2 in c:\\users\\mouni\\anaconda3\\lib\\site-packages (from requests<3.0.0,>=2.13.0->spacy<3.8.0,>=3.7.0->xx-ent-wiki-sm==3.7.0) (2.0.4)\n",
      "Requirement already satisfied: idna<4,>=2.5 in c:\\users\\mouni\\anaconda3\\lib\\site-packages (from requests<3.0.0,>=2.13.0->spacy<3.8.0,>=3.7.0->xx-ent-wiki-sm==3.7.0) (3.4)\n",
      "Requirement already satisfied: urllib3<3,>=1.21.1 in c:\\users\\mouni\\anaconda3\\lib\\site-packages (from requests<3.0.0,>=2.13.0->spacy<3.8.0,>=3.7.0->xx-ent-wiki-sm==3.7.0) (1.26.16)\n",
      "Requirement already satisfied: certifi>=2017.4.17 in c:\\users\\mouni\\anaconda3\\lib\\site-packages (from requests<3.0.0,>=2.13.0->spacy<3.8.0,>=3.7.0->xx-ent-wiki-sm==3.7.0) (2024.2.2)\n",
      "Requirement already satisfied: blis<0.8.0,>=0.7.8 in c:\\users\\mouni\\anaconda3\\lib\\site-packages (from thinc<8.3.0,>=8.2.2->spacy<3.8.0,>=3.7.0->xx-ent-wiki-sm==3.7.0) (0.7.11)\n",
      "Requirement already satisfied: confection<1.0.0,>=0.0.1 in c:\\users\\mouni\\anaconda3\\lib\\site-packages (from thinc<8.3.0,>=8.2.2->spacy<3.8.0,>=3.7.0->xx-ent-wiki-sm==3.7.0) (0.1.4)\n",
      "Requirement already satisfied: colorama in c:\\users\\mouni\\anaconda3\\lib\\site-packages (from tqdm<5.0.0,>=4.38.0->spacy<3.8.0,>=3.7.0->xx-ent-wiki-sm==3.7.0) (0.4.6)\n",
      "Requirement already satisfied: click<9.0.0,>=7.1.1 in c:\\users\\mouni\\anaconda3\\lib\\site-packages (from typer<0.10.0,>=0.3.0->spacy<3.8.0,>=3.7.0->xx-ent-wiki-sm==3.7.0) (8.0.4)\n",
      "Requirement already satisfied: cloudpathlib<0.17.0,>=0.7.0 in c:\\users\\mouni\\anaconda3\\lib\\site-packages (from weasel<0.4.0,>=0.1.0->spacy<3.8.0,>=3.7.0->xx-ent-wiki-sm==3.7.0) (0.16.0)\n",
      "Requirement already satisfied: MarkupSafe>=2.0 in c:\\users\\mouni\\anaconda3\\lib\\site-packages (from jinja2->spacy<3.8.0,>=3.7.0->xx-ent-wiki-sm==3.7.0) (2.1.1)\n",
      "Requirement already satisfied: marisa-trie>=0.7.7 in c:\\users\\mouni\\anaconda3\\lib\\site-packages (from language-data>=1.2->langcodes<4.0.0,>=3.2.0->spacy<3.8.0,>=3.7.0->xx-ent-wiki-sm==3.7.0) (1.1.0)\n",
      "\u001b[38;5;2m[+] Download and installation successful\u001b[0m\n",
      "You can now load the package via spacy.load('xx_ent_wiki_sm')\n"
     ]
    }
   ],
   "source": [
    "!python -m spacy download xx_ent_wiki_sm\n"
   ]
  },
  {
   "cell_type": "code",
   "execution_count": 52,
   "id": "18c41ec7",
   "metadata": {},
   "outputs": [],
   "source": [
    "file_path = r\"C:\\Users\\Mouni\\Downloads\\gujarathi text.txt\"\n",
    "with open(file_path, \"r\", encoding=\"utf-8\") as file:\n",
    "    filedata = file.readlines()\n",
    "    article = filedata[0].split(\". \")\n"
   ]
  },
  {
   "cell_type": "code",
   "execution_count": 53,
   "id": "bb54489f",
   "metadata": {},
   "outputs": [
    {
     "name": "stdout",
     "output_type": "stream",
     "text": [
      "ભારતીય સંસ્કૃતિ અને પરંપરાઓ વિશ્વભરમાં ઘણાં માનવીય સમ્પદાનું ભાગ છે\n",
      "તેની સૌજન્યપૂર્ણતા, વિવિધતા, અને સમૃદ્ધિને સાકાર કરે છે\n",
      "ભારતીય સંસ્કૃતિ વિવિધ રીતે વિભજે છે, અને તેના પ્રત્યે વિવિધતા અને સમૃદ્ધિની સંજોગાર છે\n",
      "ગુજરાતી સંસ્કૃતિ એટલે આ ભારતીય સંસ્કૃતિનો એક ભાગ છે, જે પશ્ચિમ ભારતની ગુજરાત રાજ્યની સંસ્કૃતિક ધરોહર છે.ગુજરાતી સંસ્કૃતિ મનુષ્યની જીવનશૈલી, ભાવનાઓ અને સમાજને પ્રભાવિત કરતી છે\n",
      "તે સાંસ્કૃતિક વૈચારિક અને સામાજિક અંગોને આધારીત છે અને ગુજરાતના માણવાને એક શ્રેષ્ઠ માનવીય વાતાવરણ આપે છે.ગુજરાતી સંસ્કૃતિનો આદિકાલ હજારો વર્ષ પહેલાં શરૂ થયો હતો\n",
      "તે તેના મૌખિક અને અધ્યાત્મિક ધ્રુવનું પાલન કરે છે\n",
      "ગુજરાતી સંસ્કૃતિનો મુખ્ય લક્ષ્ય માનવના આધ્યાત્મિક અને સામાજિક વિકાસની સાધના કરવું છે.ગુજરાતી સંસ્કૃતિનો મૂળ વેદિક ધ્યેયનું પાલન કરે છે\n",
      "ગુજરાતી સંસ્કૃતિની પ્રમુખ મૂલ્યો આત્મનિષ્ઠતા, સંતુલન, સહનશીલતા, અને ધર્મનિષ્ઠતા છે.ગુજરાતી સંસ્કૃતિનો એક અન્ય મહત્વપૂર્ણ ઘટક હો ય છે ભાષા\n",
      "ગુજરાતી ભાષા એક સ્વતંત્ર ભાષા છે, જે ગુજરાતના લોકોની ભાવનાઓને પ્રકાશ આપે છે.ગુજરાતી સંસ્કૃતિનું અન્ય મહત્વપૂર્ણ અંગ લોકકળા છે\n",
      "ગુજરાતી લોકસંગીત, ગુજરાતી રંગભૂમિ, ગુજરાતી લોકનૃત્ય અને અન્ય લોકકળા ગુજરાતી સંસ્કૃતિનો પ્રમુખ અંગ છે.ગુજરાતી સંસ્કૃતિના મોટા મોટા ત્યોહારો છે, જે લોકોને આપણી સંસ્કૃતિ અને પરંપરાઓની અહમિયત યાદ કરાવે છે.ગુજરાતી સંસ્કૃતિ એક સંગીતમય, રંગમય અને રમજતુ સંસ્કૃતિ છે, જે લોકોની જીવનશૈલીને સાકાર કરે છે.આ સંસ્કૃતિને સંજોવા અને આજુબાજુના લોકોને પરિચય કરાવવા માટે વધુ શ્રમ કરવું જરૂરી છે\n",
      "આ સંસ્કૃતિને જીવંત અને અમર રાખવા લગભગ લોકોની જિમ્મેવારી છે\n",
      "ગુજરાતી સંસ્કૃતિ અને પરંપરાઓ એ લોકોની ભાવનાઓ, અભિવ્યક્તિઓ અને પરંપરાઓની એક રીત છે, જે હમણાં અમર રહેશે અને જેનો મહત્વ હમેશા રહેશે.\n"
     ]
    }
   ],
   "source": [
    "sentences = []\n",
    "for sentence in article:\n",
    "    print(sentence)\n",
    "    sentences.append(sentence.replace(\"[^a-zA-Z]\", \" \").split(\" \"))"
   ]
  },
  {
   "cell_type": "code",
   "execution_count": 54,
   "id": "8e4bb8fd",
   "metadata": {},
   "outputs": [
    {
     "name": "stdout",
     "output_type": "stream",
     "text": [
      "Sentences are  [['ભારતીય', 'સંસ્કૃતિ', 'અને', 'પરંપરાઓ', 'વિશ્વભરમાં', 'ઘણાં', 'માનવીય', 'સમ્પદાનું', 'ભાગ', 'છે'], ['તેની', 'સૌજન્યપૂર્ણતા,', 'વિવિધતા,', 'અને', 'સમૃદ્ધિને', 'સાકાર', 'કરે', 'છે'], ['ભારતીય', 'સંસ્કૃતિ', 'વિવિધ', 'રીતે', 'વિભજે', 'છે,', 'અને', 'તેના', 'પ્રત્યે', 'વિવિધતા', 'અને', 'સમૃદ્ધિની', 'સંજોગાર', 'છે'], ['ગુજરાતી', 'સંસ્કૃતિ', 'એટલે', 'આ', 'ભારતીય', 'સંસ્કૃતિનો', 'એક', 'ભાગ', 'છે,', 'જે', 'પશ્ચિમ', 'ભારતની', 'ગુજરાત', 'રાજ્યની', 'સંસ્કૃતિક', 'ધરોહર', 'છે.ગુજરાતી', 'સંસ્કૃતિ', 'મનુષ્યની', 'જીવનશૈલી,', 'ભાવનાઓ', 'અને', 'સમાજને', 'પ્રભાવિત', 'કરતી', 'છે'], ['તે', 'સાંસ્કૃતિક', 'વૈચારિક', 'અને', 'સામાજિક', 'અંગોને', 'આધારીત', 'છે', 'અને', 'ગુજરાતના', 'માણવાને', 'એક', 'શ્રેષ્ઠ', 'માનવીય', 'વાતાવરણ', 'આપે', 'છે.ગુજરાતી', 'સંસ્કૃતિનો', 'આદિકાલ', 'હજારો', 'વર્ષ', 'પહેલાં', 'શરૂ', 'થયો', 'હતો'], ['તે', 'તેના', 'મૌખિક', 'અને', 'અધ્યાત્મિક', 'ધ્રુવનું', 'પાલન', 'કરે', 'છે'], ['ગુજરાતી', 'સંસ્કૃતિનો', 'મુખ્ય', 'લક્ષ્ય', 'માનવના', 'આધ્યાત્મિક', 'અને', 'સામાજિક', 'વિકાસની', 'સાધના', 'કરવું', 'છે.ગુજરાતી', 'સંસ્કૃતિનો', 'મૂળ', 'વેદિક', 'ધ્યેયનું', 'પાલન', 'કરે', 'છે'], ['ગુજરાતી', 'સંસ્કૃતિની', 'પ્રમુખ', 'મૂલ્યો', 'આત્મનિષ્ઠતા,', 'સંતુલન,', 'સહનશીલતા,', 'અને', 'ધર્મનિષ્ઠતા', 'છે.ગુજરાતી', 'સંસ્કૃતિનો', 'એક', 'અન્ય', 'મહત્વપૂર્ણ', 'ઘટક', 'હો', 'ય', 'છે', 'ભાષા'], ['ગુજરાતી', 'ભાષા', 'એક', 'સ્વતંત્ર', 'ભાષા', 'છે,', 'જે', 'ગુજરાતના', 'લોકોની', 'ભાવનાઓને', 'પ્રકાશ', 'આપે', 'છે.ગુજરાતી', 'સંસ્કૃતિનું', 'અન્ય', 'મહત્વપૂર્ણ', 'અંગ', 'લોકકળા', 'છે'], ['ગુજરાતી', 'લોકસંગીત,', 'ગુજરાતી', 'રંગભૂમિ,', 'ગુજરાતી', 'લોકનૃત્ય', 'અને', 'અન્ય', 'લોકકળા', 'ગુજરાતી', 'સંસ્કૃતિનો', 'પ્રમુખ', 'અંગ', 'છે.ગુજરાતી', 'સંસ્કૃતિના', 'મોટા', 'મોટા', 'ત્યોહારો', 'છે,', 'જે', 'લોકોને', 'આપણી', 'સંસ્કૃતિ', 'અને', 'પરંપરાઓની', 'અહમિયત', 'યાદ', 'કરાવે', 'છે.ગુજરાતી', 'સંસ્કૃતિ', 'એક', 'સંગીતમય,', 'રંગમય', 'અને', 'રમજતુ', 'સંસ્કૃતિ', 'છે,', 'જે', 'લોકોની', 'જીવનશૈલીને', 'સાકાર', 'કરે', 'છે.આ', 'સંસ્કૃતિને', 'સંજોવા', 'અને', 'આજુબાજુના', 'લોકોને', 'પરિચય', 'કરાવવા', 'માટે', 'વધુ', 'શ્રમ', 'કરવું', 'જરૂરી', 'છે'], ['આ', 'સંસ્કૃતિને', 'જીવંત', 'અને', 'અમર', 'રાખવા', 'લગભગ', 'લોકોની', 'જિમ્મેવારી', 'છે'], ['ગુજરાતી', 'સંસ્કૃતિ', 'અને', 'પરંપરાઓ', 'એ', 'લોકોની', 'ભાવનાઓ,', 'અભિવ્યક્તિઓ', 'અને', 'પરંપરાઓની', 'એક', 'રીત', 'છે,', 'જે', 'હમણાં', 'અમર', 'રહેશે', 'અને', 'જેનો', 'મહત્વ', 'હમેશા', 'રહેશે.']]\n"
     ]
    }
   ],
   "source": [
    "print(\"Sentences are \", sentences)"
   ]
  },
  {
   "cell_type": "code",
   "execution_count": 55,
   "id": "f8d83db5",
   "metadata": {},
   "outputs": [],
   "source": [
    "def sentence_similarity(sent1, sent2 ):\n",
    "    sent1 = [w.lower() for w in sent1]\n",
    "    sent2 = [w.lower() for w in sent2]\n",
    "    all_words = list(set(sent1 + sent2))\n",
    "    vector1 = [0] * len(all_words)\n",
    "    vector2 = [0] * len(all_words)\n",
    "# build the vector for the first sentence\n",
    "    for w in sent1:\n",
    "        vector1[all_words.index(w)] += 1\n",
    "# build the vector for the second sentence\n",
    "    for w in sent2:\n",
    "        vector2[all_words.index(w)] += 1\n",
    "    return 1 - cosine_distance(vector1, vector2)"
   ]
  },
  {
   "cell_type": "code",
   "execution_count": 56,
   "id": "50a7bef4",
   "metadata": {},
   "outputs": [],
   "source": [
    "similarity_matrix = np.zeros((len(sentences), len(sentences)))\n"
   ]
  },
  {
   "cell_type": "code",
   "execution_count": 57,
   "id": "4a184278",
   "metadata": {},
   "outputs": [],
   "source": [
    "for idx1 in range(len(sentences)):\n",
    "    for idx2 in range(len(sentences)):\n",
    "        if idx1 == idx2: #ignore if both are same sentences\n",
    "            continue\n",
    "        similarity_matrix[idx1][idx2] = sentence_similarity(sentences[idx1],sentences[idx2])"
   ]
  },
  {
   "cell_type": "code",
   "execution_count": 58,
   "id": "3a13104c",
   "metadata": {},
   "outputs": [
    {
     "name": "stdout",
     "output_type": "stream",
     "text": [
      "Smilarity matrix \n",
      " [[0.         0.2236068  0.39528471 0.35856858 0.24343225 0.21081851\n",
      "  0.13801311 0.14509525 0.06900656 0.25819889 0.2        0.29880715]\n",
      " [0.2236068  0.         0.26516504 0.13363062 0.20412415 0.35355339\n",
      "  0.23145502 0.16222142 0.07715167 0.25259074 0.2236068  0.20044593]\n",
      " [0.39528471 0.26516504 0.         0.33071891 0.24056261 0.33333333\n",
      "  0.16366342 0.1720618  0.10910895 0.35721725 0.23717082 0.37796447]\n",
      " [0.35856858 0.13363062 0.33071891 0.         0.21821789 0.12598816\n",
      "  0.24743583 0.26013299 0.24743583 0.44362213 0.17928429 0.32142857]\n",
      " [0.24343225 0.20412415 0.24056261 0.21821789 0.         0.25660012\n",
      "  0.29397237 0.26490647 0.20998026 0.25534412 0.18257419 0.25458754]\n",
      " [0.21081851 0.35355339 0.33333333 0.12598816 0.25660012 0.\n",
      "  0.29095719 0.15294382 0.0727393  0.20412415 0.21081851 0.18898224]\n",
      " [0.13801311 0.23145502 0.16366342 0.24743583 0.29397237 0.29095719\n",
      "  0.         0.3003757  0.14285714 0.33407655 0.13801311 0.16495722]\n",
      " [0.14509525 0.16222142 0.1720618  0.26013299 0.26490647 0.15294382\n",
      "  0.3003757  0.         0.40050094 0.35121968 0.14509525 0.21677749]\n",
      " [0.06900656 0.07715167 0.10910895 0.24743583 0.20998026 0.0727393\n",
      "  0.14285714 0.40050094 0.         0.35634832 0.13801311 0.20619652]\n",
      " [0.25819889 0.25259074 0.35721725 0.44362213 0.25534412 0.20412415\n",
      "  0.33407655 0.35121968 0.35634832 0.         0.22592403 0.50148589]\n",
      " [0.2        0.2236068  0.23717082 0.17928429 0.18257419 0.21081851\n",
      "  0.13801311 0.14509525 0.13801311 0.22592403 0.         0.29880715]\n",
      " [0.29880715 0.20044593 0.37796447 0.32142857 0.25458754 0.18898224\n",
      "  0.16495722 0.21677749 0.20619652 0.50148589 0.29880715 0.        ]]\n"
     ]
    }
   ],
   "source": [
    "print(\"Smilarity matrix \\n\", similarity_matrix)"
   ]
  },
  {
   "cell_type": "code",
   "execution_count": 59,
   "id": "bc1d161a",
   "metadata": {},
   "outputs": [
    {
     "name": "stdout",
     "output_type": "stream",
     "text": [
      "scores {0: 0.08076055377887686, 1: 0.07522570038929029, 2: 0.09289763509982288, 3: 0.08967170953510016, 4: 0.08337321053308827, 5: 0.07726881972665443, 6: 0.07840873173848262, 7: 0.08197247490133229, 8: 0.06689446893249372, 9: 0.10826337985994446, 10: 0.07111389499494822, 11: 0.09414942050996565}\n"
     ]
    }
   ],
   "source": [
    "sentence_similarity_graph =nx.from_numpy_array(similarity_matrix)\n",
    "scores = nx.pagerank(sentence_similarity_graph)\n",
    "print(\"scores\", scores)"
   ]
  },
  {
   "cell_type": "code",
   "execution_count": 60,
   "id": "34a89b61",
   "metadata": {},
   "outputs": [
    {
     "name": "stdout",
     "output_type": "stream",
     "text": [
      "Indexes of top ranked_sentence order are \n",
      "\n",
      " [(0.10826337985994446, ['ગુજરાતી', 'લોકસંગીત,', 'ગુજરાતી', 'રંગભૂમિ,', 'ગુજરાતી', 'લોકનૃત્ય', 'અને', 'અન્ય', 'લોકકળા', 'ગુજરાતી', 'સંસ્કૃતિનો', 'પ્રમુખ', 'અંગ', 'છે.ગુજરાતી', 'સંસ્કૃતિના', 'મોટા', 'મોટા', 'ત્યોહારો', 'છે,', 'જે', 'લોકોને', 'આપણી', 'સંસ્કૃતિ', 'અને', 'પરંપરાઓની', 'અહમિયત', 'યાદ', 'કરાવે', 'છે.ગુજરાતી', 'સંસ્કૃતિ', 'એક', 'સંગીતમય,', 'રંગમય', 'અને', 'રમજતુ', 'સંસ્કૃતિ', 'છે,', 'જે', 'લોકોની', 'જીવનશૈલીને', 'સાકાર', 'કરે', 'છે.આ', 'સંસ્કૃતિને', 'સંજોવા', 'અને', 'આજુબાજુના', 'લોકોને', 'પરિચય', 'કરાવવા', 'માટે', 'વધુ', 'શ્રમ', 'કરવું', 'જરૂરી', 'છે']), (0.09414942050996565, ['ગુજરાતી', 'સંસ્કૃતિ', 'અને', 'પરંપરાઓ', 'એ', 'લોકોની', 'ભાવનાઓ,', 'અભિવ્યક્તિઓ', 'અને', 'પરંપરાઓની', 'એક', 'રીત', 'છે,', 'જે', 'હમણાં', 'અમર', 'રહેશે', 'અને', 'જેનો', 'મહત્વ', 'હમેશા', 'રહેશે.']), (0.09289763509982288, ['ભારતીય', 'સંસ્કૃતિ', 'વિવિધ', 'રીતે', 'વિભજે', 'છે,', 'અને', 'તેના', 'પ્રત્યે', 'વિવિધતા', 'અને', 'સમૃદ્ધિની', 'સંજોગાર', 'છે']), (0.08967170953510016, ['ગુજરાતી', 'સંસ્કૃતિ', 'એટલે', 'આ', 'ભારતીય', 'સંસ્કૃતિનો', 'એક', 'ભાગ', 'છે,', 'જે', 'પશ્ચિમ', 'ભારતની', 'ગુજરાત', 'રાજ્યની', 'સંસ્કૃતિક', 'ધરોહર', 'છે.ગુજરાતી', 'સંસ્કૃતિ', 'મનુષ્યની', 'જીવનશૈલી,', 'ભાવનાઓ', 'અને', 'સમાજને', 'પ્રભાવિત', 'કરતી', 'છે']), (0.08337321053308827, ['તે', 'સાંસ્કૃતિક', 'વૈચારિક', 'અને', 'સામાજિક', 'અંગોને', 'આધારીત', 'છે', 'અને', 'ગુજરાતના', 'માણવાને', 'એક', 'શ્રેષ્ઠ', 'માનવીય', 'વાતાવરણ', 'આપે', 'છે.ગુજરાતી', 'સંસ્કૃતિનો', 'આદિકાલ', 'હજારો', 'વર્ષ', 'પહેલાં', 'શરૂ', 'થયો', 'હતો']), (0.08197247490133229, ['ગુજરાતી', 'સંસ્કૃતિની', 'પ્રમુખ', 'મૂલ્યો', 'આત્મનિષ્ઠતા,', 'સંતુલન,', 'સહનશીલતા,', 'અને', 'ધર્મનિષ્ઠતા', 'છે.ગુજરાતી', 'સંસ્કૃતિનો', 'એક', 'અન્ય', 'મહત્વપૂર્ણ', 'ઘટક', 'હો', 'ય', 'છે', 'ભાષા']), (0.08076055377887686, ['ભારતીય', 'સંસ્કૃતિ', 'અને', 'પરંપરાઓ', 'વિશ્વભરમાં', 'ઘણાં', 'માનવીય', 'સમ્પદાનું', 'ભાગ', 'છે']), (0.07840873173848262, ['ગુજરાતી', 'સંસ્કૃતિનો', 'મુખ્ય', 'લક્ષ્ય', 'માનવના', 'આધ્યાત્મિક', 'અને', 'સામાજિક', 'વિકાસની', 'સાધના', 'કરવું', 'છે.ગુજરાતી', 'સંસ્કૃતિનો', 'મૂળ', 'વેદિક', 'ધ્યેયનું', 'પાલન', 'કરે', 'છે']), (0.07726881972665443, ['તે', 'તેના', 'મૌખિક', 'અને', 'અધ્યાત્મિક', 'ધ્રુવનું', 'પાલન', 'કરે', 'છે']), (0.07522570038929029, ['તેની', 'સૌજન્યપૂર્ણતા,', 'વિવિધતા,', 'અને', 'સમૃદ્ધિને', 'સાકાર', 'કરે', 'છે']), (0.07111389499494822, ['આ', 'સંસ્કૃતિને', 'જીવંત', 'અને', 'અમર', 'રાખવા', 'લગભગ', 'લોકોની', 'જિમ્મેવારી', 'છે']), (0.06689446893249372, ['ગુજરાતી', 'ભાષા', 'એક', 'સ્વતંત્ર', 'ભાષા', 'છે,', 'જે', 'ગુજરાતના', 'લોકોની', 'ભાવનાઓને', 'પ્રકાશ', 'આપે', 'છે.ગુજરાતી', 'સંસ્કૃતિનું', 'અન્ય', 'મહત્વપૂર્ણ', 'અંગ', 'લોકકળા', 'છે'])]\n"
     ]
    }
   ],
   "source": [
    "ranked_sentence = sorted(((scores[i],s) for i,s in enumerate(sentences)), reverse=True)\n",
    "print(\"Indexes of top ranked_sentence order are \\n\\n\",ranked_sentence)"
   ]
  },
  {
   "cell_type": "code",
   "execution_count": 61,
   "id": "f84e6f50",
   "metadata": {},
   "outputs": [
    {
     "name": "stdout",
     "output_type": "stream",
     "text": [
      "How many sentences do you want in the summary? 2\n"
     ]
    }
   ],
   "source": [
    "n = int(input(\"How many sentences do you want in the summary? \"))\n",
    "#n=2\n",
    "summarize_text = []\n",
    "for i in range(n):\n",
    "    summarize_text.append(\" \".join(ranked_sentence[i][1]))"
   ]
  },
  {
   "cell_type": "code",
   "execution_count": 62,
   "id": "5c0af60f",
   "metadata": {},
   "outputs": [
    {
     "name": "stdout",
     "output_type": "stream",
     "text": [
      "Summarize Text: \n",
      " ગુજરાતી લોકસંગીત, ગુજરાતી રંગભૂમિ, ગુજરાતી લોકનૃત્ય અને અન્ય લોકકળા ગુજરાતી સંસ્કૃતિનો પ્રમુખ અંગ છે.ગુજરાતી સંસ્કૃતિના મોટા મોટા ત્યોહારો છે, જે લોકોને આપણી સંસ્કૃતિ અને પરંપરાઓની અહમિયત યાદ કરાવે છે.ગુજરાતી સંસ્કૃતિ એક સંગીતમય, રંગમય અને રમજતુ સંસ્કૃતિ છે, જે લોકોની જીવનશૈલીને સાકાર કરે છે.આ સંસ્કૃતિને સંજોવા અને આજુબાજુના લોકોને પરિચય કરાવવા માટે વધુ શ્રમ કરવું જરૂરી છે. ગુજરાતી સંસ્કૃતિ અને પરંપરાઓ એ લોકોની ભાવનાઓ, અભિવ્યક્તિઓ અને પરંપરાઓની એક રીત છે, જે હમણાં અમર રહેશે અને જેનો મહત્વ હમેશા રહેશે.\n"
     ]
    }
   ],
   "source": [
    "# Offcourse, output the summarize text\n",
    "print(\"Summarize Text: \\n\", \". \".join(summarize_text))\n"
   ]
  }
 ],
 "metadata": {
  "kernelspec": {
   "display_name": "Python 3 (ipykernel)",
   "language": "python",
   "name": "python3"
  },
  "language_info": {
   "codemirror_mode": {
    "name": "ipython",
    "version": 3
   },
   "file_extension": ".py",
   "mimetype": "text/x-python",
   "name": "python",
   "nbconvert_exporter": "python",
   "pygments_lexer": "ipython3",
   "version": "3.11.5"
  }
 },
 "nbformat": 4,
 "nbformat_minor": 5
}
