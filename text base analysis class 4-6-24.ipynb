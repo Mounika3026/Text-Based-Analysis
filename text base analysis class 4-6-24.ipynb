{
 "cells": [
  {
   "cell_type": "markdown",
   "id": "01321500",
   "metadata": {},
   "source": [
    "#  Python strings"
   ]
  },
  {
   "cell_type": "code",
   "execution_count": 1,
   "id": "107d603e",
   "metadata": {},
   "outputs": [
    {
     "name": "stdout",
     "output_type": "stream",
     "text": [
      "Hello\n"
     ]
    }
   ],
   "source": [
    "a = \"Hello\"\n",
    "print(a)"
   ]
  },
  {
   "cell_type": "code",
   "execution_count": 3,
   "id": "ce73ad59",
   "metadata": {},
   "outputs": [
    {
     "name": "stdout",
     "output_type": "stream",
     "text": [
      "e\n"
     ]
    }
   ],
   "source": [
    "##  Accessing individual letters\n",
    "\n",
    "a = \"Hello, World!\"\n",
    "print(a[1])"
   ]
  },
  {
   "cell_type": "code",
   "execution_count": 5,
   "id": "dda8e6c7",
   "metadata": {},
   "outputs": [
    {
     "name": "stdout",
     "output_type": "stream",
     "text": [
      "llo\n"
     ]
    }
   ],
   "source": [
    "b = \"Hello, World!\"\n",
    "print(b[2:5])"
   ]
  },
  {
   "cell_type": "markdown",
   "id": "38bd9694",
   "metadata": {},
   "source": [
    "# String ConcatenATION"
   ]
  },
  {
   "cell_type": "code",
   "execution_count": 6,
   "id": "322addeb",
   "metadata": {},
   "outputs": [
    {
     "name": "stdout",
     "output_type": "stream",
     "text": [
      "HelloWorld\n"
     ]
    }
   ],
   "source": [
    "a = \"Hello\"\n",
    "b = \"World\"\n",
    "c = a+\"\"+b\n",
    "print(c)"
   ]
  },
  {
   "cell_type": "markdown",
   "id": "96ca9f42",
   "metadata": {},
   "source": [
    "# String Methods"
   ]
  },
  {
   "cell_type": "code",
   "execution_count": 8,
   "id": "491e86d2",
   "metadata": {},
   "outputs": [
    {
     "data": {
      "text/plain": [
       "True"
      ]
     },
     "execution_count": 8,
     "metadata": {},
     "output_type": "execute_result"
    }
   ],
   "source": [
    "## Returns true if the string contains only alphabetic letters or digits\n",
    "a.isalnum()"
   ]
  },
  {
   "cell_type": "code",
   "execution_count": 9,
   "id": "4c9758c9",
   "metadata": {},
   "outputs": [
    {
     "data": {
      "text/plain": [
       "True"
      ]
     },
     "execution_count": 9,
     "metadata": {},
     "output_type": "execute_result"
    }
   ],
   "source": [
    "## Returns true if the string contains only alphabetic letters\n",
    "a.isalpha() "
   ]
  },
  {
   "cell_type": "code",
   "execution_count": 10,
   "id": "b9711117",
   "metadata": {},
   "outputs": [
    {
     "data": {
      "text/plain": [
       "False"
      ]
     },
     "execution_count": 10,
     "metadata": {},
     "output_type": "execute_result"
    }
   ],
   "source": [
    "## Returns true if all of the alphabetic letters in the string are uppercase\n",
    "a.isupper()"
   ]
  },
  {
   "cell_type": "code",
   "execution_count": 12,
   "id": "fdedad0e",
   "metadata": {},
   "outputs": [
    {
     "data": {
      "text/plain": [
       "False"
      ]
     },
     "execution_count": 12,
     "metadata": {},
     "output_type": "execute_result"
    }
   ],
   "source": [
    "## Returns true if the string contains only whitespace characters\n",
    "b.isspace()"
   ]
  },
  {
   "cell_type": "code",
   "execution_count": 13,
   "id": "babc4ad9",
   "metadata": {},
   "outputs": [
    {
     "data": {
      "text/plain": [
       "'Hello'"
      ]
     },
     "execution_count": 13,
     "metadata": {},
     "output_type": "execute_result"
    }
   ],
   "source": [
    "## Returns a copy of the string with all leading whitespace characters removed.\n",
    "a.lstrip()"
   ]
  },
  {
   "cell_type": "code",
   "execution_count": 16,
   "id": "f138770e",
   "metadata": {},
   "outputs": [
    {
     "data": {
      "text/plain": [
       "'Hello'"
      ]
     },
     "execution_count": 16,
     "metadata": {},
     "output_type": "execute_result"
    }
   ],
   "source": [
    "## Returns a copy of the string with all leading and trailing whitespace characters removed\n",
    "a.strip()"
   ]
  },
  {
   "cell_type": "code",
   "execution_count": 25,
   "id": "b305de59",
   "metadata": {},
   "outputs": [
    {
     "data": {
      "text/plain": [
       "'ello World'"
      ]
     },
     "execution_count": 25,
     "metadata": {},
     "output_type": "execute_result"
    }
   ],
   "source": [
    "e = \"Hello World\"\n",
    "e.lstrip(\"H\")"
   ]
  },
  {
   "cell_type": "code",
   "execution_count": 27,
   "id": "0d5775a3",
   "metadata": {},
   "outputs": [
    {
     "data": {
      "text/plain": [
       "'Hello World'"
      ]
     },
     "execution_count": 27,
     "metadata": {},
     "output_type": "execute_result"
    }
   ],
   "source": [
    "e.strip(\"\")"
   ]
  },
  {
   "cell_type": "code",
   "execution_count": 28,
   "id": "9b54d40e",
   "metadata": {},
   "outputs": [
    {
     "data": {
      "text/plain": [
       "True"
      ]
     },
     "execution_count": 28,
     "metadata": {},
     "output_type": "execute_result"
    }
   ],
   "source": [
    "## returns true ifthe string ends with substring\n",
    "e.endswith(\"World\")"
   ]
  },
  {
   "cell_type": "code",
   "execution_count": 29,
   "id": "fa565af5",
   "metadata": {},
   "outputs": [
    {
     "data": {
      "text/plain": [
       "False"
      ]
     },
     "execution_count": 29,
     "metadata": {},
     "output_type": "execute_result"
    }
   ],
   "source": [
    "## returns true ifthe string starts with substring\n",
    "e.startswith(\"World\")"
   ]
  },
  {
   "cell_type": "code",
   "execution_count": 33,
   "id": "216bb628",
   "metadata": {},
   "outputs": [
    {
     "data": {
      "text/plain": [
       "6"
      ]
     },
     "execution_count": 33,
     "metadata": {},
     "output_type": "execute_result"
    }
   ],
   "source": [
    "## returns thelowest index in the string where substring is found\n",
    "e.find(\"W\")"
   ]
  },
  {
   "cell_type": "code",
   "execution_count": 34,
   "id": "97bbace4",
   "metadata": {},
   "outputs": [
    {
     "data": {
      "text/plain": [
       "'old is gold'"
      ]
     },
     "execution_count": 34,
     "metadata": {},
     "output_type": "execute_result"
    }
   ],
   "source": [
    "## Returns a copy of the string with all leading whitespace characters removed.\n",
    "name_a=\"                      old is gold\"\n",
    "name_a.lstrip()"
   ]
  },
  {
   "cell_type": "code",
   "execution_count": 39,
   "id": "1abfde82",
   "metadata": {},
   "outputs": [
    {
     "data": {
      "text/plain": [
       "'peter is a king'"
      ]
     },
     "execution_count": 39,
     "metadata": {},
     "output_type": "execute_result"
    }
   ],
   "source": [
    "## returns acopy of the string with all instances of old replaced by new\n",
    "f=\"peter is a prince\"\n",
    "f.replace(\"prince\",\"king\")"
   ]
  },
  {
   "cell_type": "markdown",
   "id": "55ce2180",
   "metadata": {},
   "source": [
    "# Splitting a String"
   ]
  },
  {
   "cell_type": "code",
   "execution_count": 41,
   "id": "a5e8c7ad",
   "metadata": {},
   "outputs": [
    {
     "data": {
      "text/plain": [
       "['one', 'two', 'three']"
      ]
     },
     "execution_count": 41,
     "metadata": {},
     "output_type": "execute_result"
    }
   ],
   "source": [
    "## returns a list containing the words inthe string\n",
    "my_list = 'one two three'\n",
    "word_list = my_list.split()\n",
    "word_list"
   ]
  },
  {
   "cell_type": "code",
   "execution_count": 43,
   "id": "615a6d4b",
   "metadata": {},
   "outputs": [
    {
     "data": {
      "text/plain": [
       "['4', '6', '2024']"
      ]
     },
     "execution_count": 43,
     "metadata": {},
     "output_type": "execute_result"
    }
   ],
   "source": [
    "my_list2 = '4/6/2024'\n",
    "word_list2 = my_list2.split('/')\n",
    "word_list2"
   ]
  },
  {
   "cell_type": "markdown",
   "id": "9da8dc90",
   "metadata": {},
   "source": [
    "# String Tokens"
   ]
  },
  {
   "cell_type": "code",
   "execution_count": 44,
   "id": "f2294ffb",
   "metadata": {},
   "outputs": [
    {
     "data": {
      "text/plain": [
       "['www', 'example', 'com']"
      ]
     },
     "execution_count": 44,
     "metadata": {},
     "output_type": "execute_result"
    }
   ],
   "source": [
    "##  breaking a string intotokens\n",
    "address = \"www.example.com\"\n",
    "tokens = address.split('.')\n",
    "tokens"
   ]
  },
  {
   "cell_type": "markdown",
   "id": "477cf41a",
   "metadata": {},
   "source": [
    "# Regular expressions"
   ]
  },
  {
   "cell_type": "code",
   "execution_count": 53,
   "id": "17809cee",
   "metadata": {},
   "outputs": [
    {
     "data": {
      "text/plain": [
       "['acb']"
      ]
     },
     "execution_count": 53,
     "metadata": {},
     "output_type": "execute_result"
    }
   ],
   "source": [
    "## String Matching Using Patterns\n",
    "\n",
    "import regex as re\n",
    "def tokenize(text):\n",
    "    return re.findall(r'a', text)\n",
    "x = tokenize(\"abcd 45abc abc% abc.com acbrx .=.abc.=. ab c cba ABC \")\n",
    "x"
   ]
  },
  {
   "cell_type": "markdown",
   "id": "5ef77013",
   "metadata": {},
   "source": [
    "# Groups and ranges"
   ]
  },
  {
   "cell_type": "code",
   "execution_count": 51,
   "id": "1cef4e8d",
   "metadata": {},
   "outputs": [
    {
     "data": {
      "text/plain": [
       "['gooey', 'moody', 'roody', 'goofy', 'loopy']"
      ]
     },
     "execution_count": 51,
     "metadata": {},
     "output_type": "execute_result"
    }
   ],
   "source": [
    "## (a dot) matches any character except \\n\n",
    "import regex as re\n",
    "def tokenize(text):\n",
    "    return re.findall(r'.oo.y', text)\n",
    "x = tokenize(\" abcd gooey moody broody goofy gummy mooooudy loopy ooy \")\n",
    "x"
   ]
  },
  {
   "cell_type": "code",
   "execution_count": 58,
   "id": "589382af",
   "metadata": {},
   "outputs": [
    {
     "data": {
      "text/plain": [
       "['abc.abc.com', 'abc.abc,com']"
      ]
     },
     "execution_count": 58,
     "metadata": {},
     "output_type": "execute_result"
    }
   ],
   "source": [
    "## Capturing the .\n",
    "\n",
    "import regex as re\n",
    "def tokenize(text):\n",
    "    return re.findall(r'abc\\.abc.com', text)\n",
    "x = tokenize(\"abc.abc.com abc.abc,com abc,abc.com ABC.abc.com \")\n",
    "x"
   ]
  },
  {
   "cell_type": "code",
   "execution_count": 59,
   "id": "bae5baf3",
   "metadata": {},
   "outputs": [
    {
     "name": "stdout",
     "output_type": "stream",
     "text": [
      "['The']\n",
      "[]\n"
     ]
    }
   ],
   "source": [
    "##   Groups and ranges\n",
    "##  matches the beginning of a line; $ the end\n",
    "\n",
    "import regex as re\n",
    "def tokenize(text):\n",
    "    return re.findall(r'^The', text)\n",
    "x = tokenize(\"Them \")\n",
    "print(x)\n",
    "y= tokenize(\"them\")\n",
    "print(y)"
   ]
  },
  {
   "cell_type": "code",
   "execution_count": 60,
   "id": "31a7ca4d",
   "metadata": {},
   "outputs": [
    {
     "name": "stdout",
     "output_type": "stream",
     "text": [
      "['Homer Simpson', 'Marge Simpson']\n",
      "['Homer', 'Marge']\n"
     ]
    }
   ],
   "source": [
    "##  Capture group ( )\n",
    "\n",
    "import regex as re\n",
    "def tokenize1(text):\n",
    "    return re.findall(r'Homer Simpson|Marge Simpson', text)\n",
    "def tokenize2(text):\n",
    "    return re.findall(r'(Homer|Marge) Simpson', text)\n",
    "x = tokenize1(\"Homer Williams Homer Simpson Marge Simpson\")\n",
    "print(x)\n",
    "x = tokenize2(\"Homer Williams Homer Simpson Marge Simpson\")\n",
    "print(x)"
   ]
  },
  {
   "cell_type": "code",
   "execution_count": 65,
   "id": "b7bbed9c",
   "metadata": {},
   "outputs": [
    {
     "name": "stdout",
     "output_type": "stream",
     "text": [
      "['abc', 'ab', 'abcccc', 'ab', 'abcccccccc', 'ab']\n"
     ]
    }
   ],
   "source": [
    "import regex as re\n",
    "def tokenize(text):\n",
    "    return re.findall(r'abc*', text)\n",
    "x = tokenize(\"abcd ab abcccc acb abbbbc abcccccccc fabulous\")\n",
    "print(x)"
   ]
  }
 ],
 "metadata": {
  "kernelspec": {
   "display_name": "Python 3 (ipykernel)",
   "language": "python",
   "name": "python3"
  },
  "language_info": {
   "codemirror_mode": {
    "name": "ipython",
    "version": 3
   },
   "file_extension": ".py",
   "mimetype": "text/x-python",
   "name": "python",
   "nbconvert_exporter": "python",
   "pygments_lexer": "ipython3",
   "version": "3.11.5"
  }
 },
 "nbformat": 4,
 "nbformat_minor": 5
}
