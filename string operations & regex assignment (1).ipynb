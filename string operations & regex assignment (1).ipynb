{
 "cells": [
  {
   "cell_type": "markdown",
   "id": "51d2a474",
   "metadata": {},
   "source": [
    "# Counting Substrings:"
   ]
  },
  {
   "cell_type": "code",
   "execution_count": 1,
   "id": "1182dad8",
   "metadata": {},
   "outputs": [
    {
     "name": "stdout",
     "output_type": "stream",
     "text": [
      "2\n"
     ]
    }
   ],
   "source": [
    "## Counts the number of occurrences of a substring within a string.\n",
    "\n",
    "my_string = \"parrot\"\n",
    "count_a = my_string.count(\"r\")\n",
    "print(count_a)  "
   ]
  },
  {
   "cell_type": "markdown",
   "id": "38977f6a",
   "metadata": {},
   "source": [
    "# Partitioning:"
   ]
  },
  {
   "cell_type": "code",
   "execution_count": 2,
   "id": "ad7d042b",
   "metadata": {},
   "outputs": [
    {
     "name": "stdout",
     "output_type": "stream",
     "text": [
      "apple\n",
      ",\n",
      "banana,orange\n"
     ]
    }
   ],
   "source": [
    "## Splits a string into three parts based on the first occurrence of a separator.\n",
    "\n",
    "my_string = \"apple,banana,orange\"\n",
    "first, separator, rest = my_string.partition(\",\")\n",
    "print(first)     \n",
    "print(separator) \n",
    "print(rest)      "
   ]
  },
  {
   "cell_type": "markdown",
   "id": "86c36fd7",
   "metadata": {},
   "source": [
    "# Centering, Justifying:"
   ]
  },
  {
   "cell_type": "code",
   "execution_count": 3,
   "id": "8a5b6dd3",
   "metadata": {},
   "outputs": [
    {
     "name": "stdout",
     "output_type": "stream",
     "text": [
      "  prince  \n"
     ]
    }
   ],
   "source": [
    "## Centers or justifies a string within a specified width by padding with spaces (or a specified character).\n",
    "\n",
    "y_string = \"prince\"\n",
    "centered = y_string.center(10)\n",
    "print(centered)        "
   ]
  },
  {
   "cell_type": "code",
   "execution_count": 4,
   "id": "eb4d5be9",
   "metadata": {},
   "outputs": [
    {
     "name": "stdout",
     "output_type": "stream",
     "text": [
      "hello     \n",
      "-----hello\n"
     ]
    }
   ],
   "source": [
    "y_string = \"hello\"\n",
    "left_justified = y_string.ljust(10)\n",
    "right_justified = y_string.rjust(10, \"-\")\n",
    "print(left_justified)  \n",
    "print(right_justified)"
   ]
  },
  {
   "cell_type": "markdown",
   "id": "3f44043f",
   "metadata": {},
   "source": [
    "# Swapping Case:"
   ]
  },
  {
   "cell_type": "code",
   "execution_count": 5,
   "id": "038d0067",
   "metadata": {},
   "outputs": [
    {
     "name": "stdout",
     "output_type": "stream",
     "text": [
      "prince is a king\n"
     ]
    }
   ],
   "source": [
    "## Converts uppercase characters to lowercase and vice versa.\n",
    "\n",
    "my_string = \"PRINCE IS A KING\"\n",
    "swapped_case = my_string.swapcase()\n",
    "print(swapped_case)  "
   ]
  },
  {
   "cell_type": "code",
   "execution_count": 6,
   "id": "421ccc41",
   "metadata": {},
   "outputs": [
    {
     "name": "stdout",
     "output_type": "stream",
     "text": [
      "7bc\n"
     ]
    }
   ],
   "source": [
    "## maketrans(): Creates a translation table for use with translate().\n",
    "## translate(table): Translates each character in the string using the given translation table.\n",
    "\n",
    "original_string = \"abc\"\n",
    "translation_table = str.maketrans(\"man\", \"678\")\n",
    "translated_string = original_string.translate(translation_table)\n",
    "print(translated_string)  \n"
   ]
  },
  {
   "cell_type": "markdown",
   "id": "ac4978d5",
   "metadata": {},
   "source": [
    "# Converting Case:"
   ]
  },
  {
   "cell_type": "code",
   "execution_count": 7,
   "id": "ca87ffb6",
   "metadata": {},
   "outputs": [
    {
     "name": "stdout",
     "output_type": "stream",
     "text": [
      "Sun rises in the east\n",
      "Sun Rises In The East\n"
     ]
    }
   ],
   "source": [
    "## capitalize(): Converts the first character of the string to uppercase.\n",
    "## title(): Converts the first character of each word in the string to uppercase.\n",
    "\n",
    "my_string = \"sun rises in the east\"\n",
    "capitalized = my_string.capitalize()\n",
    "titled = my_string.title()\n",
    "print(capitalized)  \n",
    "print(titled)       \n"
   ]
  },
  {
   "cell_type": "markdown",
   "id": "0b0d0ff0",
   "metadata": {},
   "source": [
    "# Zipping:"
   ]
  },
  {
   "cell_type": "code",
   "execution_count": 8,
   "id": "36804f8c",
   "metadata": {},
   "outputs": [
    {
     "name": "stdout",
     "output_type": "stream",
     "text": [
      "h8u7m6a5n4\n"
     ]
    }
   ],
   "source": [
    "## Merges two or more strings character by character.\n",
    "\n",
    "str1 = \"human\"\n",
    "str2 = \"87654\"\n",
    "zipped = ''.join([x + y for x, y in zip(str1, str2)])\n",
    "print(zipped)  "
   ]
  },
  {
   "cell_type": "markdown",
   "id": "3e5a3d15",
   "metadata": {},
   "source": [
    "# Pattern Matching Functions"
   ]
  },
  {
   "cell_type": "code",
   "execution_count": 9,
   "id": "b40e326c",
   "metadata": {},
   "outputs": [
    {
     "name": "stdout",
     "output_type": "stream",
     "text": [
      "world\n"
     ]
    }
   ],
   "source": [
    "import regex as re\n",
    "\n",
    "# search()\n",
    "result = re.search(r'world', 'hello world')\n",
    "print(result.group())  "
   ]
  },
  {
   "cell_type": "code",
   "execution_count": 10,
   "id": "0b2d6824",
   "metadata": {},
   "outputs": [
    {
     "name": "stdout",
     "output_type": "stream",
     "text": [
      "3\n",
      "5\n"
     ]
    }
   ],
   "source": [
    "# finditer()\n",
    "for match in re.finditer(r'\\d+', 'I have 3 apples and 5 oranges'):\n",
    "    print(match.group())  "
   ]
  },
  {
   "cell_type": "code",
   "execution_count": 11,
   "id": "351aaa0b",
   "metadata": {},
   "outputs": [
    {
     "name": "stdout",
     "output_type": "stream",
     "text": [
      "hello\n"
     ]
    }
   ],
   "source": [
    "# match()\n",
    "result = re.match(r'hello', 'hello world')\n",
    "print(result.group()) "
   ]
  },
  {
   "cell_type": "markdown",
   "id": "b02c601f",
   "metadata": {},
   "source": [
    "# Substitution Functions\n"
   ]
  },
  {
   "cell_type": "code",
   "execution_count": 12,
   "id": "9de4bda2",
   "metadata": {},
   "outputs": [
    {
     "name": "stdout",
     "output_type": "stream",
     "text": [
      "I have m apples and m oranges\n"
     ]
    }
   ],
   "source": [
    "# sub()\n",
    "new_string = re.sub(r'\\d+', 'm', 'I have 3 apples and 5 oranges')\n",
    "print(new_string)  \n"
   ]
  },
  {
   "cell_type": "code",
   "execution_count": 13,
   "id": "b8bbe119",
   "metadata": {},
   "outputs": [
    {
     "name": "stdout",
     "output_type": "stream",
     "text": [
      "I have X grapes and X bananas\n",
      "2\n"
     ]
    }
   ],
   "source": [
    "# subn()\n",
    "new_string, num_substitutions = re.subn(r'\\d+', 'X', 'I have 5 grapes and 8 bananas')\n",
    "print(new_string) \n",
    "print(num_substitutions)  "
   ]
  },
  {
   "cell_type": "markdown",
   "id": "18e90fff",
   "metadata": {},
   "source": [
    "# Compilation Functions"
   ]
  },
  {
   "cell_type": "code",
   "execution_count": 14,
   "id": "d03db2ba",
   "metadata": {},
   "outputs": [
    {
     "name": "stdout",
     "output_type": "stream",
     "text": [
      "['3', '5']\n"
     ]
    }
   ],
   "source": [
    "# compile()\n",
    "pattern = re.compile(r'\\d+')\n",
    "result = pattern.findall('I have 3 sweets and 5 chocolates')\n",
    "print(result)  \n"
   ]
  },
  {
   "cell_type": "markdown",
   "id": "2085f1b7",
   "metadata": {},
   "source": [
    "# Splitting Functions"
   ]
  },
  {
   "cell_type": "code",
   "execution_count": 15,
   "id": "c4fa1021",
   "metadata": {},
   "outputs": [
    {
     "name": "stdout",
     "output_type": "stream",
     "text": [
      "['Split', 'the', 'bills']\n"
     ]
    }
   ],
   "source": [
    "# split()\n",
    "result = re.split(r'\\s+', 'Split the bills')\n",
    "print(result)  "
   ]
  },
  {
   "cell_type": "markdown",
   "id": "ddd60bf1",
   "metadata": {},
   "source": [
    " # Utility Functions"
   ]
  },
  {
   "cell_type": "code",
   "execution_count": 16,
   "id": "2c675a0f",
   "metadata": {},
   "outputs": [
    {
     "name": "stdout",
     "output_type": "stream",
     "text": [
      "Special\\ characters\\ like\\ \\.\\ \\*\\ \\+\\ \\?\\ are\\ escaped\n"
     ]
    }
   ],
   "source": [
    "# escape()\n",
    "escaped_string = re.escape('Special characters like . * + ? are escaped')\n",
    "print(escaped_string)\n"
   ]
  }
 ],
 "metadata": {
  "kernelspec": {
   "display_name": "Python 3 (ipykernel)",
   "language": "python",
   "name": "python3"
  },
  "language_info": {
   "codemirror_mode": {
    "name": "ipython",
    "version": 3
   },
   "file_extension": ".py",
   "mimetype": "text/x-python",
   "name": "python",
   "nbconvert_exporter": "python",
   "pygments_lexer": "ipython3",
   "version": "3.11.5"
  }
 },
 "nbformat": 4,
 "nbformat_minor": 5
}
